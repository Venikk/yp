{
 "cells": [
  {
   "cell_type": "markdown",
   "metadata": {},
   "source": [
    "# Рекомендация тарифов"
   ]
  },
  {
   "cell_type": "markdown",
   "metadata": {},
   "source": [
    "В вашем распоряжении данные о поведении клиентов, которые уже перешли на эти тарифы (из проекта курса «Статистический анализ данных»). Нужно построить модель для задачи классификации, которая выберет подходящий тариф. Предобработка данных не понадобится — вы её уже сделали.\n",
    "\n",
    "Постройте модель с максимально большим значением *accuracy*. Чтобы сдать проект успешно, нужно довести долю правильных ответов по крайней мере до 0.75. Проверьте *accuracy* на тестовой выборке самостоятельно."
   ]
  },
  {
   "cell_type": "markdown",
   "metadata": {},
   "source": [
    "*Для начала необходимо импортировать все вспомогательные библиотеки (для импорта датафрейма, для работы с моделями, для их проверки и для построения графиков)*"
   ]
  },
  {
   "cell_type": "code",
   "execution_count": 1,
   "metadata": {},
   "outputs": [],
   "source": [
    "# Основная библиотека для импорта данных и создания вспомогательных таблиц\n",
    "import pandas as pd\n",
    "\n",
    "# Библиотека для разбиения датасета на выборки\n",
    "from sklearn.model_selection import train_test_split\n",
    "\n",
    "# Библиотеки для формирования моделей \n",
    "from sklearn.linear_model import LogisticRegression\n",
    "from sklearn.tree import DecisionTreeClassifier\n",
    "from sklearn.ensemble import RandomForestClassifier\n",
    "\n",
    "# Библиотеки для расчета метрик моделей\n",
    "from sklearn.metrics import accuracy_score\n",
    "from sklearn.metrics import mean_squared_error\n",
    "\n",
    "# Библиотеки для построения графиков\n",
    "import matplotlib.pyplot as plt\n",
    "import seaborn as sns"
   ]
  },
  {
   "cell_type": "markdown",
   "metadata": {},
   "source": [
    "## 1. Откройте и изучите файл"
   ]
  },
  {
   "cell_type": "markdown",
   "metadata": {},
   "source": [
    "*В этом разделе посмотрим на объем данных и на их содержание. Предполагаем, что преобразовывать данные нам не надо, соответственно у нас должен быть уже готовый датасет (как минимум, без пропусков)*"
   ]
  },
  {
   "cell_type": "code",
   "execution_count": 2,
   "metadata": {},
   "outputs": [
    {
     "name": "stdout",
     "output_type": "stream",
     "text": [
      "<class 'pandas.core.frame.DataFrame'>\n",
      "RangeIndex: 3214 entries, 0 to 3213\n",
      "Data columns (total 5 columns):\n",
      "calls       3214 non-null float64\n",
      "minutes     3214 non-null float64\n",
      "messages    3214 non-null float64\n",
      "mb_used     3214 non-null float64\n",
      "is_ultra    3214 non-null int64\n",
      "dtypes: float64(4), int64(1)\n",
      "memory usage: 125.7 KB\n"
     ]
    }
   ],
   "source": [
    "df = pd.read_csv('/datasets/users_behavior.csv')\n",
    "\n",
    "df.info()"
   ]
  },
  {
   "cell_type": "code",
   "execution_count": 3,
   "metadata": {},
   "outputs": [
    {
     "data": {
      "text/html": [
       "<div>\n",
       "<style scoped>\n",
       "    .dataframe tbody tr th:only-of-type {\n",
       "        vertical-align: middle;\n",
       "    }\n",
       "\n",
       "    .dataframe tbody tr th {\n",
       "        vertical-align: top;\n",
       "    }\n",
       "\n",
       "    .dataframe thead th {\n",
       "        text-align: right;\n",
       "    }\n",
       "</style>\n",
       "<table border=\"1\" class=\"dataframe\">\n",
       "  <thead>\n",
       "    <tr style=\"text-align: right;\">\n",
       "      <th></th>\n",
       "      <th>calls</th>\n",
       "      <th>minutes</th>\n",
       "      <th>messages</th>\n",
       "      <th>mb_used</th>\n",
       "      <th>is_ultra</th>\n",
       "    </tr>\n",
       "  </thead>\n",
       "  <tbody>\n",
       "    <tr>\n",
       "      <td>897</td>\n",
       "      <td>29.0</td>\n",
       "      <td>203.62</td>\n",
       "      <td>30.0</td>\n",
       "      <td>19527.95</td>\n",
       "      <td>0</td>\n",
       "    </tr>\n",
       "    <tr>\n",
       "      <td>2583</td>\n",
       "      <td>41.0</td>\n",
       "      <td>250.28</td>\n",
       "      <td>6.0</td>\n",
       "      <td>14495.76</td>\n",
       "      <td>0</td>\n",
       "    </tr>\n",
       "    <tr>\n",
       "      <td>2520</td>\n",
       "      <td>73.0</td>\n",
       "      <td>620.25</td>\n",
       "      <td>0.0</td>\n",
       "      <td>21098.49</td>\n",
       "      <td>0</td>\n",
       "    </tr>\n",
       "    <tr>\n",
       "      <td>2860</td>\n",
       "      <td>87.0</td>\n",
       "      <td>667.18</td>\n",
       "      <td>80.0</td>\n",
       "      <td>10683.75</td>\n",
       "      <td>1</td>\n",
       "    </tr>\n",
       "    <tr>\n",
       "      <td>1332</td>\n",
       "      <td>67.0</td>\n",
       "      <td>506.16</td>\n",
       "      <td>0.0</td>\n",
       "      <td>23867.03</td>\n",
       "      <td>1</td>\n",
       "    </tr>\n",
       "  </tbody>\n",
       "</table>\n",
       "</div>"
      ],
      "text/plain": [
       "      calls  minutes  messages   mb_used  is_ultra\n",
       "897    29.0   203.62      30.0  19527.95         0\n",
       "2583   41.0   250.28       6.0  14495.76         0\n",
       "2520   73.0   620.25       0.0  21098.49         0\n",
       "2860   87.0   667.18      80.0  10683.75         1\n",
       "1332   67.0   506.16       0.0  23867.03         1"
      ]
     },
     "execution_count": 3,
     "metadata": {},
     "output_type": "execute_result"
    }
   ],
   "source": [
    "df.sample(5)"
   ]
  },
  {
   "cell_type": "markdown",
   "metadata": {},
   "source": [
    "<font color=darkgreen><b>Анализ данных показал следующее:</b></font>\n",
    "\n",
    " 1. Датасет заполнен, пропусков нет.\n",
    " 2. Наименования колонок приведены к нормальному виду (без пропусков) и нижнему регистру.\n",
    " 3. Нам необходимо решить задачу классификации, т.е. в зависимости от поведения пользователя определить, какой тариф ему предлагать - **'Смарт'** или **'Ультра'**.\n",
    " 4. В качестве целевого параметра будем использовать колонку, **'is_ultra'**. "
   ]
  },
  {
   "cell_type": "markdown",
   "metadata": {},
   "source": [
    "## 2. Разбейте данные на выборки"
   ]
  },
  {
   "cell_type": "markdown",
   "metadata": {},
   "source": [
    "Т.к. у нас нет независимой тестовой выборки, разделим исходный общий датасет случайным образом на <font color=darkred><b>три группы</b></font> для формирования тренировочной, валидационной и тестовой выборок. Разбивать будем по принципу <font color=darkred><b>3:1:1 (три части - тренировочная выборка, и по одной на тестовую и валидационную)</b></font>.\n",
    "\n",
    "**Используем метод train_test_split. Сначала из общего датасета выделим тестовую выборку (20% от общей). Затем разобъем оставшииеся данные на две части в пропорци 75% (тренировочная выборка) и 25% (валидационная выборка).**"
   ]
  },
  {
   "cell_type": "code",
   "execution_count": 4,
   "metadata": {},
   "outputs": [
    {
     "name": "stdout",
     "output_type": "stream",
     "text": [
      "<class 'pandas.core.frame.DataFrame'>\n",
      "Int64Index: 643 entries, 1415 to 1196\n",
      "Data columns (total 5 columns):\n",
      "calls       643 non-null float64\n",
      "minutes     643 non-null float64\n",
      "messages    643 non-null float64\n",
      "mb_used     643 non-null float64\n",
      "is_ultra    643 non-null int64\n",
      "dtypes: float64(4), int64(1)\n",
      "memory usage: 30.1 KB\n"
     ]
    }
   ],
   "source": [
    "# выделим тестовую выборку и посмотрим на нее\n",
    "df_train_valid, df_test = train_test_split(df, test_size=0.20, random_state=12345)\n",
    "\n",
    "df_test.info()"
   ]
  },
  {
   "cell_type": "code",
   "execution_count": 5,
   "metadata": {},
   "outputs": [
    {
     "data": {
      "text/html": [
       "<div>\n",
       "<style scoped>\n",
       "    .dataframe tbody tr th:only-of-type {\n",
       "        vertical-align: middle;\n",
       "    }\n",
       "\n",
       "    .dataframe tbody tr th {\n",
       "        vertical-align: top;\n",
       "    }\n",
       "\n",
       "    .dataframe thead th {\n",
       "        text-align: right;\n",
       "    }\n",
       "</style>\n",
       "<table border=\"1\" class=\"dataframe\">\n",
       "  <thead>\n",
       "    <tr style=\"text-align: right;\">\n",
       "      <th></th>\n",
       "      <th>calls</th>\n",
       "      <th>minutes</th>\n",
       "      <th>messages</th>\n",
       "      <th>mb_used</th>\n",
       "      <th>is_ultra</th>\n",
       "    </tr>\n",
       "  </thead>\n",
       "  <tbody>\n",
       "    <tr>\n",
       "      <td>2073</td>\n",
       "      <td>44.0</td>\n",
       "      <td>394.88</td>\n",
       "      <td>10.0</td>\n",
       "      <td>3513.29</td>\n",
       "      <td>0</td>\n",
       "    </tr>\n",
       "    <tr>\n",
       "      <td>1552</td>\n",
       "      <td>105.0</td>\n",
       "      <td>724.57</td>\n",
       "      <td>158.0</td>\n",
       "      <td>39930.07</td>\n",
       "      <td>1</td>\n",
       "    </tr>\n",
       "    <tr>\n",
       "      <td>3145</td>\n",
       "      <td>23.0</td>\n",
       "      <td>130.53</td>\n",
       "      <td>15.0</td>\n",
       "      <td>6939.99</td>\n",
       "      <td>0</td>\n",
       "    </tr>\n",
       "    <tr>\n",
       "      <td>1052</td>\n",
       "      <td>39.0</td>\n",
       "      <td>240.63</td>\n",
       "      <td>14.0</td>\n",
       "      <td>4049.96</td>\n",
       "      <td>1</td>\n",
       "    </tr>\n",
       "    <tr>\n",
       "      <td>2913</td>\n",
       "      <td>84.0</td>\n",
       "      <td>588.71</td>\n",
       "      <td>67.0</td>\n",
       "      <td>22456.40</td>\n",
       "      <td>0</td>\n",
       "    </tr>\n",
       "  </tbody>\n",
       "</table>\n",
       "</div>"
      ],
      "text/plain": [
       "      calls  minutes  messages   mb_used  is_ultra\n",
       "2073   44.0   394.88      10.0   3513.29         0\n",
       "1552  105.0   724.57     158.0  39930.07         1\n",
       "3145   23.0   130.53      15.0   6939.99         0\n",
       "1052   39.0   240.63      14.0   4049.96         1\n",
       "2913   84.0   588.71      67.0  22456.40         0"
      ]
     },
     "execution_count": 5,
     "metadata": {},
     "output_type": "execute_result"
    }
   ],
   "source": [
    "df_test.sample(5)"
   ]
  },
  {
   "cell_type": "code",
   "execution_count": 6,
   "metadata": {},
   "outputs": [
    {
     "name": "stdout",
     "output_type": "stream",
     "text": [
      "<class 'pandas.core.frame.DataFrame'>\n",
      "Int64Index: 1928 entries, 2656 to 510\n",
      "Data columns (total 5 columns):\n",
      "calls       1928 non-null float64\n",
      "minutes     1928 non-null float64\n",
      "messages    1928 non-null float64\n",
      "mb_used     1928 non-null float64\n",
      "is_ultra    1928 non-null int64\n",
      "dtypes: float64(4), int64(1)\n",
      "memory usage: 90.4 KB\n"
     ]
    }
   ],
   "source": [
    "# оставшуюся выборку разобъем на тренировочную и валидационную\n",
    "df_train, df_valid = train_test_split(df_train_valid, test_size=0.25, random_state=12345)\n",
    "\n",
    "df_train.info()"
   ]
  },
  {
   "cell_type": "code",
   "execution_count": 7,
   "metadata": {},
   "outputs": [
    {
     "data": {
      "text/html": [
       "<div>\n",
       "<style scoped>\n",
       "    .dataframe tbody tr th:only-of-type {\n",
       "        vertical-align: middle;\n",
       "    }\n",
       "\n",
       "    .dataframe tbody tr th {\n",
       "        vertical-align: top;\n",
       "    }\n",
       "\n",
       "    .dataframe thead th {\n",
       "        text-align: right;\n",
       "    }\n",
       "</style>\n",
       "<table border=\"1\" class=\"dataframe\">\n",
       "  <thead>\n",
       "    <tr style=\"text-align: right;\">\n",
       "      <th></th>\n",
       "      <th>calls</th>\n",
       "      <th>minutes</th>\n",
       "      <th>messages</th>\n",
       "      <th>mb_used</th>\n",
       "      <th>is_ultra</th>\n",
       "    </tr>\n",
       "  </thead>\n",
       "  <tbody>\n",
       "    <tr>\n",
       "      <td>2814</td>\n",
       "      <td>80.0</td>\n",
       "      <td>554.10</td>\n",
       "      <td>17.0</td>\n",
       "      <td>10823.78</td>\n",
       "      <td>0</td>\n",
       "    </tr>\n",
       "    <tr>\n",
       "      <td>85</td>\n",
       "      <td>90.0</td>\n",
       "      <td>633.11</td>\n",
       "      <td>61.0</td>\n",
       "      <td>21561.54</td>\n",
       "      <td>0</td>\n",
       "    </tr>\n",
       "    <tr>\n",
       "      <td>2237</td>\n",
       "      <td>12.0</td>\n",
       "      <td>93.20</td>\n",
       "      <td>0.0</td>\n",
       "      <td>9037.67</td>\n",
       "      <td>1</td>\n",
       "    </tr>\n",
       "    <tr>\n",
       "      <td>2758</td>\n",
       "      <td>61.0</td>\n",
       "      <td>452.35</td>\n",
       "      <td>57.0</td>\n",
       "      <td>20224.40</td>\n",
       "      <td>0</td>\n",
       "    </tr>\n",
       "    <tr>\n",
       "      <td>2368</td>\n",
       "      <td>82.0</td>\n",
       "      <td>539.18</td>\n",
       "      <td>46.0</td>\n",
       "      <td>16021.77</td>\n",
       "      <td>0</td>\n",
       "    </tr>\n",
       "  </tbody>\n",
       "</table>\n",
       "</div>"
      ],
      "text/plain": [
       "      calls  minutes  messages   mb_used  is_ultra\n",
       "2814   80.0   554.10      17.0  10823.78         0\n",
       "85     90.0   633.11      61.0  21561.54         0\n",
       "2237   12.0    93.20       0.0   9037.67         1\n",
       "2758   61.0   452.35      57.0  20224.40         0\n",
       "2368   82.0   539.18      46.0  16021.77         0"
      ]
     },
     "execution_count": 7,
     "metadata": {},
     "output_type": "execute_result"
    }
   ],
   "source": [
    "df_train.sample(5)"
   ]
  },
  {
   "cell_type": "code",
   "execution_count": 8,
   "metadata": {},
   "outputs": [
    {
     "name": "stdout",
     "output_type": "stream",
     "text": [
      "<class 'pandas.core.frame.DataFrame'>\n",
      "Int64Index: 643 entries, 2699 to 1806\n",
      "Data columns (total 5 columns):\n",
      "calls       643 non-null float64\n",
      "minutes     643 non-null float64\n",
      "messages    643 non-null float64\n",
      "mb_used     643 non-null float64\n",
      "is_ultra    643 non-null int64\n",
      "dtypes: float64(4), int64(1)\n",
      "memory usage: 30.1 KB\n"
     ]
    }
   ],
   "source": [
    "df_valid.info()"
   ]
  },
  {
   "cell_type": "code",
   "execution_count": 9,
   "metadata": {},
   "outputs": [
    {
     "data": {
      "text/html": [
       "<div>\n",
       "<style scoped>\n",
       "    .dataframe tbody tr th:only-of-type {\n",
       "        vertical-align: middle;\n",
       "    }\n",
       "\n",
       "    .dataframe tbody tr th {\n",
       "        vertical-align: top;\n",
       "    }\n",
       "\n",
       "    .dataframe thead th {\n",
       "        text-align: right;\n",
       "    }\n",
       "</style>\n",
       "<table border=\"1\" class=\"dataframe\">\n",
       "  <thead>\n",
       "    <tr style=\"text-align: right;\">\n",
       "      <th></th>\n",
       "      <th>calls</th>\n",
       "      <th>minutes</th>\n",
       "      <th>messages</th>\n",
       "      <th>mb_used</th>\n",
       "      <th>is_ultra</th>\n",
       "    </tr>\n",
       "  </thead>\n",
       "  <tbody>\n",
       "    <tr>\n",
       "      <td>1769</td>\n",
       "      <td>50.0</td>\n",
       "      <td>320.63</td>\n",
       "      <td>60.0</td>\n",
       "      <td>19331.57</td>\n",
       "      <td>0</td>\n",
       "    </tr>\n",
       "    <tr>\n",
       "      <td>1632</td>\n",
       "      <td>4.0</td>\n",
       "      <td>19.85</td>\n",
       "      <td>28.0</td>\n",
       "      <td>13107.42</td>\n",
       "      <td>0</td>\n",
       "    </tr>\n",
       "    <tr>\n",
       "      <td>1028</td>\n",
       "      <td>72.0</td>\n",
       "      <td>445.20</td>\n",
       "      <td>53.0</td>\n",
       "      <td>18696.44</td>\n",
       "      <td>1</td>\n",
       "    </tr>\n",
       "    <tr>\n",
       "      <td>3020</td>\n",
       "      <td>31.0</td>\n",
       "      <td>213.57</td>\n",
       "      <td>47.0</td>\n",
       "      <td>31112.79</td>\n",
       "      <td>1</td>\n",
       "    </tr>\n",
       "    <tr>\n",
       "      <td>658</td>\n",
       "      <td>48.0</td>\n",
       "      <td>325.93</td>\n",
       "      <td>37.0</td>\n",
       "      <td>13603.07</td>\n",
       "      <td>0</td>\n",
       "    </tr>\n",
       "  </tbody>\n",
       "</table>\n",
       "</div>"
      ],
      "text/plain": [
       "      calls  minutes  messages   mb_used  is_ultra\n",
       "1769   50.0   320.63      60.0  19331.57         0\n",
       "1632    4.0    19.85      28.0  13107.42         0\n",
       "1028   72.0   445.20      53.0  18696.44         1\n",
       "3020   31.0   213.57      47.0  31112.79         1\n",
       "658    48.0   325.93      37.0  13603.07         0"
      ]
     },
     "execution_count": 9,
     "metadata": {},
     "output_type": "execute_result"
    }
   ],
   "source": [
    "df_valid.sample(5)"
   ]
  },
  {
   "cell_type": "markdown",
   "metadata": {},
   "source": [
    "В результате разбиения <font color=orange><b>из общей выборки в 3 214 строк</b></font>, получилось <font color=orange><b>две выборки по 643 строки (для валидации и тестирования)</b></font> и <font color=orange><b>одна выборка для тренировки моделей (1 928) строк</b></font>."
   ]
  },
  {
   "cell_type": "markdown",
   "metadata": {},
   "source": [
    "## 3. Исследуйте модели"
   ]
  },
  {
   "cell_type": "markdown",
   "metadata": {},
   "source": [
    "Для нашего исследования мы возьмем три варианта моделей, подходящих для решения задачи классификации: модель **логистической регрессии**, модель **'Дерево решений'** и модель **'Случайный лес'**.\n",
    "\n",
    "Модель логистической регрессии не подлежит переобучению, поэтому для нее не требуется подбор гиперпараметров. Для двух остальных подберем наиболее значимые параметры. Для дерева решений возьмем **гиперпараметр 'Глубина дерева' (просчитаем варианты от 1 до 50)**, а для модели 'Случайный лес' - **гиперпараметр 'Количество оценщиков' (варианты от 1 до 30)**.\n",
    "\n",
    "<font color=darkred><b>Мы обучем эти модели при помощи одинакового набора данных (тренировочной выборки) и на валидационной выборке оценим точность каждой из них.</b></font> \n",
    "\n",
    "<font color=darkblue><b>В дальнейшую работу возьмем по одной модели каждого вида, с теми параметрами, которые дадут наибольшую точность прогнозирования (accuracy) на валидационной выборке.</b></font>"
   ]
  },
  {
   "cell_type": "code",
   "execution_count": 10,
   "metadata": {},
   "outputs": [],
   "source": [
    "# Формируем свойства и цели для тренировочной выборки\n",
    "train_features = df_train.drop(['is_ultra'], axis=1)\n",
    "train_target = df_train['is_ultra']\n",
    "\n",
    "# Формируем свойства и цели для валидационной выборки\n",
    "valid_features = df_valid.drop(['is_ultra'], axis=1)\n",
    "valid_target = df_valid['is_ultra']\n",
    "\n",
    "# Формируем свойства и цели для тестовой выборки\n",
    "test_features = df_test.drop(['is_ultra'], axis=1)\n",
    "test_target = df_test['is_ultra']"
   ]
  },
  {
   "cell_type": "code",
   "execution_count": 11,
   "metadata": {},
   "outputs": [],
   "source": [
    "# Создадим сравнительный датасет\n",
    "compare = {'model_name' : [],\n",
    "           'hyperparam_name' : [],\n",
    "           'hyperparam_value' : [],\n",
    "           'accuracy' : [],\n",
    "           'mce' : [],\n",
    "           'rmce' : []\n",
    "           }\n",
    "\n",
    "compare_data_valid = pd.DataFrame(compare)"
   ]
  },
  {
   "cell_type": "code",
   "execution_count": 12,
   "metadata": {},
   "outputs": [
    {
     "name": "stderr",
     "output_type": "stream",
     "text": [
      "/opt/conda/lib/python3.7/site-packages/sklearn/linear_model/logistic.py:432: FutureWarning: Default solver will be changed to 'lbfgs' in 0.22. Specify a solver to silence this warning.\n",
      "  FutureWarning)\n"
     ]
    },
    {
     "data": {
      "text/html": [
       "<div>\n",
       "<style scoped>\n",
       "    .dataframe tbody tr th:only-of-type {\n",
       "        vertical-align: middle;\n",
       "    }\n",
       "\n",
       "    .dataframe tbody tr th {\n",
       "        vertical-align: top;\n",
       "    }\n",
       "\n",
       "    .dataframe thead th {\n",
       "        text-align: right;\n",
       "    }\n",
       "</style>\n",
       "<table border=\"1\" class=\"dataframe\">\n",
       "  <thead>\n",
       "    <tr style=\"text-align: right;\">\n",
       "      <th></th>\n",
       "      <th>model_name</th>\n",
       "      <th>accuracy</th>\n",
       "    </tr>\n",
       "  </thead>\n",
       "  <tbody>\n",
       "    <tr>\n",
       "      <td>0</td>\n",
       "      <td>Логистическая регрессия</td>\n",
       "      <td>0.696734</td>\n",
       "    </tr>\n",
       "  </tbody>\n",
       "</table>\n",
       "</div>"
      ],
      "text/plain": [
       "                model_name  accuracy\n",
       "0  Логистическая регрессия  0.696734"
      ]
     },
     "execution_count": 12,
     "metadata": {},
     "output_type": "execute_result"
    }
   ],
   "source": [
    "# Логистическая регрессия (создание модели)\n",
    "model_logistic_regression = LogisticRegression(random_state=12345)\n",
    "model_logistic_regression.fit(train_features, train_target)\n",
    "\n",
    "valid_model_logistic_regression_predictions = model_logistic_regression.predict(valid_features)\n",
    "\n",
    "accuracy_model_logistic_regression = accuracy_score(valid_target, valid_model_logistic_regression_predictions)\n",
    "\n",
    "msk_model_logistic_regression = mean_squared_error(valid_target,valid_model_logistic_regression_predictions)\n",
    "\n",
    "compare_data_valid = compare_data_valid.append(pd.DataFrame([['Логистическая регрессия', \n",
    "                                                              '',\n",
    "                                                              0, \n",
    "                                                              accuracy_model_logistic_regression,\n",
    "                                                              msk_model_logistic_regression,\n",
    "                                                              msk_model_logistic_regression**0.5]], \n",
    "                                                              columns = ['model_name', \n",
    "                                                                         'hyperparam_name', \n",
    "                                                                         'hyperparam_value', \n",
    "                                                                         'accuracy',\n",
    "                                                                         'mce',\n",
    "                                                                         'rmce']),\n",
    "                                                              ignore_index=True)\n",
    "\n",
    "compare_data_valid[['model_name','accuracy']]"
   ]
  },
  {
   "cell_type": "code",
   "execution_count": 13,
   "metadata": {},
   "outputs": [
    {
     "data": {
      "text/html": [
       "<div>\n",
       "<style scoped>\n",
       "    .dataframe tbody tr th:only-of-type {\n",
       "        vertical-align: middle;\n",
       "    }\n",
       "\n",
       "    .dataframe tbody tr th {\n",
       "        vertical-align: top;\n",
       "    }\n",
       "\n",
       "    .dataframe thead th {\n",
       "        text-align: right;\n",
       "    }\n",
       "</style>\n",
       "<table border=\"1\" class=\"dataframe\">\n",
       "  <thead>\n",
       "    <tr style=\"text-align: right;\">\n",
       "      <th></th>\n",
       "      <th>model_name</th>\n",
       "      <th>hyperparam_name</th>\n",
       "      <th>hyperparam_value</th>\n",
       "      <th>accuracy</th>\n",
       "    </tr>\n",
       "  </thead>\n",
       "  <tbody>\n",
       "    <tr>\n",
       "      <td>0</td>\n",
       "      <td>Логистическая регрессия</td>\n",
       "      <td></td>\n",
       "      <td>0.0</td>\n",
       "      <td>0.696734</td>\n",
       "    </tr>\n",
       "    <tr>\n",
       "      <td>1</td>\n",
       "      <td>Дерево решений</td>\n",
       "      <td>max_depth</td>\n",
       "      <td>7.0</td>\n",
       "      <td>0.774495</td>\n",
       "    </tr>\n",
       "  </tbody>\n",
       "</table>\n",
       "</div>"
      ],
      "text/plain": [
       "                model_name hyperparam_name  hyperparam_value  accuracy\n",
       "0  Логистическая регрессия                               0.0  0.696734\n",
       "1           Дерево решений       max_depth               7.0  0.774495"
      ]
     },
     "execution_count": 13,
     "metadata": {},
     "output_type": "execute_result"
    }
   ],
   "source": [
    "# Дерево решений (подбор параметров)\n",
    "\n",
    "best_accuracy = 0\n",
    "\n",
    "for depth in range(1, 50):\n",
    "    \n",
    "    model_tree = DecisionTreeClassifier(random_state=12345, max_depth = depth)\n",
    "    model_tree.fit(train_features, train_target)\n",
    "    \n",
    "    valid_model_tree_predictions = model_tree.predict(valid_features)\n",
    "\n",
    "    accuracy_model_tree = accuracy_score(valid_target, valid_model_tree_predictions)\n",
    "    \n",
    "    msk_model_tree = mean_squared_error(valid_target,valid_model_tree_predictions)\n",
    "    \n",
    "    if best_accuracy < accuracy_model_tree:\n",
    "        best_accuracy = accuracy_model_tree\n",
    "        best_depth = depth\n",
    "        best_msk = msk_model_tree\n",
    "        best_model_tree = model_tree\n",
    "        \n",
    "compare_data_valid = compare_data_valid.append(pd.DataFrame([['Дерево решений', \n",
    "                                                              'max_depth',\n",
    "                                                              best_depth, \n",
    "                                                              best_accuracy,\n",
    "                                                              best_msk,\n",
    "                                                              best_msk**0.5]], \n",
    "                                                              columns = ['model_name', \n",
    "                                                                         'hyperparam_name', \n",
    "                                                                         'hyperparam_value', \n",
    "                                                                         'accuracy',\n",
    "                                                                         'mce',\n",
    "                                                                         'rmce']),\n",
    "                                                              ignore_index=True)\n",
    "\n",
    "compare_data_valid[['model_name','hyperparam_name','hyperparam_value','accuracy']]"
   ]
  },
  {
   "cell_type": "code",
   "execution_count": 14,
   "metadata": {},
   "outputs": [
    {
     "data": {
      "text/html": [
       "<div>\n",
       "<style scoped>\n",
       "    .dataframe tbody tr th:only-of-type {\n",
       "        vertical-align: middle;\n",
       "    }\n",
       "\n",
       "    .dataframe tbody tr th {\n",
       "        vertical-align: top;\n",
       "    }\n",
       "\n",
       "    .dataframe thead th {\n",
       "        text-align: right;\n",
       "    }\n",
       "</style>\n",
       "<table border=\"1\" class=\"dataframe\">\n",
       "  <thead>\n",
       "    <tr style=\"text-align: right;\">\n",
       "      <th></th>\n",
       "      <th>model_name</th>\n",
       "      <th>hyperparam_name</th>\n",
       "      <th>hyperparam_value</th>\n",
       "      <th>accuracy</th>\n",
       "    </tr>\n",
       "  </thead>\n",
       "  <tbody>\n",
       "    <tr>\n",
       "      <td>0</td>\n",
       "      <td>Логистическая регрессия</td>\n",
       "      <td></td>\n",
       "      <td>0.0</td>\n",
       "      <td>0.696734</td>\n",
       "    </tr>\n",
       "    <tr>\n",
       "      <td>1</td>\n",
       "      <td>Дерево решений</td>\n",
       "      <td>max_depth</td>\n",
       "      <td>7.0</td>\n",
       "      <td>0.774495</td>\n",
       "    </tr>\n",
       "    <tr>\n",
       "      <td>2</td>\n",
       "      <td>Случайный лес</td>\n",
       "      <td>n_estimators</td>\n",
       "      <td>22.0</td>\n",
       "      <td>0.793157</td>\n",
       "    </tr>\n",
       "  </tbody>\n",
       "</table>\n",
       "</div>"
      ],
      "text/plain": [
       "                model_name hyperparam_name  hyperparam_value  accuracy\n",
       "0  Логистическая регрессия                               0.0  0.696734\n",
       "1           Дерево решений       max_depth               7.0  0.774495\n",
       "2            Случайный лес    n_estimators              22.0  0.793157"
      ]
     },
     "execution_count": 14,
     "metadata": {},
     "output_type": "execute_result"
    }
   ],
   "source": [
    "# Случайный лес (подбор параметров)\n",
    "\n",
    "best_accuracy = 0\n",
    "\n",
    "for n_estim in range(1, 30):\n",
    "    \n",
    "    model_random_forrest = RandomForestClassifier(random_state=12345, n_estimators=n_estim)\n",
    "    model_random_forrest.fit(train_features, train_target)\n",
    "    \n",
    "    valid_model_random_forrest_predictions = model_random_forrest.predict(valid_features)\n",
    "\n",
    "    accuracy_model_random_forrest = accuracy_score(valid_target, valid_model_random_forrest_predictions)\n",
    "    \n",
    "    msk_model_random_forrest = mean_squared_error(valid_target,valid_model_random_forrest_predictions)\n",
    "    \n",
    "    if best_accuracy < accuracy_model_random_forrest:\n",
    "        best_accuracy = accuracy_model_random_forrest\n",
    "        best_n_estim = n_estim\n",
    "        best_msk = msk_model_random_forrest\n",
    "        best_model_random_forrest = model_random_forrest\n",
    "\n",
    "compare_data_valid = compare_data_valid.append(pd.DataFrame([['Случайный лес', \n",
    "                                                              'n_estimators',\n",
    "                                                              best_n_estim, \n",
    "                                                              best_accuracy,\n",
    "                                                              best_msk,\n",
    "                                                              best_msk**0.5]], \n",
    "                                                              columns = ['model_name', \n",
    "                                                                         'hyperparam_name', \n",
    "                                                                         'hyperparam_value', \n",
    "                                                                         'accuracy',\n",
    "                                                                         'mce',\n",
    "                                                                         'rmce']),\n",
    "                                                              ignore_index=True)\n",
    "\n",
    "compare_data_valid[['model_name','hyperparam_name','hyperparam_value','accuracy']]"
   ]
  },
  {
   "cell_type": "markdown",
   "metadata": {},
   "source": [
    "<font color=darkred><b>По результатам тренировки модели 'Дерево решений' мы получили лучшую точность (77.5% верных ответов) для значения глубины дерева равного 7.</b></font>\n",
    "\n",
    "<font color=darkgreen><b>Для модели 'Случайный лес' лучшая точность (79.3%) достигнута при значении количества оценщиков равном 22.</b></font>\n",
    "\n",
    "<font color=darkblue><b>Модель 'Логистическая регрессия' проигрывает двум предыдущим по точности (69.7%).</b></font>\n",
    "\n",
    "Необходимо теперь эти модели проверить на тестовом наборе данных."
   ]
  },
  {
   "cell_type": "markdown",
   "metadata": {},
   "source": [
    "## 4. Проверьте модель на тестовой выборке"
   ]
  },
  {
   "cell_type": "markdown",
   "metadata": {},
   "source": [
    "**Три отобранные модели с наилучшими возможными гиперпараметрами мы проверим на тестовом наборе данных.**\n",
    "\n",
    "*Для каждой из них мы посчитаем точность полученных ответов, чтобы выбрать наиболее подходящую модель для текущего набора параметров.*"
   ]
  },
  {
   "cell_type": "code",
   "execution_count": 15,
   "metadata": {},
   "outputs": [
    {
     "data": {
      "text/html": [
       "<div>\n",
       "<style scoped>\n",
       "    .dataframe tbody tr th:only-of-type {\n",
       "        vertical-align: middle;\n",
       "    }\n",
       "\n",
       "    .dataframe tbody tr th {\n",
       "        vertical-align: top;\n",
       "    }\n",
       "\n",
       "    .dataframe thead th {\n",
       "        text-align: right;\n",
       "    }\n",
       "</style>\n",
       "<table border=\"1\" class=\"dataframe\">\n",
       "  <thead>\n",
       "    <tr style=\"text-align: right;\">\n",
       "      <th></th>\n",
       "      <th>model_name</th>\n",
       "      <th>hyperparam_name</th>\n",
       "      <th>hyperparam_value</th>\n",
       "      <th>accuracy</th>\n",
       "    </tr>\n",
       "  </thead>\n",
       "  <tbody>\n",
       "    <tr>\n",
       "      <td>0</td>\n",
       "      <td>Логистическая регрессия</td>\n",
       "      <td></td>\n",
       "      <td>0.0</td>\n",
       "      <td>0.702955</td>\n",
       "    </tr>\n",
       "    <tr>\n",
       "      <td>1</td>\n",
       "      <td>Дерево решений</td>\n",
       "      <td>max_depth</td>\n",
       "      <td>7.0</td>\n",
       "      <td>0.788491</td>\n",
       "    </tr>\n",
       "    <tr>\n",
       "      <td>2</td>\n",
       "      <td>Случайный лес</td>\n",
       "      <td>n_estimators</td>\n",
       "      <td>22.0</td>\n",
       "      <td>0.783826</td>\n",
       "    </tr>\n",
       "  </tbody>\n",
       "</table>\n",
       "</div>"
      ],
      "text/plain": [
       "                model_name hyperparam_name  hyperparam_value  accuracy\n",
       "0  Логистическая регрессия                               0.0  0.702955\n",
       "1           Дерево решений       max_depth               7.0  0.788491\n",
       "2            Случайный лес    n_estimators              22.0  0.783826"
      ]
     },
     "execution_count": 15,
     "metadata": {},
     "output_type": "execute_result"
    }
   ],
   "source": [
    "compare_data_test = pd.DataFrame(compare)\n",
    "\n",
    "# Логистическая регрессия\n",
    "test_model_logistic_regression_predictions = model_logistic_regression.predict(test_features)\n",
    "\n",
    "accuracy_model_logistic_regression = accuracy_score(test_target, test_model_logistic_regression_predictions)\n",
    "msk_model_logistic_regression = mean_squared_error(test_target, test_model_logistic_regression_predictions)\n",
    "\n",
    "compare_data_test = compare_data_test.append(pd.DataFrame([['Логистическая регрессия', \n",
    "                                                              '',\n",
    "                                                              0, \n",
    "                                                              accuracy_model_logistic_regression,\n",
    "                                                              msk_model_logistic_regression,\n",
    "                                                              msk_model_logistic_regression**0.5]], \n",
    "                                                              columns = ['model_name', \n",
    "                                                                         'hyperparam_name', \n",
    "                                                                         'hyperparam_value', \n",
    "                                                                         'accuracy',\n",
    "                                                                         'mce',\n",
    "                                                                         'rmce']),\n",
    "                                                              ignore_index=True)\n",
    "\n",
    "\n",
    "# Дерево решений (проверка на тестовой выборке)\n",
    "test_model_tree_predictions = best_model_tree.predict(test_features)\n",
    "\n",
    "accuracy_model_tree = accuracy_score(test_target, test_model_tree_predictions)\n",
    "msk_model_tree = mean_squared_error(test_target, test_model_tree_predictions)\n",
    "\n",
    "compare_data_test = compare_data_test.append(pd.DataFrame([['Дерево решений', \n",
    "                                                              'max_depth',\n",
    "                                                              best_depth, \n",
    "                                                              accuracy_model_tree,\n",
    "                                                              msk_model_tree,\n",
    "                                                              msk_model_tree**0.5]], \n",
    "                                                              columns = ['model_name', \n",
    "                                                                         'hyperparam_name', \n",
    "                                                                         'hyperparam_value', \n",
    "                                                                         'accuracy',\n",
    "                                                                         'mce',\n",
    "                                                                         'rmce']),\n",
    "                                                              ignore_index=True)\n",
    "\n",
    "\n",
    "# Случайный лес (проверка на тестовой выборке)\n",
    "test_model_random_forrest_predictions = best_model_random_forrest.predict(test_features)\n",
    "\n",
    "accuracy_model_random_forrest = accuracy_score(test_target, test_model_random_forrest_predictions)\n",
    "msk_model_random_forrest = mean_squared_error(test_target, test_model_random_forrest_predictions)\n",
    "\n",
    "compare_data_test = compare_data_test.append(pd.DataFrame([['Случайный лес', \n",
    "                                                              'n_estimators',\n",
    "                                                              best_n_estim, \n",
    "                                                              accuracy_model_random_forrest,\n",
    "                                                              msk_model_random_forrest,\n",
    "                                                              msk_model_random_forrest**0.5]], \n",
    "                                                              columns = ['model_name', \n",
    "                                                                         'hyperparam_name', \n",
    "                                                                         'hyperparam_value', \n",
    "                                                                         'accuracy',\n",
    "                                                                         'mce',\n",
    "                                                                         'rmce']),\n",
    "                                                              ignore_index=True)\n",
    "\n",
    "compare_data_test[['model_name','hyperparam_name','hyperparam_value','accuracy']]"
   ]
  },
  {
   "cell_type": "markdown",
   "metadata": {},
   "source": [
    "<font color=darkgreen><b>Две модели из трех показывают необходимую точность (более 75%) на тестовом наборе данных.</b></font>\n",
    "\n",
    "<font color=red><b>Наилучшую точность показала модель 'Дерево решений'. Она хоть ненамного, но обогнала модель 'Случайный лес' (78.8% против 78.3%). Однако, расхождение в точности, между валидационным и тестовым набором ниже как раз у модели 'Случайный лес' (1.0% против 1.3%).</b></font>\n",
    "\n",
    "*Для того, чтобы определить, какая модель лучше подходит для решения текущей задачи, необходимо проверить другие параметры результатов работы моделей.*"
   ]
  },
  {
   "cell_type": "markdown",
   "metadata": {},
   "source": [
    "## 5. (бонус) Проверьте модели на адекватность"
   ]
  },
  {
   "cell_type": "markdown",
   "metadata": {},
   "source": [
    "*Для того, чтобы определить, какая модель подходит больше, посмотрим на такой параметр, как **корень из среднеквадратичной ошибки**. \n",
    "\n",
    "<font color=darkblue><b>Чем меньше этот параметр, тем более адекватна модель именно для этой выборки.</b></font>"
   ]
  },
  {
   "cell_type": "code",
   "execution_count": 16,
   "metadata": {},
   "outputs": [
    {
     "data": {
      "text/plain": [
       "Text(0.5, 1, 'Сравнительная гистограмма показателей качества разных моделей машинного обучения')"
      ]
     },
     "execution_count": 16,
     "metadata": {},
     "output_type": "execute_result"
    },
    {
     "data": {
      "image/png": "[encoded data removed]",
      "text/plain": [
       "<Figure size 556.75x432 with 1 Axes>"
      ]
     },
     "metadata": {
      "needs_background": "light"
     },
     "output_type": "display_data"
    }
   ],
   "source": [
    "# Создадим сравнительный датасет\n",
    "quality_dict = {'model_name' : [],\n",
    "           'quality_indicator_name' : [],\n",
    "           'quality_indicator_value' : []\n",
    "           }\n",
    "\n",
    "quality_data= pd.DataFrame(quality_dict)\n",
    "\n",
    "for index, row in compare_data_test.iterrows():\n",
    "    \n",
    "    quality_data = quality_data.append(pd.DataFrame([[row['model_name'], \n",
    "                                                    'accuracy',\n",
    "                                                    row['accuracy']]], \n",
    "                                                    columns = ['model_name', \n",
    "                                                               'quality_indicator_name', \n",
    "                                                               'quality_indicator_value']),\n",
    "                                                    ignore_index=True)\n",
    "    \n",
    "    quality_data = quality_data.append(pd.DataFrame([[row['model_name'], \n",
    "                                                    'RMCE',\n",
    "                                                    row['rmce']]], \n",
    "                                                    columns = ['model_name', \n",
    "                                                               'quality_indicator_name', \n",
    "                                                               'quality_indicator_value']),\n",
    "                                                    ignore_index=True)\n",
    "\n",
    "\n",
    "\n",
    "\n",
    "# Построим сравнительную диаграмму\n",
    "g = sns.catplot(x=\"model_name\", \n",
    "                y=\"quality_indicator_value\", \n",
    "                hue=\"quality_indicator_name\", \n",
    "                kind=\"bar\",\n",
    "                height=6,\n",
    "#                aspect=1.5,\n",
    "                data=quality_data)\n",
    "\n",
    "g.set_axis_labels(\"Индикатор качества модели\", \"Значение индикатора\")\n",
    "g.ax.set_title(\"Сравнительная гистограмма показателей качества разных моделей машинного обучения\")"
   ]
  },
  {
   "cell_type": "code",
   "execution_count": 17,
   "metadata": {},
   "outputs": [
    {
     "data": {
      "text/html": [
       "<div>\n",
       "<style scoped>\n",
       "    .dataframe tbody tr th:only-of-type {\n",
       "        vertical-align: middle;\n",
       "    }\n",
       "\n",
       "    .dataframe tbody tr th {\n",
       "        vertical-align: top;\n",
       "    }\n",
       "\n",
       "    .dataframe thead th {\n",
       "        text-align: right;\n",
       "    }\n",
       "</style>\n",
       "<table border=\"1\" class=\"dataframe\">\n",
       "  <thead>\n",
       "    <tr style=\"text-align: right;\">\n",
       "      <th></th>\n",
       "      <th>model_name</th>\n",
       "      <th>hyperparam_name</th>\n",
       "      <th>hyperparam_value</th>\n",
       "      <th>accuracy</th>\n",
       "      <th>rmce</th>\n",
       "    </tr>\n",
       "  </thead>\n",
       "  <tbody>\n",
       "    <tr>\n",
       "      <td>0</td>\n",
       "      <td>Логистическая регрессия</td>\n",
       "      <td></td>\n",
       "      <td>0.0</td>\n",
       "      <td>0.702955</td>\n",
       "      <td>0.545018</td>\n",
       "    </tr>\n",
       "    <tr>\n",
       "      <td>1</td>\n",
       "      <td>Дерево решений</td>\n",
       "      <td>max_depth</td>\n",
       "      <td>7.0</td>\n",
       "      <td>0.788491</td>\n",
       "      <td>0.459901</td>\n",
       "    </tr>\n",
       "    <tr>\n",
       "      <td>2</td>\n",
       "      <td>Случайный лес</td>\n",
       "      <td>n_estimators</td>\n",
       "      <td>22.0</td>\n",
       "      <td>0.783826</td>\n",
       "      <td>0.464945</td>\n",
       "    </tr>\n",
       "  </tbody>\n",
       "</table>\n",
       "</div>"
      ],
      "text/plain": [
       "                model_name hyperparam_name  hyperparam_value  accuracy  \\\n",
       "0  Логистическая регрессия                               0.0  0.702955   \n",
       "1           Дерево решений       max_depth               7.0  0.788491   \n",
       "2            Случайный лес    n_estimators              22.0  0.783826   \n",
       "\n",
       "       rmce  \n",
       "0  0.545018  \n",
       "1  0.459901  \n",
       "2  0.464945  "
      ]
     },
     "execution_count": 17,
     "metadata": {},
     "output_type": "execute_result"
    }
   ],
   "source": [
    "compare_data_test[['model_name','hyperparam_name','hyperparam_value','accuracy','rmce']]"
   ]
  },
  {
   "cell_type": "markdown",
   "metadata": {},
   "source": [
    "## ВЫВОД\n",
    "\n",
    "<font color=blue><b>Наиболее адекватной моделью для решения поставленной задачи является модель 'Дерево решений' с глубиной дерева 7. Она лучшая по всем возможным параметрам.</b></font>\n",
    "\n",
    " 1. Точность на тестовой выборке - наибольшая (78.8%).\n",
    " 2. Отклонение результатов (корень среднеквадратичной ошибки) - наименьшее (0,46).\n",
    " \n",
    "<font color=red><b>Для того, чтобы определить какой из актуальных тарифов предлагать пользователю мы рекомендуем использовать именно эту модель.</b></font>"
   ]
  },
  {
   "cell_type": "markdown",
   "metadata": {},
   "source": [
    "## Чек-лист готовности проекта"
   ]
  },
  {
   "cell_type": "markdown",
   "metadata": {},
   "source": [
    "Поставьте 'x' в выполненных пунктах. Далее нажмите Shift+Enter."
   ]
  },
  {
   "cell_type": "markdown",
   "metadata": {},
   "source": [
    "- [x] Jupyter Notebook открыт\n",
    "- [x] Весь код исполняется без ошибок\n",
    "- [x] Ячейки с кодом расположены в порядке исполнения\n",
    "- [x] Выполнено задание 1: данные загружены и изучены\n",
    "- [x] Выполнено задание 2: данные разбиты на три выборки\n",
    "- [x] Выполнено задание 3: проведено исследование моделей\n",
    "    - [x] Рассмотрено больше одной модели\n",
    "    - [x] Рассмотрено хотя бы 3 значения гипепараметров для какой-нибудь модели\n",
    "    - [x] Написаны выводы по результатам исследования\n",
    "- [x] Выполнено задание 3: Проведено тестирование\n",
    "- [x] Удалось достичь accuracy не меньше 0.75\n"
   ]
  },
  {
   "cell_type": "code",
   "execution_count": null,
   "metadata": {},
   "outputs": [],
   "source": []
  }
 ],
 "metadata": {
  "kernelspec": {
   "display_name": "Python 3",
   "language": "python",
   "name": "python3"
  },
  "language_info": {
   "codemirror_mode": {
    "name": "ipython",
    "version": 3
   },
   "file_extension": ".py",
   "mimetype": "text/x-python",
   "name": "python",
   "nbconvert_exporter": "python",
   "pygments_lexer": "ipython3",
   "version": "3.8.3"
  }
 },
 "nbformat": 4,
 "nbformat_minor": 2
}
