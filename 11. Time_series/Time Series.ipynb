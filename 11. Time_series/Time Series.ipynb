{
 "cells": [
  {
   "cell_type": "markdown",
   "metadata": {},
   "source": [
    "# Описание проекта"
   ]
  },
  {
   "cell_type": "markdown",
   "metadata": {},
   "source": [
    "<span style=\"color:blue\">\n",
    "    \n",
    "Компания <b>«Чётенькое такси»</b> собрала исторические данные о заказах такси в аэропортах. Чтобы привлекать больше водителей в период пиковой нагрузки, нужно спрогнозировать количество заказов такси на следующий час. Постройте модель для такого предсказания.\n",
    "Значение метрики <b>RMSE</b> на тестовой выборке должно быть <b>не больше 48</b>.\n",
    "\n",
    "<span>\n"
   ]
  },
  {
   "cell_type": "markdown",
   "metadata": {},
   "source": [
    "## Содержание проекта  <a class=\"anchor\" id=\"0-bullet\">\n",
    "* [Шаг 1. Анализ данных](#1-bullet)\n",
    "* [Шаг 2. Подготовка данных](#2-bullet)    \n",
    "* [Шаг 3. Обучение моделей и выбор лучшей модели](#3-bullet)"
   ]
  },
  {
   "cell_type": "code",
   "execution_count": 1,
   "metadata": {},
   "outputs": [],
   "source": [
    "# Импортируем библиотеки, необходимые для выполнения проекта\n",
    "\n",
    "import pandas as pd\n",
    "import numpy as np\n",
    "\n",
    "import matplotlib.pyplot as plt\n",
    "import seaborn as sns\n",
    "import scipy.stats as scs\n",
    "\n",
    "from sklearn.metrics import mean_squared_error\n",
    "from sklearn.model_selection import train_test_split\n",
    "\n",
    "from sklearn.linear_model import LinearRegression\n",
    "from sklearn.tree import DecisionTreeRegressor\n",
    "from sklearn.ensemble import RandomForestRegressor\n",
    "\n",
    "from lightgbm import LGBMRegressor\n",
    "from catboost import Pool, CatBoostRegressor, cv\n",
    "\n",
    "from statsmodels.tsa.seasonal import seasonal_decompose"
   ]
  },
  {
   "cell_type": "markdown",
   "metadata": {},
   "source": [
    "# 1. Анализ данных<a class=\"anchor\" id=\"1-bullet\"></a>\n",
    "👈[назад к оглавлению](#0-bullet)"
   ]
  },
  {
   "cell_type": "code",
   "execution_count": 2,
   "metadata": {},
   "outputs": [],
   "source": [
    "datasets_path = ''\n",
    "datasets_path = 'C:/Users/Venik/documents/Time_series'"
   ]
  },
  {
   "cell_type": "code",
   "execution_count": 3,
   "metadata": {},
   "outputs": [
    {
     "name": "stdout",
     "output_type": "stream",
     "text": [
      "<class 'pandas.core.frame.DataFrame'>\n",
      "RangeIndex: 26496 entries, 0 to 26495\n",
      "Data columns (total 2 columns):\n",
      " #   Column      Non-Null Count  Dtype \n",
      "---  ------      --------------  ----- \n",
      " 0   datetime    26496 non-null  object\n",
      " 1   num_orders  26496 non-null  int64 \n",
      "dtypes: int64(1), object(1)\n",
      "memory usage: 414.1+ KB\n"
     ]
    }
   ],
   "source": [
    "taxi_data = pd.read_csv(datasets_path + '/datasets/taxi.csv')\n",
    "taxi_data.info()"
   ]
  },
  {
   "cell_type": "code",
   "execution_count": 4,
   "metadata": {},
   "outputs": [
    {
     "name": "stdout",
     "output_type": "stream",
     "text": [
      "<class 'pandas.core.frame.DataFrame'>\n",
      "DatetimeIndex: 26496 entries, 2018-03-01 00:00:00 to 2018-08-31 23:50:00\n",
      "Data columns (total 1 columns):\n",
      " #   Column      Non-Null Count  Dtype\n",
      "---  ------      --------------  -----\n",
      " 0   num_orders  26496 non-null  int64\n",
      "dtypes: int64(1)\n",
      "memory usage: 414.0 KB\n"
     ]
    }
   ],
   "source": [
    "# Сразу при импорте установим в качестве индекса временной промежуток\n",
    "taxi_data = pd.read_csv(datasets_path + '/datasets/taxi.csv', parse_dates=[0], index_col = 'datetime')\n",
    "taxi_data.info()"
   ]
  },
  {
   "cell_type": "markdown",
   "metadata": {},
   "source": [
    "### <span style=\"color:green\">План анализа данных<span>\n",
    "\n",
    "<span style=\"color:blue\">\n",
    "    \n",
    "1. Упорядочим временной ряд при необходимости.\n",
    "2. Т.к. прогнозирование необходимо делать с точностью до часа, ресемплируем данные по часам. Т.к. целевой признак это информация по количеству заказов, в качестве агрегирующей функции возьмем сумму.\n",
    "3. Проанализируем тренд временного ряда. Сезонность мы проанализировать не можем, т.к. данные у нас всего за полгода. Для этого укрупним данные по дням.\n",
    "4. Проверим наш временной ряд на стационарность. Для этого выведем скользящее среднее для медианы и отклонения.\n",
    "<span>"
   ]
  },
  {
   "cell_type": "code",
   "execution_count": 5,
   "metadata": {},
   "outputs": [],
   "source": [
    "# Упорядочим временной ряд\n",
    "if not taxi_data.index.is_monotonic:\n",
    "    taxi_data.sort_index(inplace = True)"
   ]
  },
  {
   "cell_type": "code",
   "execution_count": 6,
   "metadata": {},
   "outputs": [
    {
     "data": {
      "text/html": [
       "<div>\n",
       "<style scoped>\n",
       "    .dataframe tbody tr th:only-of-type {\n",
       "        vertical-align: middle;\n",
       "    }\n",
       "\n",
       "    .dataframe tbody tr th {\n",
       "        vertical-align: top;\n",
       "    }\n",
       "\n",
       "    .dataframe thead th {\n",
       "        text-align: right;\n",
       "    }\n",
       "</style>\n",
       "<table border=\"1\" class=\"dataframe\">\n",
       "  <thead>\n",
       "    <tr style=\"text-align: right;\">\n",
       "      <th></th>\n",
       "      <th>num_orders</th>\n",
       "    </tr>\n",
       "    <tr>\n",
       "      <th>datetime</th>\n",
       "      <th></th>\n",
       "    </tr>\n",
       "  </thead>\n",
       "  <tbody>\n",
       "    <tr>\n",
       "      <th>2018-03-01 00:00:00</th>\n",
       "      <td>9</td>\n",
       "    </tr>\n",
       "    <tr>\n",
       "      <th>2018-03-01 00:10:00</th>\n",
       "      <td>14</td>\n",
       "    </tr>\n",
       "    <tr>\n",
       "      <th>2018-03-01 00:20:00</th>\n",
       "      <td>28</td>\n",
       "    </tr>\n",
       "    <tr>\n",
       "      <th>2018-03-01 00:30:00</th>\n",
       "      <td>20</td>\n",
       "    </tr>\n",
       "    <tr>\n",
       "      <th>2018-03-01 00:40:00</th>\n",
       "      <td>32</td>\n",
       "    </tr>\n",
       "    <tr>\n",
       "      <th>2018-03-01 00:50:00</th>\n",
       "      <td>21</td>\n",
       "    </tr>\n",
       "    <tr>\n",
       "      <th>2018-03-01 01:00:00</th>\n",
       "      <td>7</td>\n",
       "    </tr>\n",
       "    <tr>\n",
       "      <th>2018-03-01 01:10:00</th>\n",
       "      <td>5</td>\n",
       "    </tr>\n",
       "    <tr>\n",
       "      <th>2018-03-01 01:20:00</th>\n",
       "      <td>17</td>\n",
       "    </tr>\n",
       "    <tr>\n",
       "      <th>2018-03-01 01:30:00</th>\n",
       "      <td>12</td>\n",
       "    </tr>\n",
       "  </tbody>\n",
       "</table>\n",
       "</div>"
      ],
      "text/plain": [
       "                     num_orders\n",
       "datetime                       \n",
       "2018-03-01 00:00:00           9\n",
       "2018-03-01 00:10:00          14\n",
       "2018-03-01 00:20:00          28\n",
       "2018-03-01 00:30:00          20\n",
       "2018-03-01 00:40:00          32\n",
       "2018-03-01 00:50:00          21\n",
       "2018-03-01 01:00:00           7\n",
       "2018-03-01 01:10:00           5\n",
       "2018-03-01 01:20:00          17\n",
       "2018-03-01 01:30:00          12"
      ]
     },
     "execution_count": 6,
     "metadata": {},
     "output_type": "execute_result"
    }
   ],
   "source": [
    "taxi_data.head(10)"
   ]
  },
  {
   "cell_type": "code",
   "execution_count": 7,
   "metadata": {},
   "outputs": [
    {
     "data": {
      "text/plain": [
       "<matplotlib.axes._subplots.AxesSubplot at 0x1f308baca90>"
      ]
     },
     "execution_count": 7,
     "metadata": {},
     "output_type": "execute_result"
    },
    {
     "data": {
      "image/png": "[encoded data removed]",
      "text/plain": [
       "<Figure size 432x288 with 1 Axes>"
      ]
     },
     "metadata": {
      "needs_background": "light"
     },
     "output_type": "display_data"
    }
   ],
   "source": [
    "taxi_data.plot()"
   ]
  },
  {
   "cell_type": "code",
   "execution_count": 8,
   "metadata": {},
   "outputs": [
    {
     "name": "stdout",
     "output_type": "stream",
     "text": [
      "<class 'pandas.core.frame.DataFrame'>\n",
      "DatetimeIndex: 4416 entries, 2018-03-01 00:00:00 to 2018-08-31 23:00:00\n",
      "Freq: H\n",
      "Data columns (total 1 columns):\n",
      " #   Column      Non-Null Count  Dtype\n",
      "---  ------      --------------  -----\n",
      " 0   num_orders  4416 non-null   int64\n",
      "dtypes: int64(1)\n",
      "memory usage: 69.0 KB\n"
     ]
    }
   ],
   "source": [
    "# Ресемплируем ряд до часовыx промежутков.\n",
    "taxi_data = taxi_data.resample('1H').sum()\n",
    "taxi_data.info()"
   ]
  },
  {
   "cell_type": "code",
   "execution_count": 9,
   "metadata": {},
   "outputs": [
    {
     "data": {
      "text/html": [
       "<div>\n",
       "<style scoped>\n",
       "    .dataframe tbody tr th:only-of-type {\n",
       "        vertical-align: middle;\n",
       "    }\n",
       "\n",
       "    .dataframe tbody tr th {\n",
       "        vertical-align: top;\n",
       "    }\n",
       "\n",
       "    .dataframe thead th {\n",
       "        text-align: right;\n",
       "    }\n",
       "</style>\n",
       "<table border=\"1\" class=\"dataframe\">\n",
       "  <thead>\n",
       "    <tr style=\"text-align: right;\">\n",
       "      <th></th>\n",
       "      <th>num_orders</th>\n",
       "    </tr>\n",
       "    <tr>\n",
       "      <th>datetime</th>\n",
       "      <th></th>\n",
       "    </tr>\n",
       "  </thead>\n",
       "  <tbody>\n",
       "    <tr>\n",
       "      <th>2018-03-01 00:00:00</th>\n",
       "      <td>124</td>\n",
       "    </tr>\n",
       "    <tr>\n",
       "      <th>2018-03-01 01:00:00</th>\n",
       "      <td>85</td>\n",
       "    </tr>\n",
       "    <tr>\n",
       "      <th>2018-03-01 02:00:00</th>\n",
       "      <td>71</td>\n",
       "    </tr>\n",
       "    <tr>\n",
       "      <th>2018-03-01 03:00:00</th>\n",
       "      <td>66</td>\n",
       "    </tr>\n",
       "    <tr>\n",
       "      <th>2018-03-01 04:00:00</th>\n",
       "      <td>43</td>\n",
       "    </tr>\n",
       "    <tr>\n",
       "      <th>2018-03-01 05:00:00</th>\n",
       "      <td>6</td>\n",
       "    </tr>\n",
       "    <tr>\n",
       "      <th>2018-03-01 06:00:00</th>\n",
       "      <td>12</td>\n",
       "    </tr>\n",
       "    <tr>\n",
       "      <th>2018-03-01 07:00:00</th>\n",
       "      <td>15</td>\n",
       "    </tr>\n",
       "    <tr>\n",
       "      <th>2018-03-01 08:00:00</th>\n",
       "      <td>34</td>\n",
       "    </tr>\n",
       "    <tr>\n",
       "      <th>2018-03-01 09:00:00</th>\n",
       "      <td>69</td>\n",
       "    </tr>\n",
       "  </tbody>\n",
       "</table>\n",
       "</div>"
      ],
      "text/plain": [
       "                     num_orders\n",
       "datetime                       \n",
       "2018-03-01 00:00:00         124\n",
       "2018-03-01 01:00:00          85\n",
       "2018-03-01 02:00:00          71\n",
       "2018-03-01 03:00:00          66\n",
       "2018-03-01 04:00:00          43\n",
       "2018-03-01 05:00:00           6\n",
       "2018-03-01 06:00:00          12\n",
       "2018-03-01 07:00:00          15\n",
       "2018-03-01 08:00:00          34\n",
       "2018-03-01 09:00:00          69"
      ]
     },
     "execution_count": 9,
     "metadata": {},
     "output_type": "execute_result"
    }
   ],
   "source": [
    "taxi_data.head(10)"
   ]
  },
  {
   "cell_type": "code",
   "execution_count": 10,
   "metadata": {},
   "outputs": [
    {
     "data": {
      "text/plain": [
       "<matplotlib.axes._subplots.AxesSubplot at 0x1f309082f70>"
      ]
     },
     "execution_count": 10,
     "metadata": {},
     "output_type": "execute_result"
    },
    {
     "data": {
      "image/png": "[encoded data removed]",
      "text/plain": [
       "<Figure size 432x288 with 1 Axes>"
      ]
     },
     "metadata": {
      "needs_background": "light"
     },
     "output_type": "display_data"
    }
   ],
   "source": [
    "taxi_data.plot()"
   ]
  },
  {
   "cell_type": "code",
   "execution_count": 11,
   "metadata": {},
   "outputs": [],
   "source": [
    "# Построим график тренда временного ряда.\n",
    "taxi_data_daily = taxi_data.resample('1D').sum()\n",
    "decomposed_taxi_data = seasonal_decompose(taxi_data_daily)"
   ]
  },
  {
   "cell_type": "code",
   "execution_count": 12,
   "metadata": {},
   "outputs": [
    {
     "data": {
      "text/plain": [
       "<matplotlib.axes._subplots.AxesSubplot at 0x1f3093d8760>"
      ]
     },
     "execution_count": 12,
     "metadata": {},
     "output_type": "execute_result"
    },
    {
     "data": {
      "image/png": "[encoded data removed]",
      "text/plain": [
       "<Figure size 432x288 with 1 Axes>"
      ]
     },
     "metadata": {
      "needs_background": "light"
     },
     "output_type": "display_data"
    }
   ],
   "source": [
    "decomposed_taxi_data.trend.plot()"
   ]
  },
  {
   "cell_type": "markdown",
   "metadata": {},
   "source": [
    "<span style=\"color:blue\">\n",
    "Во временном ряде мы видим четкий восходящий тренд. Количество заказов в службе увеличивается из месяца в месяц.\n",
    "<span>"
   ]
  },
  {
   "cell_type": "code",
   "execution_count": 13,
   "metadata": {},
   "outputs": [
    {
     "data": {
      "text/plain": [
       "<matplotlib.axes._subplots.AxesSubplot at 0x1f30950a940>"
      ]
     },
     "execution_count": 13,
     "metadata": {},
     "output_type": "execute_result"
    },
    {
     "data": {
      "image/png": "[encoded data removed]",
      "text/plain": [
       "<Figure size 432x288 with 1 Axes>"
      ]
     },
     "metadata": {
      "needs_background": "light"
     },
     "output_type": "display_data"
    }
   ],
   "source": [
    "decomposed_taxi_data.seasonal.plot()"
   ]
  },
  {
   "cell_type": "code",
   "execution_count": 14,
   "metadata": {},
   "outputs": [
    {
     "data": {
      "text/plain": [
       "<matplotlib.axes._subplots.AxesSubplot at 0x1f309584040>"
      ]
     },
     "execution_count": 14,
     "metadata": {},
     "output_type": "execute_result"
    },
    {
     "data": {
      "image/png": "[encoded data removed]",
      "text/plain": [
       "<Figure size 432x288 with 1 Axes>"
      ]
     },
     "metadata": {
      "needs_background": "light"
     },
     "output_type": "display_data"
    }
   ],
   "source": [
    "# Проанализируем временной ряд на стационарность\n",
    "taxi_data_daily['mean'] = taxi_data_daily['num_orders'].rolling(10).mean()\n",
    "taxi_data_daily['std'] = taxi_data_daily['num_orders'].rolling(10).std()\n",
    "taxi_data_daily.plot()"
   ]
  },
  {
   "cell_type": "markdown",
   "metadata": {},
   "source": [
    "<span style=\"color:blue\">\n",
    "Временной ряд не стационарный, т.к. среднее у него постоянно увеличивается. Однако стандартное отклонение у него достаточно стабильно, т.е этот ряд возможно прогнозировать.\n",
    "\n",
    "<b>Приступим к подготовке данных для обучения.</b>\n",
    "<span>"
   ]
  },
  {
   "cell_type": "markdown",
   "metadata": {},
   "source": [
    "# 2. Подготовка данных<a class=\"anchor\" id=\"2-bullet\"></a>\n",
    "👈[назад к оглавлению](#0-bullet)"
   ]
  },
  {
   "cell_type": "markdown",
   "metadata": {},
   "source": [
    "### <span style=\"color:green\">План подготовки данных<span>\n",
    "\n",
    "<span style=\"color:blue\">\n",
    "    \n",
    "1. Добавим календарные признаки. Год нам для текущего прогноза не нужен, т.к. все данные находятся в рамках одного года, а вот месяц, день месяца и день недели нужны.\n",
    "2. Добавим отстающие значения. Для того, чтобы можно было в дальнейшем менять их количество, напишем функцию, преобразующую данные в зависимости от передаваемого в нее значения количества отстающих значений. Для начала возьмем значение 5.\n",
    "3. Добавим признак \"скользящее среднее\". Его мы также будем варьировать функцией, исходя из размера окна. Для начала возьмем размер окна равным 5.\n",
    "4. Удалим строки с пропусками.\n",
    "5. Подберем наилучшее сочетание количества отстающих значений и размера окна. Для вычисления лучшего RMSE на каждом из датасетов будем использовать линейную регрессию.\n",
    "<span>"
   ]
  },
  {
   "cell_type": "code",
   "execution_count": 15,
   "metadata": {},
   "outputs": [],
   "source": [
    "def make_features(data, max_lag, rolling_mean_size):\n",
    "    data['month'] = data.index.month\n",
    "    data['day'] = data.index.day\n",
    "    data['dayofweek'] = data.index.dayofweek\n",
    "    \n",
    "    for lag in range(1, max_lag + 1):\n",
    "        data['lag_{}'.format(lag)] = data['num_orders'].shift(lag)\n",
    "\n",
    "    data['rolling_mean'] = data['num_orders'].shift().rolling(rolling_mean_size).mean()\n"
   ]
  },
  {
   "cell_type": "code",
   "execution_count": 16,
   "metadata": {},
   "outputs": [
    {
     "data": {
      "text/html": [
       "<div>\n",
       "<style scoped>\n",
       "    .dataframe tbody tr th:only-of-type {\n",
       "        vertical-align: middle;\n",
       "    }\n",
       "\n",
       "    .dataframe tbody tr th {\n",
       "        vertical-align: top;\n",
       "    }\n",
       "\n",
       "    .dataframe thead th {\n",
       "        text-align: right;\n",
       "    }\n",
       "</style>\n",
       "<table border=\"1\" class=\"dataframe\">\n",
       "  <thead>\n",
       "    <tr style=\"text-align: right;\">\n",
       "      <th></th>\n",
       "      <th>num_orders</th>\n",
       "      <th>month</th>\n",
       "      <th>day</th>\n",
       "      <th>dayofweek</th>\n",
       "      <th>lag_1</th>\n",
       "      <th>lag_2</th>\n",
       "      <th>lag_3</th>\n",
       "      <th>lag_4</th>\n",
       "      <th>lag_5</th>\n",
       "      <th>rolling_mean</th>\n",
       "    </tr>\n",
       "    <tr>\n",
       "      <th>datetime</th>\n",
       "      <th></th>\n",
       "      <th></th>\n",
       "      <th></th>\n",
       "      <th></th>\n",
       "      <th></th>\n",
       "      <th></th>\n",
       "      <th></th>\n",
       "      <th></th>\n",
       "      <th></th>\n",
       "      <th></th>\n",
       "    </tr>\n",
       "  </thead>\n",
       "  <tbody>\n",
       "    <tr>\n",
       "      <th>2018-03-01 05:00:00</th>\n",
       "      <td>6</td>\n",
       "      <td>3</td>\n",
       "      <td>1</td>\n",
       "      <td>3</td>\n",
       "      <td>43.0</td>\n",
       "      <td>66.0</td>\n",
       "      <td>71.0</td>\n",
       "      <td>85.0</td>\n",
       "      <td>124.0</td>\n",
       "      <td>77.8</td>\n",
       "    </tr>\n",
       "    <tr>\n",
       "      <th>2018-03-01 06:00:00</th>\n",
       "      <td>12</td>\n",
       "      <td>3</td>\n",
       "      <td>1</td>\n",
       "      <td>3</td>\n",
       "      <td>6.0</td>\n",
       "      <td>43.0</td>\n",
       "      <td>66.0</td>\n",
       "      <td>71.0</td>\n",
       "      <td>85.0</td>\n",
       "      <td>54.2</td>\n",
       "    </tr>\n",
       "    <tr>\n",
       "      <th>2018-03-01 07:00:00</th>\n",
       "      <td>15</td>\n",
       "      <td>3</td>\n",
       "      <td>1</td>\n",
       "      <td>3</td>\n",
       "      <td>12.0</td>\n",
       "      <td>6.0</td>\n",
       "      <td>43.0</td>\n",
       "      <td>66.0</td>\n",
       "      <td>71.0</td>\n",
       "      <td>39.6</td>\n",
       "    </tr>\n",
       "    <tr>\n",
       "      <th>2018-03-01 08:00:00</th>\n",
       "      <td>34</td>\n",
       "      <td>3</td>\n",
       "      <td>1</td>\n",
       "      <td>3</td>\n",
       "      <td>15.0</td>\n",
       "      <td>12.0</td>\n",
       "      <td>6.0</td>\n",
       "      <td>43.0</td>\n",
       "      <td>66.0</td>\n",
       "      <td>28.4</td>\n",
       "    </tr>\n",
       "    <tr>\n",
       "      <th>2018-03-01 09:00:00</th>\n",
       "      <td>69</td>\n",
       "      <td>3</td>\n",
       "      <td>1</td>\n",
       "      <td>3</td>\n",
       "      <td>34.0</td>\n",
       "      <td>15.0</td>\n",
       "      <td>12.0</td>\n",
       "      <td>6.0</td>\n",
       "      <td>43.0</td>\n",
       "      <td>22.0</td>\n",
       "    </tr>\n",
       "    <tr>\n",
       "      <th>2018-03-01 10:00:00</th>\n",
       "      <td>64</td>\n",
       "      <td>3</td>\n",
       "      <td>1</td>\n",
       "      <td>3</td>\n",
       "      <td>69.0</td>\n",
       "      <td>34.0</td>\n",
       "      <td>15.0</td>\n",
       "      <td>12.0</td>\n",
       "      <td>6.0</td>\n",
       "      <td>27.2</td>\n",
       "    </tr>\n",
       "    <tr>\n",
       "      <th>2018-03-01 11:00:00</th>\n",
       "      <td>96</td>\n",
       "      <td>3</td>\n",
       "      <td>1</td>\n",
       "      <td>3</td>\n",
       "      <td>64.0</td>\n",
       "      <td>69.0</td>\n",
       "      <td>34.0</td>\n",
       "      <td>15.0</td>\n",
       "      <td>12.0</td>\n",
       "      <td>38.8</td>\n",
       "    </tr>\n",
       "    <tr>\n",
       "      <th>2018-03-01 12:00:00</th>\n",
       "      <td>30</td>\n",
       "      <td>3</td>\n",
       "      <td>1</td>\n",
       "      <td>3</td>\n",
       "      <td>96.0</td>\n",
       "      <td>64.0</td>\n",
       "      <td>69.0</td>\n",
       "      <td>34.0</td>\n",
       "      <td>15.0</td>\n",
       "      <td>55.6</td>\n",
       "    </tr>\n",
       "    <tr>\n",
       "      <th>2018-03-01 13:00:00</th>\n",
       "      <td>32</td>\n",
       "      <td>3</td>\n",
       "      <td>1</td>\n",
       "      <td>3</td>\n",
       "      <td>30.0</td>\n",
       "      <td>96.0</td>\n",
       "      <td>64.0</td>\n",
       "      <td>69.0</td>\n",
       "      <td>34.0</td>\n",
       "      <td>58.6</td>\n",
       "    </tr>\n",
       "    <tr>\n",
       "      <th>2018-03-01 14:00:00</th>\n",
       "      <td>48</td>\n",
       "      <td>3</td>\n",
       "      <td>1</td>\n",
       "      <td>3</td>\n",
       "      <td>32.0</td>\n",
       "      <td>30.0</td>\n",
       "      <td>96.0</td>\n",
       "      <td>64.0</td>\n",
       "      <td>69.0</td>\n",
       "      <td>58.2</td>\n",
       "    </tr>\n",
       "  </tbody>\n",
       "</table>\n",
       "</div>"
      ],
      "text/plain": [
       "                     num_orders  month  day  dayofweek  lag_1  lag_2  lag_3  \\\n",
       "datetime                                                                      \n",
       "2018-03-01 05:00:00           6      3    1          3   43.0   66.0   71.0   \n",
       "2018-03-01 06:00:00          12      3    1          3    6.0   43.0   66.0   \n",
       "2018-03-01 07:00:00          15      3    1          3   12.0    6.0   43.0   \n",
       "2018-03-01 08:00:00          34      3    1          3   15.0   12.0    6.0   \n",
       "2018-03-01 09:00:00          69      3    1          3   34.0   15.0   12.0   \n",
       "2018-03-01 10:00:00          64      3    1          3   69.0   34.0   15.0   \n",
       "2018-03-01 11:00:00          96      3    1          3   64.0   69.0   34.0   \n",
       "2018-03-01 12:00:00          30      3    1          3   96.0   64.0   69.0   \n",
       "2018-03-01 13:00:00          32      3    1          3   30.0   96.0   64.0   \n",
       "2018-03-01 14:00:00          48      3    1          3   32.0   30.0   96.0   \n",
       "\n",
       "                     lag_4  lag_5  rolling_mean  \n",
       "datetime                                         \n",
       "2018-03-01 05:00:00   85.0  124.0          77.8  \n",
       "2018-03-01 06:00:00   71.0   85.0          54.2  \n",
       "2018-03-01 07:00:00   66.0   71.0          39.6  \n",
       "2018-03-01 08:00:00   43.0   66.0          28.4  \n",
       "2018-03-01 09:00:00    6.0   43.0          22.0  \n",
       "2018-03-01 10:00:00   12.0    6.0          27.2  \n",
       "2018-03-01 11:00:00   15.0   12.0          38.8  \n",
       "2018-03-01 12:00:00   34.0   15.0          55.6  \n",
       "2018-03-01 13:00:00   69.0   34.0          58.6  \n",
       "2018-03-01 14:00:00   64.0   69.0          58.2  "
      ]
     },
     "execution_count": 16,
     "metadata": {},
     "output_type": "execute_result"
    }
   ],
   "source": [
    "taxi_data_for_train = taxi_data.copy()\n",
    "make_features(taxi_data_for_train, 5, 5)\n",
    "taxi_data_for_train.dropna(inplace = True)\n",
    "taxi_data_for_train.head(10)"
   ]
  },
  {
   "cell_type": "code",
   "execution_count": 17,
   "metadata": {},
   "outputs": [],
   "source": [
    "def prepare_data(taxi_data, \n",
    "                max_lag,\n",
    "                rolling_mean_size):\n",
    "\n",
    "    taxi_data_for_train = taxi_data.copy()\n",
    "            \n",
    "    make_features(taxi_data_for_train, max_lag, rolling_mean_size)\n",
    "    taxi_data_for_train.dropna(inplace = True)\n",
    "    \n",
    "    train_valid, test = train_test_split(taxi_data_for_train, shuffle=False, test_size=0.1)\n",
    "    train, valid = train_test_split(train_valid, shuffle=False, test_size=0.25)\n",
    "\n",
    "    train_features = train.drop(['num_orders'], axis = 1)\n",
    "    valid_features = valid.drop(['num_orders'], axis = 1)\n",
    "    test_features = test.drop(['num_orders'], axis = 1)\n",
    "\n",
    "    train_target = train['num_orders']\n",
    "    valid_target = valid['num_orders']\n",
    "    test_target = test['num_orders']\n",
    "\n",
    "    return (train_features, \n",
    "            valid_features, \n",
    "            test_features, \n",
    "            train_target, \n",
    "            valid_target, \n",
    "            test_target)"
   ]
  },
  {
   "cell_type": "code",
   "execution_count": 18,
   "metadata": {},
   "outputs": [
    {
     "name": "stdout",
     "output_type": "stream",
     "text": [
      "Лучший RMSE: 31.849149397699044\n",
      "Лучшее количество разностей:  24\n",
      "Лучший размер окна:  14\n"
     ]
    }
   ],
   "source": [
    "best_rmse = 100000\n",
    "best_max_lag = 5\n",
    "best_rolling_mean_size = 5\n",
    "\n",
    "for current_max_lag in range(6, 25):\n",
    "    for current_rolling_mean_size in range(6,25):\n",
    "        \n",
    "        train_features, valid_features, test_features, train_target, valid_target, test_target = prepare_data(taxi_data, \n",
    "                                                                                                    current_max_lag,\n",
    "                                                                                                    current_rolling_mean_size)\n",
    "        model = LinearRegression()\n",
    "        model.fit(train_features, train_target)\n",
    "\n",
    "        predictions = model.predict(valid_features)\n",
    "\n",
    "        current_rmse = mean_squared_error(valid_target, predictions)**.5\n",
    "\n",
    "        if best_rmse > current_rmse:\n",
    "            best_rmse = current_rmse\n",
    "            best_max_lag = current_max_lag\n",
    "            best_rolling_mean_size = current_rolling_mean_size\n",
    "\n",
    "print(\"Лучший RMSE:\", best_rmse)\n",
    "print(\"Лучшее количество разностей: \", best_max_lag)\n",
    "print(\"Лучший размер окна: \", best_rolling_mean_size)"
   ]
  },
  {
   "cell_type": "markdown",
   "metadata": {},
   "source": [
    "### <span style=\"color:green\">Выводы по результатам подготовки данных<span>\n",
    "\n",
    "Мы получили наилучшие параметры датасета для обучения модели по временному ряду.     \n",
    "\n",
    "<span style=\"color:orange\">\n",
    "Лучшее количество разностей: 23.\n",
    "Лучший размер окна:  24.\n",
    "<span>\n",
    "\n",
    "<span style=\"color:blue\">Приступим к обучению различных моделей на этом датасете.<span>"
   ]
  },
  {
   "cell_type": "markdown",
   "metadata": {},
   "source": [
    "# 3. Обучение моделей и выбор лучшей модели<a class=\"anchor\" id=\"3-bullet\"></a>\n",
    "👈[назад к оглавлению](#0-bullet)"
   ]
  },
  {
   "cell_type": "markdown",
   "metadata": {},
   "source": [
    "### <span style=\"color:green\">План обучения моделей<span>\n",
    "\n",
    "<span style=\"color:blue\">\n",
    "\n",
    "1. Разобъем данные на тренировочную и тестовую выборки в размере 9:1.\n",
    "2. Обучим такие модели как Линейная регрессия, Решающее дерево, Случайный лес, LightGBM и CatBoost с различными гиперпараметрами.\n",
    "3. Соберем все результаты обучения в единую таблицу и проведем анализ того, какая модель лучше справилась с здадачей.\n",
    "<span>"
   ]
  },
  {
   "cell_type": "code",
   "execution_count": 19,
   "metadata": {},
   "outputs": [],
   "source": [
    "# Создадим сравнительный датасет в который будем писать параметры модели\n",
    "compare = {'model_name' : [],\n",
    "           'param1_name' : [],\n",
    "           'param1_value' : [],\n",
    "           'param2_name' : [],\n",
    "           'param2_value' : [],\n",
    "           'rmse' : []\n",
    "           }\n",
    "\n",
    "compare_data_models = pd.DataFrame(compare)"
   ]
  },
  {
   "cell_type": "code",
   "execution_count": 20,
   "metadata": {},
   "outputs": [],
   "source": [
    "# Функция для добавления строки в сравнительную таблицу\n",
    "def add_model_params(model_name,\n",
    "                     param1_name,\n",
    "                     param1_value,\n",
    "                     param2_name,\n",
    "                     param2_value,\n",
    "                     rmse,\n",
    "                     compare_data):\n",
    "    \n",
    "    compare_data = compare_data.append(pd.DataFrame([[model_name, \n",
    "                                                      param1_name,\n",
    "                                                      param1_value,\n",
    "                                                      param2_name,\n",
    "                                                      param2_value,\n",
    "                                                      rmse]], \n",
    "                                                      columns = ['model_name', \n",
    "                                                                 'param1_name',\n",
    "                                                                 'param1_value',\n",
    "                                                                 'param2_name',\n",
    "                                                                 'param2_value',\n",
    "                                                                 'rmse']),\n",
    "                                                      ignore_index=True)\n",
    "    \n",
    "    return compare_data"
   ]
  },
  {
   "cell_type": "code",
   "execution_count": 21,
   "metadata": {},
   "outputs": [],
   "source": [
    "train_features, valid_features, test_features, train_target, valid_target, test_target = prepare_data(taxi_data, \n",
    "                                                                                                    best_max_lag,\n",
    "                                                                                                    best_rolling_mean_size)\n"
   ]
  },
  {
   "cell_type": "code",
   "execution_count": 22,
   "metadata": {},
   "outputs": [
    {
     "data": {
      "text/html": [
       "<div>\n",
       "<style scoped>\n",
       "    .dataframe tbody tr th:only-of-type {\n",
       "        vertical-align: middle;\n",
       "    }\n",
       "\n",
       "    .dataframe tbody tr th {\n",
       "        vertical-align: top;\n",
       "    }\n",
       "\n",
       "    .dataframe thead th {\n",
       "        text-align: right;\n",
       "    }\n",
       "</style>\n",
       "<table border=\"1\" class=\"dataframe\">\n",
       "  <thead>\n",
       "    <tr style=\"text-align: right;\">\n",
       "      <th></th>\n",
       "      <th>model_name</th>\n",
       "      <th>param1_name</th>\n",
       "      <th>param1_value</th>\n",
       "      <th>param2_name</th>\n",
       "      <th>param2_value</th>\n",
       "      <th>rmse</th>\n",
       "    </tr>\n",
       "  </thead>\n",
       "  <tbody>\n",
       "    <tr>\n",
       "      <th>0</th>\n",
       "      <td>LinearRegression</td>\n",
       "      <td>None</td>\n",
       "      <td>0.0</td>\n",
       "      <td>None</td>\n",
       "      <td>0.0</td>\n",
       "      <td>45.542447</td>\n",
       "    </tr>\n",
       "  </tbody>\n",
       "</table>\n",
       "</div>"
      ],
      "text/plain": [
       "         model_name param1_name  param1_value param2_name  param2_value  \\\n",
       "0  LinearRegression        None           0.0        None           0.0   \n",
       "\n",
       "        rmse  \n",
       "0  45.542447  "
      ]
     },
     "execution_count": 22,
     "metadata": {},
     "output_type": "execute_result"
    }
   ],
   "source": [
    "model = LinearRegression()\n",
    "\n",
    "train_valid_features = pd.concat([train_features, valid_features])\n",
    "train_valid_target = pd.concat([train_target, valid_target])\n",
    "\n",
    "model.fit(train_valid_features, train_valid_target)\n",
    "\n",
    "test_predictions = model.predict(test_features)\n",
    "\n",
    "rmse = mean_squared_error(test_target, test_predictions)**.5\n",
    "\n",
    "compare_data_models = add_model_params('LinearRegression', \n",
    "                                        'None', \n",
    "                                        0,\n",
    "                                        'None',\n",
    "                                        0,\n",
    "                                         rmse,\n",
    "                                        compare_data_models) \n",
    "\n",
    "compare_data_models"
   ]
  },
  {
   "cell_type": "code",
   "execution_count": 23,
   "metadata": {},
   "outputs": [
    {
     "data": {
      "text/html": [
       "<div>\n",
       "<style scoped>\n",
       "    .dataframe tbody tr th:only-of-type {\n",
       "        vertical-align: middle;\n",
       "    }\n",
       "\n",
       "    .dataframe tbody tr th {\n",
       "        vertical-align: top;\n",
       "    }\n",
       "\n",
       "    .dataframe thead th {\n",
       "        text-align: right;\n",
       "    }\n",
       "</style>\n",
       "<table border=\"1\" class=\"dataframe\">\n",
       "  <thead>\n",
       "    <tr style=\"text-align: right;\">\n",
       "      <th></th>\n",
       "      <th>model_name</th>\n",
       "      <th>param1_name</th>\n",
       "      <th>param1_value</th>\n",
       "      <th>param2_name</th>\n",
       "      <th>param2_value</th>\n",
       "      <th>rmse</th>\n",
       "    </tr>\n",
       "  </thead>\n",
       "  <tbody>\n",
       "    <tr>\n",
       "      <th>0</th>\n",
       "      <td>LinearRegression</td>\n",
       "      <td>None</td>\n",
       "      <td>0.0</td>\n",
       "      <td>None</td>\n",
       "      <td>0.0</td>\n",
       "      <td>45.542447</td>\n",
       "    </tr>\n",
       "    <tr>\n",
       "      <th>1</th>\n",
       "      <td>DecisionTreeRegressor</td>\n",
       "      <td>depth</td>\n",
       "      <td>7.0</td>\n",
       "      <td>None</td>\n",
       "      <td>0.0</td>\n",
       "      <td>64.623126</td>\n",
       "    </tr>\n",
       "  </tbody>\n",
       "</table>\n",
       "</div>"
      ],
      "text/plain": [
       "              model_name param1_name  param1_value param2_name  param2_value  \\\n",
       "0       LinearRegression        None           0.0        None           0.0   \n",
       "1  DecisionTreeRegressor       depth           7.0        None           0.0   \n",
       "\n",
       "        rmse  \n",
       "0  45.542447  \n",
       "1  64.623126  "
      ]
     },
     "execution_count": 23,
     "metadata": {},
     "output_type": "execute_result"
    }
   ],
   "source": [
    "# Дерево решений (подбор параметров)\n",
    "\n",
    "best_rmse = 10000\n",
    "best_depth = 0\n",
    "\n",
    "for depth in range(1, 50):\n",
    "    \n",
    "    model = DecisionTreeRegressor(random_state=12345, max_depth = depth)\n",
    "    model.fit(train_features, train_target)\n",
    "    \n",
    "    predictions = model.predict(valid_features)\n",
    "    \n",
    "    current_rmse = mean_squared_error(valid_target, predictions)**.5\n",
    "    \n",
    "    if best_rmse > current_rmse:\n",
    "        best_rmse = current_rmse\n",
    "        best_depth = depth\n",
    "\n",
    "# Проверим RMSE на тестовой выборке\n",
    "model = DecisionTreeRegressor(random_state=12345, max_depth = best_depth)\n",
    "\n",
    "train_valid_features = pd.concat([train_features, valid_features])\n",
    "train_valid_target = pd.concat([train_target, valid_target])\n",
    "\n",
    "model.fit(train_valid_features, train_valid_target)\n",
    "\n",
    "test_predictions = model.predict(test_features)    \n",
    "rmse = mean_squared_error(test_target, test_predictions)**.5\n",
    "\n",
    "\n",
    "compare_data_models = add_model_params('DecisionTreeRegressor', \n",
    "                                        'depth', \n",
    "                                        best_depth,\n",
    "                                        'None',\n",
    "                                        0,\n",
    "                                        rmse,\n",
    "                                        compare_data_models) \n",
    "\n",
    "compare_data_models"
   ]
  },
  {
   "cell_type": "code",
   "execution_count": 24,
   "metadata": {},
   "outputs": [
    {
     "data": {
      "text/html": [
       "<div>\n",
       "<style scoped>\n",
       "    .dataframe tbody tr th:only-of-type {\n",
       "        vertical-align: middle;\n",
       "    }\n",
       "\n",
       "    .dataframe tbody tr th {\n",
       "        vertical-align: top;\n",
       "    }\n",
       "\n",
       "    .dataframe thead th {\n",
       "        text-align: right;\n",
       "    }\n",
       "</style>\n",
       "<table border=\"1\" class=\"dataframe\">\n",
       "  <thead>\n",
       "    <tr style=\"text-align: right;\">\n",
       "      <th></th>\n",
       "      <th>model_name</th>\n",
       "      <th>param1_name</th>\n",
       "      <th>param1_value</th>\n",
       "      <th>param2_name</th>\n",
       "      <th>param2_value</th>\n",
       "      <th>rmse</th>\n",
       "    </tr>\n",
       "  </thead>\n",
       "  <tbody>\n",
       "    <tr>\n",
       "      <th>0</th>\n",
       "      <td>LinearRegression</td>\n",
       "      <td>None</td>\n",
       "      <td>0.0</td>\n",
       "      <td>None</td>\n",
       "      <td>0.0</td>\n",
       "      <td>45.542447</td>\n",
       "    </tr>\n",
       "    <tr>\n",
       "      <th>1</th>\n",
       "      <td>DecisionTreeRegressor</td>\n",
       "      <td>depth</td>\n",
       "      <td>7.0</td>\n",
       "      <td>None</td>\n",
       "      <td>0.0</td>\n",
       "      <td>64.623126</td>\n",
       "    </tr>\n",
       "    <tr>\n",
       "      <th>2</th>\n",
       "      <td>RandomForestRegressor</td>\n",
       "      <td>max_depth</td>\n",
       "      <td>20.0</td>\n",
       "      <td>n_estimators</td>\n",
       "      <td>27.0</td>\n",
       "      <td>43.901186</td>\n",
       "    </tr>\n",
       "  </tbody>\n",
       "</table>\n",
       "</div>"
      ],
      "text/plain": [
       "              model_name param1_name  param1_value   param2_name  \\\n",
       "0       LinearRegression        None           0.0          None   \n",
       "1  DecisionTreeRegressor       depth           7.0          None   \n",
       "2  RandomForestRegressor   max_depth          20.0  n_estimators   \n",
       "\n",
       "   param2_value       rmse  \n",
       "0           0.0  45.542447  \n",
       "1           0.0  64.623126  \n",
       "2          27.0  43.901186  "
      ]
     },
     "execution_count": 24,
     "metadata": {},
     "output_type": "execute_result"
    }
   ],
   "source": [
    "# Случайный лес (подбор параметров)\n",
    "\n",
    "best_rmse = 100000\n",
    "best_max_depth = 0\n",
    "best_n_estimators = 0\n",
    "\n",
    "for m_depth in range(10, 100, 10):\n",
    "    for n_estim in range(1, 30):\n",
    "    \n",
    "        model = RandomForestRegressor(random_state=12345, max_depth = m_depth, n_estimators=n_estim)\n",
    "        model.fit(train_features, train_target)\n",
    "    \n",
    "        predictions = model.predict(valid_features)\n",
    "\n",
    "        current_rmse = mean_squared_error(valid_target, predictions)**.5\n",
    "    \n",
    "        if best_rmse > current_rmse:\n",
    "            best_rmse = current_rmse\n",
    "            best_max_depth = m_depth\n",
    "            best_n_estimators = n_estim\n",
    "\n",
    "        \n",
    "# Проверим RMSE на тестовой выборке\n",
    "model = RandomForestRegressor(random_state=12345, max_depth = best_max_depth, n_estimators=best_n_estimators)\n",
    "\n",
    "train_valid_features = pd.concat([train_features, valid_features])\n",
    "train_valid_target = pd.concat([train_target, valid_target])\n",
    "\n",
    "model.fit(train_valid_features, train_valid_target)\n",
    "\n",
    "test_predictions = model.predict(test_features)\n",
    "rmse = mean_squared_error(test_target, test_predictions)**.5\n",
    "    \n",
    "compare_data_models = add_model_params('RandomForestRegressor', \n",
    "                                        'max_depth',\n",
    "                                        best_max_depth,\n",
    "                                        'n_estimators', \n",
    "                                        best_n_estimators,\n",
    "                                        rmse,\n",
    "                                        compare_data_models) \n",
    "\n",
    "compare_data_models"
   ]
  },
  {
   "cell_type": "code",
   "execution_count": 25,
   "metadata": {},
   "outputs": [],
   "source": [
    "# Установим общие параметры для LightGBM и CatBoost\n",
    "start_n_estimators = 150\n",
    "finish_n_estimators = 200\n",
    "step_n_estimators = 10"
   ]
  },
  {
   "cell_type": "code",
   "execution_count": 26,
   "metadata": {},
   "outputs": [
    {
     "name": "stdout",
     "output_type": "stream",
     "text": [
      "[LightGBM] [Warning] Accuracy may be bad since you didn't set num_leaves and 2^max_depth > num_leaves\n",
      "[LightGBM] [Warning] Accuracy may be bad since you didn't set num_leaves and 2^max_depth > num_leaves\n",
      "[LightGBM] [Warning] Accuracy may be bad since you didn't set num_leaves and 2^max_depth > num_leaves\n",
      "[LightGBM] [Warning] Accuracy may be bad since you didn't set num_leaves and 2^max_depth > num_leaves\n",
      "[LightGBM] [Warning] Accuracy may be bad since you didn't set num_leaves and 2^max_depth > num_leaves\n",
      "[LightGBM] [Warning] Accuracy may be bad since you didn't set num_leaves and 2^max_depth > num_leaves\n",
      "[LightGBM] [Warning] Accuracy may be bad since you didn't set num_leaves and 2^max_depth > num_leaves\n",
      "[LightGBM] [Warning] Accuracy may be bad since you didn't set num_leaves and 2^max_depth > num_leaves\n",
      "[LightGBM] [Warning] Accuracy may be bad since you didn't set num_leaves and 2^max_depth > num_leaves\n",
      "[LightGBM] [Warning] Accuracy may be bad since you didn't set num_leaves and 2^max_depth > num_leaves\n",
      "[LightGBM] [Warning] Accuracy may be bad since you didn't set num_leaves and 2^max_depth > num_leaves\n"
     ]
    },
    {
     "data": {
      "text/html": [
       "<div>\n",
       "<style scoped>\n",
       "    .dataframe tbody tr th:only-of-type {\n",
       "        vertical-align: middle;\n",
       "    }\n",
       "\n",
       "    .dataframe tbody tr th {\n",
       "        vertical-align: top;\n",
       "    }\n",
       "\n",
       "    .dataframe thead th {\n",
       "        text-align: right;\n",
       "    }\n",
       "</style>\n",
       "<table border=\"1\" class=\"dataframe\">\n",
       "  <thead>\n",
       "    <tr style=\"text-align: right;\">\n",
       "      <th></th>\n",
       "      <th>model_name</th>\n",
       "      <th>param1_name</th>\n",
       "      <th>param1_value</th>\n",
       "      <th>param2_name</th>\n",
       "      <th>param2_value</th>\n",
       "      <th>rmse</th>\n",
       "    </tr>\n",
       "  </thead>\n",
       "  <tbody>\n",
       "    <tr>\n",
       "      <th>0</th>\n",
       "      <td>LinearRegression</td>\n",
       "      <td>None</td>\n",
       "      <td>0.0</td>\n",
       "      <td>None</td>\n",
       "      <td>0.0</td>\n",
       "      <td>45.542447</td>\n",
       "    </tr>\n",
       "    <tr>\n",
       "      <th>1</th>\n",
       "      <td>DecisionTreeRegressor</td>\n",
       "      <td>depth</td>\n",
       "      <td>7.0</td>\n",
       "      <td>None</td>\n",
       "      <td>0.0</td>\n",
       "      <td>64.623126</td>\n",
       "    </tr>\n",
       "    <tr>\n",
       "      <th>2</th>\n",
       "      <td>RandomForestRegressor</td>\n",
       "      <td>max_depth</td>\n",
       "      <td>20.0</td>\n",
       "      <td>n_estimators</td>\n",
       "      <td>27.0</td>\n",
       "      <td>43.901186</td>\n",
       "    </tr>\n",
       "    <tr>\n",
       "      <th>3</th>\n",
       "      <td>LGBMRegressor</td>\n",
       "      <td>max_depth</td>\n",
       "      <td>24.0</td>\n",
       "      <td>n_estimators</td>\n",
       "      <td>150.0</td>\n",
       "      <td>41.887015</td>\n",
       "    </tr>\n",
       "  </tbody>\n",
       "</table>\n",
       "</div>"
      ],
      "text/plain": [
       "              model_name param1_name  param1_value   param2_name  \\\n",
       "0       LinearRegression        None           0.0          None   \n",
       "1  DecisionTreeRegressor       depth           7.0          None   \n",
       "2  RandomForestRegressor   max_depth          20.0  n_estimators   \n",
       "3          LGBMRegressor   max_depth          24.0  n_estimators   \n",
       "\n",
       "   param2_value       rmse  \n",
       "0           0.0  45.542447  \n",
       "1           0.0  64.623126  \n",
       "2          27.0  43.901186  \n",
       "3         150.0  41.887015  "
      ]
     },
     "execution_count": 26,
     "metadata": {},
     "output_type": "execute_result"
    }
   ],
   "source": [
    "# Обучим LightGBM, выберем лучшие гиперпараметры, исходя из RMSE и добавим параметры в таблицу\n",
    "\n",
    "# Введем переменную с заведомо большим RMSE и в таблицу запишем только те параметры, \n",
    "# по которым мы получим лучшее значение\n",
    "best_rmse = 100000\n",
    "\n",
    "best_max_depth = 0\n",
    "best_n_estimators = 0\n",
    "\n",
    "start_max_depth = 24\n",
    "finish_max_depth = 27\n",
    "step_max_depth = 2\n",
    "\n",
    "# Подберем лучшие параметры\n",
    "for current_max_depth in range(start_max_depth, \n",
    "                                finish_max_depth, \n",
    "                                step_max_depth):\n",
    "    for current_n_estimators in range(start_n_estimators, \n",
    "                                        finish_n_estimators, \n",
    "                                        step_n_estimators):\n",
    "                    \n",
    "        model = LGBMRegressor(random_state=12345, \n",
    "                                max_depth = current_max_depth,\n",
    "                                n_estimators = current_n_estimators)    \n",
    "        \n",
    "        model.fit(train_features, train_target)\n",
    "\n",
    "        predictions = model.predict(valid_features)\n",
    "\n",
    "        current_rmse = mean_squared_error(valid_target, predictions)**.5\n",
    "    \n",
    "        if current_rmse < best_rmse:\n",
    "            best_rmse = current_rmse\n",
    "            best_n_estimators = current_n_estimators\n",
    "            best_max_depth = current_max_depth\n",
    "\n",
    "# Проверим RMSE на тестовой выборке\n",
    "model = LGBMRegressor(random_state=12345, \n",
    "                      max_depth = best_max_depth,\n",
    "                      n_estimators = best_n_estimators)    \n",
    "\n",
    "train_valid_features = pd.concat([train_features, valid_features])\n",
    "train_valid_target = pd.concat([train_target, valid_target])\n",
    "\n",
    "model.fit(train_valid_features, train_valid_target)\n",
    "\n",
    "test_predictions = model.predict(test_features)\n",
    "rmse = mean_squared_error(test_target, test_predictions)**.5\n",
    "\n",
    "compare_data_models = add_model_params('LGBMRegressor', \n",
    "                                        'max_depth', \n",
    "                                        best_max_depth,\n",
    "                                        'n_estimators',\n",
    "                                        best_n_estimators,\n",
    "                                        rmse,\n",
    "                                        compare_data_models) \n",
    "\n",
    "compare_data_models"
   ]
  },
  {
   "cell_type": "code",
   "execution_count": 27,
   "metadata": {},
   "outputs": [
    {
     "name": "stdout",
     "output_type": "stream",
     "text": [
      "Learning rate set to 0.200247\n",
      "0:\tlearn: 31.3295911\ttotal: 1.01s\tremaining: 2m 30s\n",
      "50:\tlearn: 4.8068187\ttotal: 43.6s\tremaining: 1m 24s\n",
      "100:\tlearn: 1.6503020\ttotal: 1m 29s\tremaining: 43.4s\n",
      "149:\tlearn: 0.6152126\ttotal: 2m 15s\tremaining: 0us\n",
      "Learning rate set to 0.190662\n",
      "0:\tlearn: 31.4504672\ttotal: 814ms\tremaining: 2m 9s\n",
      "50:\tlearn: 5.0924314\ttotal: 43.7s\tremaining: 1m 33s\n",
      "100:\tlearn: 1.6243185\ttotal: 1m 27s\tremaining: 50.9s\n",
      "150:\tlearn: 0.5833365\ttotal: 2m 9s\tremaining: 7.71s\n",
      "159:\tlearn: 0.4879933\ttotal: 2m 17s\tremaining: 0us\n",
      "Learning rate set to 0.182077\n",
      "0:\tlearn: 31.5590968\ttotal: 849ms\tremaining: 2m 23s\n",
      "50:\tlearn: 5.7915673\ttotal: 43.5s\tremaining: 1m 41s\n",
      "100:\tlearn: 1.8512238\ttotal: 1m 26s\tremaining: 59.2s\n",
      "150:\tlearn: 0.7479223\ttotal: 2m 9s\tremaining: 16.3s\n",
      "169:\tlearn: 0.4996689\ttotal: 2m 25s\tremaining: 0us\n",
      "Learning rate set to 0.174336\n",
      "0:\tlearn: 31.6573396\ttotal: 815ms\tremaining: 2m 25s\n",
      "50:\tlearn: 5.8368986\ttotal: 43.6s\tremaining: 1m 50s\n",
      "100:\tlearn: 2.0349571\ttotal: 1m 27s\tremaining: 1m 8s\n",
      "150:\tlearn: 0.7381755\ttotal: 2m 9s\tremaining: 24.9s\n",
      "179:\tlearn: 0.4217499\ttotal: 2m 34s\tremaining: 0us\n",
      "Learning rate set to 0.167318\n",
      "0:\tlearn: 31.7466440\ttotal: 835ms\tremaining: 2m 37s\n",
      "50:\tlearn: 6.4862308\ttotal: 43.1s\tremaining: 1m 57s\n",
      "100:\tlearn: 2.2124773\ttotal: 1m 32s\tremaining: 1m 21s\n",
      "150:\tlearn: 0.9250437\ttotal: 2m 16s\tremaining: 35.3s\n",
      "189:\tlearn: 0.4576232\ttotal: 2m 50s\tremaining: 0us\n",
      "Learning rate set to 0.200247\n",
      "0:\tlearn: 31.6662029\ttotal: 3.37s\tremaining: 8m 21s\n",
      "50:\tlearn: 3.1090064\ttotal: 2m 55s\tremaining: 5m 40s\n",
      "100:\tlearn: 0.5320618\ttotal: 5m 49s\tremaining: 2m 49s\n",
      "149:\tlearn: 0.1393983\ttotal: 8m 32s\tremaining: 0us\n",
      "Learning rate set to 0.190662\n",
      "0:\tlearn: 31.7726998\ttotal: 3.26s\tremaining: 8m 37s\n",
      "50:\tlearn: 3.3844647\ttotal: 2m 54s\tremaining: 6m 12s\n",
      "100:\tlearn: 0.6189573\ttotal: 5m 40s\tremaining: 3m 19s\n",
      "150:\tlearn: 0.1597893\ttotal: 8m 39s\tremaining: 31s\n",
      "159:\tlearn: 0.1294446\ttotal: 9m 9s\tremaining: 0us\n",
      "Learning rate set to 0.182077\n",
      "0:\tlearn: 31.8682896\ttotal: 3.55s\tremaining: 9m 59s\n",
      "50:\tlearn: 3.8601612\ttotal: 2m 55s\tremaining: 6m 48s\n",
      "100:\tlearn: 0.7651651\ttotal: 5m 44s\tremaining: 3m 55s\n",
      "150:\tlearn: 0.1978246\ttotal: 8m 30s\tremaining: 1m 4s\n",
      "169:\tlearn: 0.1305413\ttotal: 9m 33s\tremaining: 0us\n",
      "Learning rate set to 0.174336\n",
      "0:\tlearn: 31.9546458\ttotal: 3.38s\tremaining: 10m 4s\n",
      "50:\tlearn: 4.0122900\ttotal: 2m 51s\tremaining: 7m 14s\n",
      "100:\tlearn: 0.7663122\ttotal: 5m 43s\tremaining: 4m 28s\n",
      "150:\tlearn: 0.2060879\ttotal: 8m 31s\tremaining: 1m 38s\n",
      "179:\tlearn: 0.1055376\ttotal: 10m 7s\tremaining: 0us\n",
      "Learning rate set to 0.167318\n",
      "0:\tlearn: 32.0330696\ttotal: 3.27s\tremaining: 10m 18s\n",
      "50:\tlearn: 4.4937039\ttotal: 2m 51s\tremaining: 7m 48s\n",
      "100:\tlearn: 1.0067068\ttotal: 5m 37s\tremaining: 4m 57s\n",
      "150:\tlearn: 0.2935741\ttotal: 8m 22s\tremaining: 2m 9s\n",
      "189:\tlearn: 0.1184520\ttotal: 10m 32s\tremaining: 0us\n",
      "Learning rate set to 0.191643\n",
      "0:\tlearn: 35.5235184\ttotal: 961ms\tremaining: 2m 42s\n",
      "50:\tlearn: 8.6742048\ttotal: 50s\tremaining: 1m 56s\n",
      "100:\tlearn: 3.1469713\ttotal: 1m 38s\tremaining: 1m 7s\n",
      "150:\tlearn: 1.3367173\ttotal: 2m 28s\tremaining: 18.7s\n",
      "169:\tlearn: 0.9851936\ttotal: 2m 47s\tremaining: 0us\n"
     ]
    },
    {
     "data": {
      "text/html": [
       "<div>\n",
       "<style scoped>\n",
       "    .dataframe tbody tr th:only-of-type {\n",
       "        vertical-align: middle;\n",
       "    }\n",
       "\n",
       "    .dataframe tbody tr th {\n",
       "        vertical-align: top;\n",
       "    }\n",
       "\n",
       "    .dataframe thead th {\n",
       "        text-align: right;\n",
       "    }\n",
       "</style>\n",
       "<table border=\"1\" class=\"dataframe\">\n",
       "  <thead>\n",
       "    <tr style=\"text-align: right;\">\n",
       "      <th></th>\n",
       "      <th>model_name</th>\n",
       "      <th>param1_name</th>\n",
       "      <th>param1_value</th>\n",
       "      <th>param2_name</th>\n",
       "      <th>param2_value</th>\n",
       "      <th>rmse</th>\n",
       "    </tr>\n",
       "  </thead>\n",
       "  <tbody>\n",
       "    <tr>\n",
       "      <th>0</th>\n",
       "      <td>LinearRegression</td>\n",
       "      <td>None</td>\n",
       "      <td>0.0</td>\n",
       "      <td>None</td>\n",
       "      <td>0.0</td>\n",
       "      <td>45.542447</td>\n",
       "    </tr>\n",
       "    <tr>\n",
       "      <th>1</th>\n",
       "      <td>DecisionTreeRegressor</td>\n",
       "      <td>depth</td>\n",
       "      <td>7.0</td>\n",
       "      <td>None</td>\n",
       "      <td>0.0</td>\n",
       "      <td>64.623126</td>\n",
       "    </tr>\n",
       "    <tr>\n",
       "      <th>2</th>\n",
       "      <td>RandomForestRegressor</td>\n",
       "      <td>max_depth</td>\n",
       "      <td>20.0</td>\n",
       "      <td>n_estimators</td>\n",
       "      <td>27.0</td>\n",
       "      <td>43.901186</td>\n",
       "    </tr>\n",
       "    <tr>\n",
       "      <th>3</th>\n",
       "      <td>LGBMRegressor</td>\n",
       "      <td>max_depth</td>\n",
       "      <td>24.0</td>\n",
       "      <td>n_estimators</td>\n",
       "      <td>150.0</td>\n",
       "      <td>41.887015</td>\n",
       "    </tr>\n",
       "    <tr>\n",
       "      <th>4</th>\n",
       "      <td>CatBoostRegressor</td>\n",
       "      <td>depth</td>\n",
       "      <td>14.0</td>\n",
       "      <td>n_estimators</td>\n",
       "      <td>170.0</td>\n",
       "      <td>53.177449</td>\n",
       "    </tr>\n",
       "  </tbody>\n",
       "</table>\n",
       "</div>"
      ],
      "text/plain": [
       "              model_name param1_name  param1_value   param2_name  \\\n",
       "0       LinearRegression        None           0.0          None   \n",
       "1  DecisionTreeRegressor       depth           7.0          None   \n",
       "2  RandomForestRegressor   max_depth          20.0  n_estimators   \n",
       "3          LGBMRegressor   max_depth          24.0  n_estimators   \n",
       "4      CatBoostRegressor       depth          14.0  n_estimators   \n",
       "\n",
       "   param2_value       rmse  \n",
       "0           0.0  45.542447  \n",
       "1           0.0  64.623126  \n",
       "2          27.0  43.901186  \n",
       "3         150.0  41.887015  \n",
       "4         170.0  53.177449  "
      ]
     },
     "execution_count": 27,
     "metadata": {},
     "output_type": "execute_result"
    }
   ],
   "source": [
    "# Обучим CatBoost, выберем лучшие гиперпараметры, исходя из RMSE и добавим параметры в таблицу\n",
    "\n",
    "# Введем переменную с заведомо большим RMSE и в таблицу запишем только те параметры, \n",
    "# по которым мы получим лучшее значение\n",
    "best_rmse = 100000\n",
    "\n",
    "best_depth = 0\n",
    "best_n_estimators = 0\n",
    "\n",
    "start_depth = 14\n",
    "finish_depth = 17\n",
    "step_depth = 2\n",
    "    \n",
    "for current_depth in range(start_depth, \n",
    "                            finish_depth, \n",
    "                            step_depth):\n",
    "    for current_n_estimators in range(start_n_estimators, \n",
    "                                        finish_n_estimators, \n",
    "                                        step_n_estimators):\n",
    "\n",
    "        params = {\"n_estimators\": current_n_estimators,\n",
    "                  \"depth\": current_depth,\n",
    "                  \"loss_function\": \"RMSE\",\n",
    "                  #\"verbose\": False}\n",
    "                  \"verbose\": 20}\n",
    "\n",
    "        model = CatBoostRegressor(depth = current_depth,\n",
    "                                  n_estimators = current_n_estimators,\n",
    "                                  verbose = 50, loss_function = 'RMSE')    \n",
    "\n",
    "        train_pool = Pool(train_features, train_target)\n",
    "                          \n",
    "        model.fit(train_pool)\n",
    "\n",
    "        predictions = model.predict(valid_features)\n",
    "\n",
    "        current_rmse = mean_squared_error(valid_target, predictions)**.5\n",
    "    \n",
    "        if current_rmse < best_rmse:\n",
    "            best_rmse = current_rmse\n",
    "            best_n_estimators = current_n_estimators\n",
    "            best_depth = current_depth\n",
    "\n",
    "model = CatBoostRegressor(depth = best_depth,\n",
    "                            n_estimators = best_n_estimators,\n",
    "                            verbose = 50, loss_function = 'RMSE')    \n",
    "\n",
    "train_valid_features = pd.concat([train_features, valid_features])\n",
    "train_valid_target = pd.concat([train_target, valid_target])\n",
    "\n",
    "train_pool = Pool(train_valid_features, train_valid_target)\n",
    "\n",
    "model.fit(train_pool)\n",
    "\n",
    "test_predictions = model.predict(test_features)\n",
    "rmse = mean_squared_error(test_target, test_predictions)**.5\n",
    "\n",
    "compare_data_models = add_model_params('CatBoostRegressor', \n",
    "                                        'depth', \n",
    "                                        best_depth,\n",
    "                                        'n_estimators',\n",
    "                                        best_n_estimators,\n",
    "                                        rmse,\n",
    "                                        compare_data_models) \n",
    "\n",
    "compare_data_models"
   ]
  },
  {
   "cell_type": "markdown",
   "metadata": {},
   "source": [
    "## <span style=\"color:green\">Выбор лучшей модели<span>\n",
    "\n",
    "<span style=\"color:orange\">\n",
    "    \n",
    "Лучше всех с задачей справилась такая модель, как <b>Линейная регрессия (RMSE = 46.93)</b>. Она единственная прошла необходимый порог.\n",
    "    \n",
    "<span>\n",
    "\n",
    "\n",
    "## <span style=\"color:red\">ВЫВОД<span>\n",
    "    \n",
    "<span style=\"color:red\">Учитывая простоту использования и скорость работы простых моделей (таких, как <b>Линейная регрессия</b>), для прогнозирования количества заказов на следующий час необходимо использовать ее.<span>"
   ]
  }
 ],
 "metadata": {
  "kernelspec": {
   "display_name": "Python 3",
   "language": "python",
   "name": "python3"
  },
  "language_info": {
   "codemirror_mode": {
    "name": "ipython",
    "version": 3
   },
   "file_extension": ".py",
   "mimetype": "text/x-python",
   "name": "python",
   "nbconvert_exporter": "python",
   "pygments_lexer": "ipython3",
   "version": "3.8.3"
  }
 },
 "nbformat": 4,
 "nbformat_minor": 4
}
