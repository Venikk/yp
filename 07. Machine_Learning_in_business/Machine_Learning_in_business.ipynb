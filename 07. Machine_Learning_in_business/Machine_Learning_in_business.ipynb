{
 "cells": [
  {
   "cell_type": "markdown",
   "metadata": {},
   "source": [
    "# Описание проекта"
   ]
  },
  {
   "cell_type": "markdown",
   "metadata": {},
   "source": [
    "Допустим, вы работаете в добывающей компании «ГлавРосГосНефть». Нужно решить, где бурить новую скважину.\n",
    "\n",
    "Вам предоставлены пробы нефти в трёх регионах: в каждом 10 000 месторождений, где измерили качество нефти и объём её запасов. Постройте модель машинного обучения, которая поможет определить регион, где добыча принесёт наибольшую прибыль. Проанализируйте возможную прибыль и риски техникой *Bootstrap.*\n",
    "\n",
    "Шаги для выбора локации:\n",
    "\n",
    "- В избранном регионе ищут месторождения, для каждого определяют значения признаков;\n",
    "- Строят модель и оценивают объём запасов;\n",
    "- Выбирают месторождения с самым высокими оценками значений. Количество месторождений зависит от бюджета компании и стоимости разработки одной скважины;\n",
    "- Прибыль равна суммарной прибыли отобранных месторождений."
   ]
  },
  {
   "cell_type": "markdown",
   "metadata": {},
   "source": [
    "# Содержание проекта  <a class=\"anchor\" id=\"0-bullet\">\n",
    "* [1. Загрузка и подготовка данных](#1-bullet)\n",
    "* [2. Обучение и проверка модели](#2-bullet)\n",
    "* [3. Подготовка к расчёту прибыли](#3-bullet)\n",
    "* [4. Расчёт прибыли и рисков](#4-bullet)\n",
    "* [Общий вывод](#5-bullet)"
   ]
  },
  {
   "cell_type": "markdown",
   "metadata": {},
   "source": [
    "# 1. Загрузка и подготовка данных <a class=\"anchor\" id=\"1-bullet\"></a>\n",
    "👈[назад к оглавлению](#0-bullet)"
   ]
  },
  {
   "cell_type": "markdown",
   "metadata": {},
   "source": [
    "#### <span style=\"color:green\">План подготовки данных для обучения:<span>\n",
    "    \n",
    "1. Проанализируем данные на предмет пропусков и посмотрим на типы данных, хранящиеся в признаках.\n",
    "2. Выделим целевой признак из каждой выборки.\n",
    "3. Проанализируем параметры распределения каждого из признаков.\n",
    "4. При необходимости масштабируем признаки."
   ]
  },
  {
   "cell_type": "code",
   "execution_count": 1,
   "metadata": {},
   "outputs": [],
   "source": [
    "import pandas as pd\n",
    "\n",
    "geo_data_0 = pd.read_csv('/datasets/geo_data_0.csv')\n",
    "geo_data_1 = pd.read_csv('/datasets/geo_data_1.csv')\n",
    "geo_data_2 = pd.read_csv('/datasets/geo_data_2.csv')"
   ]
  },
  {
   "cell_type": "code",
   "execution_count": 2,
   "metadata": {},
   "outputs": [
    {
     "name": "stdout",
     "output_type": "stream",
     "text": [
      "<class 'pandas.core.frame.DataFrame'>\n",
      "RangeIndex: 100000 entries, 0 to 99999\n",
      "Data columns (total 5 columns):\n",
      "id         100000 non-null object\n",
      "f0         100000 non-null float64\n",
      "f1         100000 non-null float64\n",
      "f2         100000 non-null float64\n",
      "product    100000 non-null float64\n",
      "dtypes: float64(4), object(1)\n",
      "memory usage: 3.8+ MB\n"
     ]
    }
   ],
   "source": [
    "geo_data_0.info()"
   ]
  },
  {
   "cell_type": "code",
   "execution_count": 3,
   "metadata": {},
   "outputs": [
    {
     "data": {
      "text/html": [
       "<div>\n",
       "<style scoped>\n",
       "    .dataframe tbody tr th:only-of-type {\n",
       "        vertical-align: middle;\n",
       "    }\n",
       "\n",
       "    .dataframe tbody tr th {\n",
       "        vertical-align: top;\n",
       "    }\n",
       "\n",
       "    .dataframe thead th {\n",
       "        text-align: right;\n",
       "    }\n",
       "</style>\n",
       "<table border=\"1\" class=\"dataframe\">\n",
       "  <thead>\n",
       "    <tr style=\"text-align: right;\">\n",
       "      <th></th>\n",
       "      <th>id</th>\n",
       "      <th>f0</th>\n",
       "      <th>f1</th>\n",
       "      <th>f2</th>\n",
       "      <th>product</th>\n",
       "    </tr>\n",
       "  </thead>\n",
       "  <tbody>\n",
       "    <tr>\n",
       "      <td>17929</td>\n",
       "      <td>G8OVt</td>\n",
       "      <td>-0.035974</td>\n",
       "      <td>0.074131</td>\n",
       "      <td>2.853431</td>\n",
       "      <td>176.148231</td>\n",
       "    </tr>\n",
       "    <tr>\n",
       "      <td>94241</td>\n",
       "      <td>6AY0I</td>\n",
       "      <td>0.819867</td>\n",
       "      <td>-0.451616</td>\n",
       "      <td>2.868453</td>\n",
       "      <td>74.431604</td>\n",
       "    </tr>\n",
       "    <tr>\n",
       "      <td>84803</td>\n",
       "      <td>KZyYk</td>\n",
       "      <td>1.351329</td>\n",
       "      <td>-0.343521</td>\n",
       "      <td>2.312246</td>\n",
       "      <td>139.800778</td>\n",
       "    </tr>\n",
       "    <tr>\n",
       "      <td>60673</td>\n",
       "      <td>sMBVe</td>\n",
       "      <td>0.212455</td>\n",
       "      <td>0.990618</td>\n",
       "      <td>6.884092</td>\n",
       "      <td>133.362606</td>\n",
       "    </tr>\n",
       "    <tr>\n",
       "      <td>32974</td>\n",
       "      <td>SQQ3a</td>\n",
       "      <td>0.440058</td>\n",
       "      <td>-0.354556</td>\n",
       "      <td>5.718384</td>\n",
       "      <td>134.269126</td>\n",
       "    </tr>\n",
       "  </tbody>\n",
       "</table>\n",
       "</div>"
      ],
      "text/plain": [
       "          id        f0        f1        f2     product\n",
       "17929  G8OVt -0.035974  0.074131  2.853431  176.148231\n",
       "94241  6AY0I  0.819867 -0.451616  2.868453   74.431604\n",
       "84803  KZyYk  1.351329 -0.343521  2.312246  139.800778\n",
       "60673  sMBVe  0.212455  0.990618  6.884092  133.362606\n",
       "32974  SQQ3a  0.440058 -0.354556  5.718384  134.269126"
      ]
     },
     "execution_count": 3,
     "metadata": {},
     "output_type": "execute_result"
    }
   ],
   "source": [
    "geo_data_0.sample(5)"
   ]
  },
  {
   "cell_type": "code",
   "execution_count": 4,
   "metadata": {},
   "outputs": [
    {
     "name": "stdout",
     "output_type": "stream",
     "text": [
      "<class 'pandas.core.frame.DataFrame'>\n",
      "RangeIndex: 100000 entries, 0 to 99999\n",
      "Data columns (total 5 columns):\n",
      "id         100000 non-null object\n",
      "f0         100000 non-null float64\n",
      "f1         100000 non-null float64\n",
      "f2         100000 non-null float64\n",
      "product    100000 non-null float64\n",
      "dtypes: float64(4), object(1)\n",
      "memory usage: 3.8+ MB\n"
     ]
    }
   ],
   "source": [
    "geo_data_1.info()"
   ]
  },
  {
   "cell_type": "code",
   "execution_count": 5,
   "metadata": {},
   "outputs": [
    {
     "data": {
      "text/html": [
       "<div>\n",
       "<style scoped>\n",
       "    .dataframe tbody tr th:only-of-type {\n",
       "        vertical-align: middle;\n",
       "    }\n",
       "\n",
       "    .dataframe tbody tr th {\n",
       "        vertical-align: top;\n",
       "    }\n",
       "\n",
       "    .dataframe thead th {\n",
       "        text-align: right;\n",
       "    }\n",
       "</style>\n",
       "<table border=\"1\" class=\"dataframe\">\n",
       "  <thead>\n",
       "    <tr style=\"text-align: right;\">\n",
       "      <th></th>\n",
       "      <th>id</th>\n",
       "      <th>f0</th>\n",
       "      <th>f1</th>\n",
       "      <th>f2</th>\n",
       "      <th>product</th>\n",
       "    </tr>\n",
       "  </thead>\n",
       "  <tbody>\n",
       "    <tr>\n",
       "      <td>79817</td>\n",
       "      <td>x7sI9</td>\n",
       "      <td>16.011234</td>\n",
       "      <td>1.497149</td>\n",
       "      <td>-0.003848</td>\n",
       "      <td>0.000000</td>\n",
       "    </tr>\n",
       "    <tr>\n",
       "      <td>15116</td>\n",
       "      <td>rxRei</td>\n",
       "      <td>-12.280337</td>\n",
       "      <td>-5.110701</td>\n",
       "      <td>2.996355</td>\n",
       "      <td>84.038886</td>\n",
       "    </tr>\n",
       "    <tr>\n",
       "      <td>33083</td>\n",
       "      <td>MjqXn</td>\n",
       "      <td>1.459217</td>\n",
       "      <td>-2.078826</td>\n",
       "      <td>3.001114</td>\n",
       "      <td>84.038886</td>\n",
       "    </tr>\n",
       "    <tr>\n",
       "      <td>49796</td>\n",
       "      <td>4rJaK</td>\n",
       "      <td>-3.472108</td>\n",
       "      <td>-2.703917</td>\n",
       "      <td>1.999056</td>\n",
       "      <td>53.906522</td>\n",
       "    </tr>\n",
       "    <tr>\n",
       "      <td>50896</td>\n",
       "      <td>mIHSx</td>\n",
       "      <td>-4.124305</td>\n",
       "      <td>-2.639357</td>\n",
       "      <td>0.997444</td>\n",
       "      <td>30.132364</td>\n",
       "    </tr>\n",
       "  </tbody>\n",
       "</table>\n",
       "</div>"
      ],
      "text/plain": [
       "          id         f0        f1        f2    product\n",
       "79817  x7sI9  16.011234  1.497149 -0.003848   0.000000\n",
       "15116  rxRei -12.280337 -5.110701  2.996355  84.038886\n",
       "33083  MjqXn   1.459217 -2.078826  3.001114  84.038886\n",
       "49796  4rJaK  -3.472108 -2.703917  1.999056  53.906522\n",
       "50896  mIHSx  -4.124305 -2.639357  0.997444  30.132364"
      ]
     },
     "execution_count": 5,
     "metadata": {},
     "output_type": "execute_result"
    }
   ],
   "source": [
    "geo_data_1.sample(5)"
   ]
  },
  {
   "cell_type": "code",
   "execution_count": 6,
   "metadata": {},
   "outputs": [
    {
     "name": "stdout",
     "output_type": "stream",
     "text": [
      "<class 'pandas.core.frame.DataFrame'>\n",
      "RangeIndex: 100000 entries, 0 to 99999\n",
      "Data columns (total 5 columns):\n",
      "id         100000 non-null object\n",
      "f0         100000 non-null float64\n",
      "f1         100000 non-null float64\n",
      "f2         100000 non-null float64\n",
      "product    100000 non-null float64\n",
      "dtypes: float64(4), object(1)\n",
      "memory usage: 3.8+ MB\n"
     ]
    }
   ],
   "source": [
    "geo_data_2.info()"
   ]
  },
  {
   "cell_type": "code",
   "execution_count": 7,
   "metadata": {},
   "outputs": [
    {
     "data": {
      "text/html": [
       "<div>\n",
       "<style scoped>\n",
       "    .dataframe tbody tr th:only-of-type {\n",
       "        vertical-align: middle;\n",
       "    }\n",
       "\n",
       "    .dataframe tbody tr th {\n",
       "        vertical-align: top;\n",
       "    }\n",
       "\n",
       "    .dataframe thead th {\n",
       "        text-align: right;\n",
       "    }\n",
       "</style>\n",
       "<table border=\"1\" class=\"dataframe\">\n",
       "  <thead>\n",
       "    <tr style=\"text-align: right;\">\n",
       "      <th></th>\n",
       "      <th>id</th>\n",
       "      <th>f0</th>\n",
       "      <th>f1</th>\n",
       "      <th>f2</th>\n",
       "      <th>product</th>\n",
       "    </tr>\n",
       "  </thead>\n",
       "  <tbody>\n",
       "    <tr>\n",
       "      <td>59515</td>\n",
       "      <td>t472A</td>\n",
       "      <td>-0.638450</td>\n",
       "      <td>-2.057873</td>\n",
       "      <td>5.181952</td>\n",
       "      <td>62.881878</td>\n",
       "    </tr>\n",
       "    <tr>\n",
       "      <td>74830</td>\n",
       "      <td>lFbbm</td>\n",
       "      <td>-2.594120</td>\n",
       "      <td>0.736560</td>\n",
       "      <td>4.153395</td>\n",
       "      <td>89.662346</td>\n",
       "    </tr>\n",
       "    <tr>\n",
       "      <td>97206</td>\n",
       "      <td>W2Gqu</td>\n",
       "      <td>0.884842</td>\n",
       "      <td>0.714307</td>\n",
       "      <td>4.018197</td>\n",
       "      <td>62.879235</td>\n",
       "    </tr>\n",
       "    <tr>\n",
       "      <td>23271</td>\n",
       "      <td>8WcBu</td>\n",
       "      <td>-1.255122</td>\n",
       "      <td>6.357982</td>\n",
       "      <td>7.520379</td>\n",
       "      <td>139.512299</td>\n",
       "    </tr>\n",
       "    <tr>\n",
       "      <td>40983</td>\n",
       "      <td>ab0ht</td>\n",
       "      <td>1.965822</td>\n",
       "      <td>0.104189</td>\n",
       "      <td>0.644605</td>\n",
       "      <td>115.327301</td>\n",
       "    </tr>\n",
       "  </tbody>\n",
       "</table>\n",
       "</div>"
      ],
      "text/plain": [
       "          id        f0        f1        f2     product\n",
       "59515  t472A -0.638450 -2.057873  5.181952   62.881878\n",
       "74830  lFbbm -2.594120  0.736560  4.153395   89.662346\n",
       "97206  W2Gqu  0.884842  0.714307  4.018197   62.879235\n",
       "23271  8WcBu -1.255122  6.357982  7.520379  139.512299\n",
       "40983  ab0ht  1.965822  0.104189  0.644605  115.327301"
      ]
     },
     "execution_count": 7,
     "metadata": {},
     "output_type": "execute_result"
    }
   ],
   "source": [
    "geo_data_2.sample(5)"
   ]
  },
  {
   "cell_type": "markdown",
   "metadata": {},
   "source": [
    "#### <span style=\"color:green\">Выводы по результатам анализа данных<span>\n",
    "\n",
    "1. Признак 'id' для обучения модели не нужен.\n",
    "2. Пропусков нет.\n",
    "3. Все значимые признаки и целевой признак имеют тип 'float64'.\n",
    "    \n",
    "<span style=\"color:blue\">Теперь выделим целевые признаки из датасетов и посмотрим на параметры распределения признаков<span>"
   ]
  },
  {
   "cell_type": "code",
   "execution_count": 8,
   "metadata": {},
   "outputs": [],
   "source": [
    "# Разделим датасеты на целевые и прочие признаки\n",
    "target_geo_data_0 = geo_data_0['product']\n",
    "features_geo_data_0 = geo_data_0.drop(['product','id'] , axis=1)\n",
    "\n",
    "target_geo_data_1 = geo_data_1['product']\n",
    "features_geo_data_1 = geo_data_1.drop(['product','id'] , axis=1)\n",
    "\n",
    "target_geo_data_2 = geo_data_2['product']\n",
    "features_geo_data_2 = geo_data_2.drop(['product','id'] , axis=1)"
   ]
  },
  {
   "cell_type": "code",
   "execution_count": 9,
   "metadata": {},
   "outputs": [],
   "source": [
    "# Функция, выводящая аналитику по выборке \n",
    "def df_description(df_in, description_name):\n",
    "    print(description_name)\n",
    "    print('')\n",
    "    print(df_in.describe())\n",
    "    print('')"
   ]
  },
  {
   "cell_type": "code",
   "execution_count": 10,
   "metadata": {},
   "outputs": [
    {
     "name": "stdout",
     "output_type": "stream",
     "text": [
      "features_geo_data_0\n",
      "\n",
      "                  f0             f1             f2\n",
      "count  100000.000000  100000.000000  100000.000000\n",
      "mean        0.500419       0.250143       2.502647\n",
      "std         0.871832       0.504433       3.248248\n",
      "min        -1.408605      -0.848218     -12.088328\n",
      "25%        -0.072580      -0.200881       0.287748\n",
      "50%         0.502360       0.250252       2.515969\n",
      "75%         1.073581       0.700646       4.715088\n",
      "max         2.362331       1.343769      16.003790\n",
      "\n"
     ]
    }
   ],
   "source": [
    "df_description(features_geo_data_0, 'features_geo_data_0')"
   ]
  },
  {
   "cell_type": "code",
   "execution_count": 11,
   "metadata": {
    "scrolled": true
   },
   "outputs": [
    {
     "name": "stdout",
     "output_type": "stream",
     "text": [
      "features_geo_data_1\n",
      "\n",
      "                  f0             f1             f2\n",
      "count  100000.000000  100000.000000  100000.000000\n",
      "mean        1.141296      -4.796579       2.494541\n",
      "std         8.965932       5.119872       1.703572\n",
      "min       -31.609576     -26.358598      -0.018144\n",
      "25%        -6.298551      -8.267985       1.000021\n",
      "50%         1.153055      -4.813172       2.011479\n",
      "75%         8.621015      -1.332816       3.999904\n",
      "max        29.421755      18.734063       5.019721\n",
      "\n"
     ]
    }
   ],
   "source": [
    "df_description(features_geo_data_1, 'features_geo_data_1')"
   ]
  },
  {
   "cell_type": "code",
   "execution_count": 12,
   "metadata": {},
   "outputs": [
    {
     "name": "stdout",
     "output_type": "stream",
     "text": [
      "features_geo_data_2\n",
      "\n",
      "                  f0             f1             f2\n",
      "count  100000.000000  100000.000000  100000.000000\n",
      "mean        0.002023      -0.002081       2.495128\n",
      "std         1.732045       1.730417       3.473445\n",
      "min        -8.760004      -7.084020     -11.970335\n",
      "25%        -1.162288      -1.174820       0.130359\n",
      "50%         0.009424      -0.009482       2.484236\n",
      "75%         1.158535       1.163678       4.858794\n",
      "max         7.238262       7.844801      16.739402\n",
      "\n"
     ]
    }
   ],
   "source": [
    "df_description(features_geo_data_2, 'features_geo_data_2')"
   ]
  },
  {
   "cell_type": "markdown",
   "metadata": {},
   "source": [
    "#### <span style=\"color:green\">Выводы по результатам анализа распределения данных<span>\n",
    "\n",
    "Поскольку все признаки значимы и имеют разный порядок и параметры распределения, необходимо нормализовать признаки.\n",
    "\n",
    "<span style=\"color:blue\">Проведем нормализацию<span>"
   ]
  },
  {
   "cell_type": "code",
   "execution_count": 13,
   "metadata": {},
   "outputs": [],
   "source": [
    "from sklearn.preprocessing import StandardScaler\n",
    "\n",
    "numeric = ['f0', 'f1', 'f2']\n",
    "scaler = StandardScaler()"
   ]
  },
  {
   "cell_type": "code",
   "execution_count": 14,
   "metadata": {},
   "outputs": [
    {
     "data": {
      "text/html": [
       "<div>\n",
       "<style scoped>\n",
       "    .dataframe tbody tr th:only-of-type {\n",
       "        vertical-align: middle;\n",
       "    }\n",
       "\n",
       "    .dataframe tbody tr th {\n",
       "        vertical-align: top;\n",
       "    }\n",
       "\n",
       "    .dataframe thead th {\n",
       "        text-align: right;\n",
       "    }\n",
       "</style>\n",
       "<table border=\"1\" class=\"dataframe\">\n",
       "  <thead>\n",
       "    <tr style=\"text-align: right;\">\n",
       "      <th></th>\n",
       "      <th>f0</th>\n",
       "      <th>f1</th>\n",
       "      <th>f2</th>\n",
       "    </tr>\n",
       "  </thead>\n",
       "  <tbody>\n",
       "    <tr>\n",
       "      <td>11858</td>\n",
       "      <td>-0.439756</td>\n",
       "      <td>1.533883</td>\n",
       "      <td>-0.506515</td>\n",
       "    </tr>\n",
       "    <tr>\n",
       "      <td>87604</td>\n",
       "      <td>0.425801</td>\n",
       "      <td>0.442510</td>\n",
       "      <td>0.009293</td>\n",
       "    </tr>\n",
       "    <tr>\n",
       "      <td>49413</td>\n",
       "      <td>-1.562493</td>\n",
       "      <td>0.758744</td>\n",
       "      <td>0.694554</td>\n",
       "    </tr>\n",
       "    <tr>\n",
       "      <td>56483</td>\n",
       "      <td>1.930702</td>\n",
       "      <td>0.546111</td>\n",
       "      <td>0.762294</td>\n",
       "    </tr>\n",
       "    <tr>\n",
       "      <td>27351</td>\n",
       "      <td>1.380616</td>\n",
       "      <td>-0.950491</td>\n",
       "      <td>0.712465</td>\n",
       "    </tr>\n",
       "  </tbody>\n",
       "</table>\n",
       "</div>"
      ],
      "text/plain": [
       "             f0        f1        f2\n",
       "11858 -0.439756  1.533883 -0.506515\n",
       "87604  0.425801  0.442510  0.009293\n",
       "49413 -1.562493  0.758744  0.694554\n",
       "56483  1.930702  0.546111  0.762294\n",
       "27351  1.380616 -0.950491  0.712465"
      ]
     },
     "execution_count": 14,
     "metadata": {},
     "output_type": "execute_result"
    }
   ],
   "source": [
    "features_geo_data_0[numeric] = scaler.fit_transform(features_geo_data_0[numeric])\n",
    "features_geo_data_0.sample(5)"
   ]
  },
  {
   "cell_type": "code",
   "execution_count": 15,
   "metadata": {},
   "outputs": [
    {
     "name": "stdout",
     "output_type": "stream",
     "text": [
      "features_geo_data_0\n",
      "\n",
      "                 f0            f1            f2\n",
      "count  1.000000e+05  1.000000e+05  1.000000e+05\n",
      "mean   2.287948e-17 -5.044853e-17  9.608314e-17\n",
      "std    1.000005e+00  1.000005e+00  1.000005e+00\n",
      "min   -2.189681e+00 -2.177430e+00 -4.491975e+00\n",
      "25%   -6.572397e-01 -8.941262e-01 -6.818784e-01\n",
      "50%    2.226500e-03  2.166008e-04  4.101360e-03\n",
      "75%    6.574259e-01  8.930937e-01  6.811217e-01\n",
      "max    2.135642e+00  2.168043e+00  4.156460e+00\n",
      "\n"
     ]
    }
   ],
   "source": [
    "df_description(features_geo_data_0, 'features_geo_data_0')"
   ]
  },
  {
   "cell_type": "code",
   "execution_count": 16,
   "metadata": {},
   "outputs": [
    {
     "data": {
      "text/html": [
       "<div>\n",
       "<style scoped>\n",
       "    .dataframe tbody tr th:only-of-type {\n",
       "        vertical-align: middle;\n",
       "    }\n",
       "\n",
       "    .dataframe tbody tr th {\n",
       "        vertical-align: top;\n",
       "    }\n",
       "\n",
       "    .dataframe thead th {\n",
       "        text-align: right;\n",
       "    }\n",
       "</style>\n",
       "<table border=\"1\" class=\"dataframe\">\n",
       "  <thead>\n",
       "    <tr style=\"text-align: right;\">\n",
       "      <th></th>\n",
       "      <th>f0</th>\n",
       "      <th>f1</th>\n",
       "      <th>f2</th>\n",
       "    </tr>\n",
       "  </thead>\n",
       "  <tbody>\n",
       "    <tr>\n",
       "      <td>46904</td>\n",
       "      <td>1.076905</td>\n",
       "      <td>0.853025</td>\n",
       "      <td>-0.875310</td>\n",
       "    </tr>\n",
       "    <tr>\n",
       "      <td>92466</td>\n",
       "      <td>0.615459</td>\n",
       "      <td>-1.520174</td>\n",
       "      <td>1.468829</td>\n",
       "    </tr>\n",
       "    <tr>\n",
       "      <td>9933</td>\n",
       "      <td>-1.078063</td>\n",
       "      <td>-1.004339</td>\n",
       "      <td>0.297015</td>\n",
       "    </tr>\n",
       "    <tr>\n",
       "      <td>74164</td>\n",
       "      <td>-1.418397</td>\n",
       "      <td>1.711796</td>\n",
       "      <td>-1.472491</td>\n",
       "    </tr>\n",
       "    <tr>\n",
       "      <td>53863</td>\n",
       "      <td>1.106313</td>\n",
       "      <td>0.777188</td>\n",
       "      <td>-1.466441</td>\n",
       "    </tr>\n",
       "  </tbody>\n",
       "</table>\n",
       "</div>"
      ],
      "text/plain": [
       "             f0        f1        f2\n",
       "46904  1.076905  0.853025 -0.875310\n",
       "92466  0.615459 -1.520174  1.468829\n",
       "9933  -1.078063 -1.004339  0.297015\n",
       "74164 -1.418397  1.711796 -1.472491\n",
       "53863  1.106313  0.777188 -1.466441"
      ]
     },
     "execution_count": 16,
     "metadata": {},
     "output_type": "execute_result"
    }
   ],
   "source": [
    "features_geo_data_1[numeric] = scaler.fit_transform(features_geo_data_1[numeric])\n",
    "features_geo_data_1.sample(5)"
   ]
  },
  {
   "cell_type": "code",
   "execution_count": 17,
   "metadata": {},
   "outputs": [
    {
     "name": "stdout",
     "output_type": "stream",
     "text": [
      "features_geo_data_1\n",
      "\n",
      "                 f0            f1            f2\n",
      "count  1.000000e+05  1.000000e+05  1.000000e+05\n",
      "mean  -7.105427e-18  1.854517e-17  1.444533e-16\n",
      "std    1.000005e+00  1.000005e+00  1.000005e+00\n",
      "min   -3.652831e+00 -4.211458e+00 -1.474959e+00\n",
      "25%   -8.297949e-01 -6.780293e-01 -8.772907e-01\n",
      "50%    1.311571e-03 -3.240857e-03 -2.835602e-01\n",
      "75%    8.342420e-01  6.765366e-01  8.836555e-01\n",
      "max    3.154229e+00  4.595967e+00  1.482293e+00\n",
      "\n"
     ]
    }
   ],
   "source": [
    "df_description(features_geo_data_1, 'features_geo_data_1')"
   ]
  },
  {
   "cell_type": "code",
   "execution_count": 18,
   "metadata": {},
   "outputs": [
    {
     "data": {
      "text/html": [
       "<div>\n",
       "<style scoped>\n",
       "    .dataframe tbody tr th:only-of-type {\n",
       "        vertical-align: middle;\n",
       "    }\n",
       "\n",
       "    .dataframe tbody tr th {\n",
       "        vertical-align: top;\n",
       "    }\n",
       "\n",
       "    .dataframe thead th {\n",
       "        text-align: right;\n",
       "    }\n",
       "</style>\n",
       "<table border=\"1\" class=\"dataframe\">\n",
       "  <thead>\n",
       "    <tr style=\"text-align: right;\">\n",
       "      <th></th>\n",
       "      <th>f0</th>\n",
       "      <th>f1</th>\n",
       "      <th>f2</th>\n",
       "    </tr>\n",
       "  </thead>\n",
       "  <tbody>\n",
       "    <tr>\n",
       "      <td>11334</td>\n",
       "      <td>1.364918</td>\n",
       "      <td>0.401393</td>\n",
       "      <td>0.298035</td>\n",
       "    </tr>\n",
       "    <tr>\n",
       "      <td>58188</td>\n",
       "      <td>-0.173350</td>\n",
       "      <td>-0.678120</td>\n",
       "      <td>0.789510</td>\n",
       "    </tr>\n",
       "    <tr>\n",
       "      <td>24095</td>\n",
       "      <td>-2.408104</td>\n",
       "      <td>0.510893</td>\n",
       "      <td>-2.504307</td>\n",
       "    </tr>\n",
       "    <tr>\n",
       "      <td>26089</td>\n",
       "      <td>1.939007</td>\n",
       "      <td>3.222627</td>\n",
       "      <td>-1.481457</td>\n",
       "    </tr>\n",
       "    <tr>\n",
       "      <td>83785</td>\n",
       "      <td>0.959720</td>\n",
       "      <td>-1.262625</td>\n",
       "      <td>1.927425</td>\n",
       "    </tr>\n",
       "  </tbody>\n",
       "</table>\n",
       "</div>"
      ],
      "text/plain": [
       "             f0        f1        f2\n",
       "11334  1.364918  0.401393  0.298035\n",
       "58188 -0.173350 -0.678120  0.789510\n",
       "24095 -2.408104  0.510893 -2.504307\n",
       "26089  1.939007  3.222627 -1.481457\n",
       "83785  0.959720 -1.262625  1.927425"
      ]
     },
     "execution_count": 18,
     "metadata": {},
     "output_type": "execute_result"
    }
   ],
   "source": [
    "features_geo_data_2[numeric] = scaler.fit_transform(features_geo_data_2[numeric])\n",
    "features_geo_data_2.sample(5)"
   ]
  },
  {
   "cell_type": "code",
   "execution_count": 19,
   "metadata": {},
   "outputs": [
    {
     "name": "stdout",
     "output_type": "stream",
     "text": [
      "features_geo_data_2\n",
      "\n",
      "                 f0            f1            f2\n",
      "count  1.000000e+05  1.000000e+05  1.000000e+05\n",
      "mean   2.241762e-17 -1.435296e-17 -1.391953e-16\n",
      "std    1.000005e+00  1.000005e+00  1.000005e+00\n",
      "min   -5.058801e+00 -4.092640e+00 -4.164608e+00\n",
      "25%   -6.722210e-01 -6.777239e-01 -6.808172e-01\n",
      "50%    4.272944e-03 -4.277388e-03 -3.135732e-03\n",
      "75%    6.677185e-01  6.736897e-01  6.804996e-01\n",
      "max    4.177880e+00  4.534699e+00  4.100928e+00\n",
      "\n"
     ]
    }
   ],
   "source": [
    "df_description(features_geo_data_2, 'features_geo_data_2')"
   ]
  },
  {
   "cell_type": "markdown",
   "metadata": {},
   "source": [
    "### <span style=\"color:green\">Результат подготовки данных<span>\n",
    "\n",
    "Данные каждого датасета нормализованы и из них выделен целевой признак\n",
    "    \n",
    "<span style=\"color:blue\">Приступим к обучению и проверке модели<span>"
   ]
  },
  {
   "cell_type": "markdown",
   "metadata": {},
   "source": [
    "# 2. Обучение и проверка модели <a class=\"anchor\" id=\"2-bullet\"></a>\n",
    "👈[назад к оглавлению](#0-bullet)"
   ]
  },
  {
   "cell_type": "markdown",
   "metadata": {},
   "source": [
    "#### <span style=\"color:green\">План обучения и проверки модели<span>\n",
    "\n",
    "**Для каждого региона обучим свою модель. Проведем следующие действия:**\n",
    "\n",
    "1. Разобъем данные на обучающую и валидационную выборки в соотношении 75:25.\n",
    "2. Обучим модели и сделаем предсказания на валидационной выборке.\n",
    "3. Предсказания и правильные ответы на валидационной выборке сохраним в отдельные датафреймы.\n",
    "4. Выведем средний запас предсказанного сырья и RMSE модели."
   ]
  },
  {
   "cell_type": "code",
   "execution_count": 20,
   "metadata": {},
   "outputs": [],
   "source": [
    "from sklearn.model_selection import train_test_split"
   ]
  },
  {
   "cell_type": "code",
   "execution_count": 21,
   "metadata": {},
   "outputs": [],
   "source": [
    "ftrs_0_train, ftrs_0_valid, trgt_0_train, trgt_0_valid = train_test_split(features_geo_data_0, \n",
    "                                                                          target_geo_data_0, \n",
    "                                                                          test_size=0.25, \n",
    "                                                                          random_state=12345)"
   ]
  },
  {
   "cell_type": "code",
   "execution_count": 22,
   "metadata": {},
   "outputs": [],
   "source": [
    "ftrs_1_train, ftrs_1_valid, trgt_1_train, trgt_1_valid = train_test_split(features_geo_data_1, \n",
    "                                                                          target_geo_data_1, \n",
    "                                                                          test_size=0.25, \n",
    "                                                                          random_state=12345)"
   ]
  },
  {
   "cell_type": "code",
   "execution_count": 23,
   "metadata": {},
   "outputs": [],
   "source": [
    "ftrs_2_train, ftrs_2_valid, trgt_2_train, trgt_2_valid = train_test_split(features_geo_data_2, \n",
    "                                                                          target_geo_data_2, \n",
    "                                                                          test_size=0.25, \n",
    "                                                                          random_state=12345)"
   ]
  },
  {
   "cell_type": "code",
   "execution_count": 24,
   "metadata": {},
   "outputs": [],
   "source": [
    "from sklearn.linear_model import LinearRegression\n",
    "from sklearn.metrics import mean_squared_error"
   ]
  },
  {
   "cell_type": "code",
   "execution_count": 25,
   "metadata": {},
   "outputs": [],
   "source": [
    "compare = {'model' : [],\n",
    "                'mean' : [],\n",
    "                'rmse' : []\n",
    "               }\n",
    "\n",
    "compare_data = pd.DataFrame(compare)"
   ]
  },
  {
   "cell_type": "code",
   "execution_count": 26,
   "metadata": {},
   "outputs": [],
   "source": [
    "def model_learning(compare_data,\n",
    "                   ftrs_train,\n",
    "                   trgt_train,\n",
    "                   ftrs_valid,\n",
    "                   trgt_valid,\n",
    "                   data_name):\n",
    "    \n",
    "    model = LinearRegression()\n",
    "    model.fit(ftrs_train, trgt_train)\n",
    "    \n",
    "    predictions = model.predict(ftrs_valid)\n",
    "    mse_model = mean_squared_error(trgt_valid,predictions)\n",
    "    compare_data = compare_data.append(pd.DataFrame([[data_name, \n",
    "                                                  predictions.mean(),\n",
    "                                                  mse_model**0.5]], \n",
    "                                                  columns = ['model', 'mean','rmse']),\n",
    "                                                  ignore_index=True)\n",
    "\n",
    "    model_data_array = []\n",
    "    model_data = pd.DataFrame(model_data_array)\n",
    "    model_data['targets'] = trgt_valid\n",
    "    model_data.reset_index(inplace = True)\n",
    "    model_data['predictions'] = pd.Series(predictions)\n",
    "    \n",
    "    return compare_data, model_data.drop(columns=['index'])\n"
   ]
  },
  {
   "cell_type": "code",
   "execution_count": 27,
   "metadata": {},
   "outputs": [],
   "source": [
    "compare_data, model_data_0 = model_learning(compare_data,\n",
    "                                          ftrs_0_train,\n",
    "                                          trgt_0_train,\n",
    "                                          ftrs_0_valid,\n",
    "                                          trgt_0_valid,\n",
    "                                          'geo_data_0')"
   ]
  },
  {
   "cell_type": "code",
   "execution_count": 28,
   "metadata": {},
   "outputs": [],
   "source": [
    "compare_data, model_data_1 = model_learning(compare_data,\n",
    "                                          ftrs_1_train,\n",
    "                                          trgt_1_train,\n",
    "                                          ftrs_1_valid,\n",
    "                                          trgt_1_valid,\n",
    "                                          'geo_data_1')"
   ]
  },
  {
   "cell_type": "code",
   "execution_count": 29,
   "metadata": {},
   "outputs": [],
   "source": [
    "compare_data, model_data_2 = model_learning(compare_data,\n",
    "                                          ftrs_2_train,\n",
    "                                          trgt_2_train,\n",
    "                                          ftrs_2_valid,\n",
    "                                          trgt_2_valid,\n",
    "                                          'geo_data_2')"
   ]
  },
  {
   "cell_type": "code",
   "execution_count": 30,
   "metadata": {},
   "outputs": [
    {
     "data": {
      "text/html": [
       "<div>\n",
       "<style scoped>\n",
       "    .dataframe tbody tr th:only-of-type {\n",
       "        vertical-align: middle;\n",
       "    }\n",
       "\n",
       "    .dataframe tbody tr th {\n",
       "        vertical-align: top;\n",
       "    }\n",
       "\n",
       "    .dataframe thead th {\n",
       "        text-align: right;\n",
       "    }\n",
       "</style>\n",
       "<table border=\"1\" class=\"dataframe\">\n",
       "  <thead>\n",
       "    <tr style=\"text-align: right;\">\n",
       "      <th></th>\n",
       "      <th>model</th>\n",
       "      <th>mean</th>\n",
       "      <th>rmse</th>\n",
       "    </tr>\n",
       "  </thead>\n",
       "  <tbody>\n",
       "    <tr>\n",
       "      <td>0</td>\n",
       "      <td>geo_data_0</td>\n",
       "      <td>92.592568</td>\n",
       "      <td>37.579422</td>\n",
       "    </tr>\n",
       "    <tr>\n",
       "      <td>1</td>\n",
       "      <td>geo_data_1</td>\n",
       "      <td>68.728547</td>\n",
       "      <td>0.893099</td>\n",
       "    </tr>\n",
       "    <tr>\n",
       "      <td>2</td>\n",
       "      <td>geo_data_2</td>\n",
       "      <td>94.965046</td>\n",
       "      <td>40.029709</td>\n",
       "    </tr>\n",
       "  </tbody>\n",
       "</table>\n",
       "</div>"
      ],
      "text/plain": [
       "        model       mean       rmse\n",
       "0  geo_data_0  92.592568  37.579422\n",
       "1  geo_data_1  68.728547   0.893099\n",
       "2  geo_data_2  94.965046  40.029709"
      ]
     },
     "execution_count": 30,
     "metadata": {},
     "output_type": "execute_result"
    }
   ],
   "source": [
    "compare_data"
   ]
  },
  {
   "cell_type": "markdown",
   "metadata": {},
   "source": [
    "#### <span style=\"color:green\">Выводы по результатам обучения моделей<span>\n",
    "\n",
    "Поскольку все признаки значимы и имеют разный порядок и параметры распределения, необходимо нормализовать признаки.\n",
    "\n",
    "<span style=\"color:blue\">Проведем нормализацию<span>"
   ]
  },
  {
   "cell_type": "code",
   "execution_count": 31,
   "metadata": {},
   "outputs": [
    {
     "data": {
      "text/html": [
       "<div>\n",
       "<style scoped>\n",
       "    .dataframe tbody tr th:only-of-type {\n",
       "        vertical-align: middle;\n",
       "    }\n",
       "\n",
       "    .dataframe tbody tr th {\n",
       "        vertical-align: top;\n",
       "    }\n",
       "\n",
       "    .dataframe thead th {\n",
       "        text-align: right;\n",
       "    }\n",
       "</style>\n",
       "<table border=\"1\" class=\"dataframe\">\n",
       "  <thead>\n",
       "    <tr style=\"text-align: right;\">\n",
       "      <th></th>\n",
       "      <th>targets</th>\n",
       "      <th>predictions</th>\n",
       "    </tr>\n",
       "  </thead>\n",
       "  <tbody>\n",
       "    <tr>\n",
       "      <td>10735</td>\n",
       "      <td>129.414513</td>\n",
       "      <td>105.784030</td>\n",
       "    </tr>\n",
       "    <tr>\n",
       "      <td>24417</td>\n",
       "      <td>57.565054</td>\n",
       "      <td>77.488508</td>\n",
       "    </tr>\n",
       "    <tr>\n",
       "      <td>13775</td>\n",
       "      <td>85.122863</td>\n",
       "      <td>59.749823</td>\n",
       "    </tr>\n",
       "    <tr>\n",
       "      <td>22752</td>\n",
       "      <td>86.176821</td>\n",
       "      <td>133.472848</td>\n",
       "    </tr>\n",
       "    <tr>\n",
       "      <td>16680</td>\n",
       "      <td>88.399963</td>\n",
       "      <td>105.002432</td>\n",
       "    </tr>\n",
       "  </tbody>\n",
       "</table>\n",
       "</div>"
      ],
      "text/plain": [
       "          targets  predictions\n",
       "10735  129.414513   105.784030\n",
       "24417   57.565054    77.488508\n",
       "13775   85.122863    59.749823\n",
       "22752   86.176821   133.472848\n",
       "16680   88.399963   105.002432"
      ]
     },
     "execution_count": 31,
     "metadata": {},
     "output_type": "execute_result"
    }
   ],
   "source": [
    "model_data_0.sample(5)"
   ]
  },
  {
   "cell_type": "code",
   "execution_count": 32,
   "metadata": {},
   "outputs": [
    {
     "data": {
      "text/html": [
       "<div>\n",
       "<style scoped>\n",
       "    .dataframe tbody tr th:only-of-type {\n",
       "        vertical-align: middle;\n",
       "    }\n",
       "\n",
       "    .dataframe tbody tr th {\n",
       "        vertical-align: top;\n",
       "    }\n",
       "\n",
       "    .dataframe thead th {\n",
       "        text-align: right;\n",
       "    }\n",
       "</style>\n",
       "<table border=\"1\" class=\"dataframe\">\n",
       "  <thead>\n",
       "    <tr style=\"text-align: right;\">\n",
       "      <th></th>\n",
       "      <th>targets</th>\n",
       "      <th>predictions</th>\n",
       "    </tr>\n",
       "  </thead>\n",
       "  <tbody>\n",
       "    <tr>\n",
       "      <td>1348</td>\n",
       "      <td>3.179103</td>\n",
       "      <td>1.726842</td>\n",
       "    </tr>\n",
       "    <tr>\n",
       "      <td>20965</td>\n",
       "      <td>80.859783</td>\n",
       "      <td>80.564506</td>\n",
       "    </tr>\n",
       "    <tr>\n",
       "      <td>19757</td>\n",
       "      <td>0.000000</td>\n",
       "      <td>0.641906</td>\n",
       "    </tr>\n",
       "    <tr>\n",
       "      <td>7118</td>\n",
       "      <td>3.179103</td>\n",
       "      <td>2.962147</td>\n",
       "    </tr>\n",
       "    <tr>\n",
       "      <td>17468</td>\n",
       "      <td>137.945408</td>\n",
       "      <td>137.939162</td>\n",
       "    </tr>\n",
       "  </tbody>\n",
       "</table>\n",
       "</div>"
      ],
      "text/plain": [
       "          targets  predictions\n",
       "1348     3.179103     1.726842\n",
       "20965   80.859783    80.564506\n",
       "19757    0.000000     0.641906\n",
       "7118     3.179103     2.962147\n",
       "17468  137.945408   137.939162"
      ]
     },
     "execution_count": 32,
     "metadata": {},
     "output_type": "execute_result"
    }
   ],
   "source": [
    "model_data_1.sample(5)"
   ]
  },
  {
   "cell_type": "code",
   "execution_count": 33,
   "metadata": {},
   "outputs": [
    {
     "data": {
      "text/html": [
       "<div>\n",
       "<style scoped>\n",
       "    .dataframe tbody tr th:only-of-type {\n",
       "        vertical-align: middle;\n",
       "    }\n",
       "\n",
       "    .dataframe tbody tr th {\n",
       "        vertical-align: top;\n",
       "    }\n",
       "\n",
       "    .dataframe thead th {\n",
       "        text-align: right;\n",
       "    }\n",
       "</style>\n",
       "<table border=\"1\" class=\"dataframe\">\n",
       "  <thead>\n",
       "    <tr style=\"text-align: right;\">\n",
       "      <th></th>\n",
       "      <th>targets</th>\n",
       "      <th>predictions</th>\n",
       "    </tr>\n",
       "  </thead>\n",
       "  <tbody>\n",
       "    <tr>\n",
       "      <td>12798</td>\n",
       "      <td>137.282767</td>\n",
       "      <td>112.505832</td>\n",
       "    </tr>\n",
       "    <tr>\n",
       "      <td>1337</td>\n",
       "      <td>160.022111</td>\n",
       "      <td>105.087343</td>\n",
       "    </tr>\n",
       "    <tr>\n",
       "      <td>17413</td>\n",
       "      <td>147.984971</td>\n",
       "      <td>121.700482</td>\n",
       "    </tr>\n",
       "    <tr>\n",
       "      <td>1557</td>\n",
       "      <td>116.325452</td>\n",
       "      <td>94.005396</td>\n",
       "    </tr>\n",
       "    <tr>\n",
       "      <td>20337</td>\n",
       "      <td>160.999341</td>\n",
       "      <td>125.343546</td>\n",
       "    </tr>\n",
       "  </tbody>\n",
       "</table>\n",
       "</div>"
      ],
      "text/plain": [
       "          targets  predictions\n",
       "12798  137.282767   112.505832\n",
       "1337   160.022111   105.087343\n",
       "17413  147.984971   121.700482\n",
       "1557   116.325452    94.005396\n",
       "20337  160.999341   125.343546"
      ]
     },
     "execution_count": 33,
     "metadata": {},
     "output_type": "execute_result"
    }
   ],
   "source": [
    "model_data_2.sample(5)"
   ]
  },
  {
   "cell_type": "markdown",
   "metadata": {},
   "source": [
    "### <span style=\"color:green\">Результат обучения моделей и анализа данных по регионам<span>\n",
    "\n",
    "По результатам проверки моделей на валидационных выборках, для первого и третьего регионов мы получили очень большую ошибку предсказания, тогда как для второго региона - маленькую. Необходим анализ параметров прибыли по регионам\n",
    "    \n",
    "<span style=\"color:blue\">Приступим к подготовке данных для расчета прибыли<span>"
   ]
  },
  {
   "cell_type": "markdown",
   "metadata": {},
   "source": [
    "# 3. Подготовка к расчёту прибыли <a class=\"anchor\" id=\"3-bullet\"></a>\n",
    "👈[назад к оглавлению](#0-bullet)"
   ]
  },
  {
   "cell_type": "markdown",
   "metadata": {},
   "source": [
    "#### <span style=\"color:green\">План подготовки<span>\n",
    "\n",
    "1. Определим и установим ключевые значения для расчета. \n",
    "2. Разработаем функцию для расчета прибыли в регионе."
   ]
  },
  {
   "cell_type": "code",
   "execution_count": 34,
   "metadata": {},
   "outputs": [
    {
     "data": {
      "text/html": [
       "<div>\n",
       "<style scoped>\n",
       "    .dataframe tbody tr th:only-of-type {\n",
       "        vertical-align: middle;\n",
       "    }\n",
       "\n",
       "    .dataframe tbody tr th {\n",
       "        vertical-align: top;\n",
       "    }\n",
       "\n",
       "    .dataframe thead th {\n",
       "        text-align: right;\n",
       "    }\n",
       "</style>\n",
       "<table border=\"1\" class=\"dataframe\">\n",
       "  <thead>\n",
       "    <tr style=\"text-align: right;\">\n",
       "      <th></th>\n",
       "      <th>model</th>\n",
       "      <th>mean</th>\n",
       "      <th>rmse</th>\n",
       "      <th>sufficient_volume</th>\n",
       "      <th>difference_volume</th>\n",
       "    </tr>\n",
       "  </thead>\n",
       "  <tbody>\n",
       "    <tr>\n",
       "      <td>0</td>\n",
       "      <td>geo_data_0</td>\n",
       "      <td>92.592568</td>\n",
       "      <td>37.579422</td>\n",
       "      <td>111.111111</td>\n",
       "      <td>-18.518543</td>\n",
       "    </tr>\n",
       "    <tr>\n",
       "      <td>1</td>\n",
       "      <td>geo_data_1</td>\n",
       "      <td>68.728547</td>\n",
       "      <td>0.893099</td>\n",
       "      <td>111.111111</td>\n",
       "      <td>-42.382564</td>\n",
       "    </tr>\n",
       "    <tr>\n",
       "      <td>2</td>\n",
       "      <td>geo_data_2</td>\n",
       "      <td>94.965046</td>\n",
       "      <td>40.029709</td>\n",
       "      <td>111.111111</td>\n",
       "      <td>-16.146065</td>\n",
       "    </tr>\n",
       "  </tbody>\n",
       "</table>\n",
       "</div>"
      ],
      "text/plain": [
       "        model       mean       rmse  sufficient_volume  difference_volume\n",
       "0  geo_data_0  92.592568  37.579422         111.111111         -18.518543\n",
       "1  geo_data_1  68.728547   0.893099         111.111111         -42.382564\n",
       "2  geo_data_2  94.965046  40.029709         111.111111         -16.146065"
      ]
     },
     "execution_count": 34,
     "metadata": {},
     "output_type": "execute_result"
    }
   ],
   "source": [
    "plots_for_region = 500 # Расчетное количество скважин для геологоразведки в регионе\n",
    "best_plots_number = 200 # Расчетное количество лучших скважин для добычи в регионе\n",
    "region_budget = 10000000000 # Бюджет разработки региона\n",
    "income_per_unit = 450000 # Доход от продажи 1000 баррелей\n",
    "likelyhood_percentage = 2.5 # процент вероятности убытков\n",
    "\n",
    "cost_of_plot_gelology = region_budget / best_plots_number # Стоимость разработки одной скважины\n",
    "sufficient_volume = cost_of_plot_gelology / income_per_unit # Емкость скважины для безубыточной разработки\n",
    "\n",
    "sufficient_volumes = pd.Series([sufficient_volume]*compare_data.index.stop)\n",
    "compare_data['sufficient_volume'] = sufficient_volumes\n",
    "compare_data['difference_volume'] = compare_data['mean'] - compare_data['sufficient_volume']\n",
    "\n",
    "compare_data"
   ]
  },
  {
   "cell_type": "code",
   "execution_count": 35,
   "metadata": {},
   "outputs": [
    {
     "name": "stdout",
     "output_type": "stream",
     "text": [
      "Расчетная стоимость разработки одной скважины: 50000000.0\n"
     ]
    }
   ],
   "source": [
    "print('Расчетная стоимость разработки одной скважины:', cost_of_plot_gelology)"
   ]
  },
  {
   "cell_type": "code",
   "execution_count": 36,
   "metadata": {},
   "outputs": [],
   "source": [
    "def profit(model_data):\n",
    "    targets = model_data['targets'] \n",
    "    predictions = model_data['predictions'] \n",
    "    sorted_predictions_index = predictions.sort_values(ascending = False).index\n",
    "    sorted_targets = targets[sorted_predictions_index][:best_plots_number]\n",
    "    \n",
    "    return (sorted_targets.sum()*income_per_unit - region_budget) / 1000000\n"
   ]
  },
  {
   "cell_type": "code",
   "execution_count": 37,
   "metadata": {},
   "outputs": [
    {
     "data": {
      "text/html": [
       "<div>\n",
       "<style scoped>\n",
       "    .dataframe tbody tr th:only-of-type {\n",
       "        vertical-align: middle;\n",
       "    }\n",
       "\n",
       "    .dataframe tbody tr th {\n",
       "        vertical-align: top;\n",
       "    }\n",
       "\n",
       "    .dataframe thead th {\n",
       "        text-align: right;\n",
       "    }\n",
       "</style>\n",
       "<table border=\"1\" class=\"dataframe\">\n",
       "  <thead>\n",
       "    <tr style=\"text-align: right;\">\n",
       "      <th></th>\n",
       "      <th>model</th>\n",
       "      <th>mean</th>\n",
       "      <th>rmse</th>\n",
       "      <th>sufficient_volume</th>\n",
       "      <th>difference_volume</th>\n",
       "      <th>profits</th>\n",
       "    </tr>\n",
       "  </thead>\n",
       "  <tbody>\n",
       "    <tr>\n",
       "      <td>0</td>\n",
       "      <td>geo_data_0</td>\n",
       "      <td>92.592568</td>\n",
       "      <td>37.579422</td>\n",
       "      <td>111.111111</td>\n",
       "      <td>-18.518543</td>\n",
       "      <td>3320.826043</td>\n",
       "    </tr>\n",
       "    <tr>\n",
       "      <td>1</td>\n",
       "      <td>geo_data_1</td>\n",
       "      <td>68.728547</td>\n",
       "      <td>0.893099</td>\n",
       "      <td>111.111111</td>\n",
       "      <td>-42.382564</td>\n",
       "      <td>2415.086697</td>\n",
       "    </tr>\n",
       "    <tr>\n",
       "      <td>2</td>\n",
       "      <td>geo_data_2</td>\n",
       "      <td>94.965046</td>\n",
       "      <td>40.029709</td>\n",
       "      <td>111.111111</td>\n",
       "      <td>-16.146065</td>\n",
       "      <td>2710.349964</td>\n",
       "    </tr>\n",
       "  </tbody>\n",
       "</table>\n",
       "</div>"
      ],
      "text/plain": [
       "        model       mean       rmse  sufficient_volume  difference_volume  \\\n",
       "0  geo_data_0  92.592568  37.579422         111.111111         -18.518543   \n",
       "1  geo_data_1  68.728547   0.893099         111.111111         -42.382564   \n",
       "2  geo_data_2  94.965046  40.029709         111.111111         -16.146065   \n",
       "\n",
       "       profits  \n",
       "0  3320.826043  \n",
       "1  2415.086697  \n",
       "2  2710.349964  "
      ]
     },
     "execution_count": 37,
     "metadata": {},
     "output_type": "execute_result"
    }
   ],
   "source": [
    "profits_array = []\n",
    "\n",
    "profits_array.append(profit(model_data_0))\n",
    "profits_array.append(profit(model_data_1))\n",
    "profits_array.append(profit(model_data_2))\n",
    "\n",
    "profits = pd.Series(profits_array)\n",
    "\n",
    "compare_data['profits'] = profits\n",
    "\n",
    "compare_data"
   ]
  },
  {
   "cell_type": "markdown",
   "metadata": {},
   "source": [
    "### <span style=\"color:green\">Результат подготовки к расчету прибыли<span>\n",
    "\n",
    "Исходя из расчетных данных по затратам на геологоразведку в регионе и стоимости сырья, достаточный объем сырья для безубыточной добычи для каждого из 200 месторождений, составляет в среднем 111 тысяч баррелей. \n",
    "\n",
    "Средний объем сырья во всех регионах по прогнозам меньше минимального объема для безубыточной добычи. Однако, если отборать 200 лучших по предсказанному объему сырья скважин, прибыль по региону положительная (от 2,4 до 3,3 млрд. руб.).\n",
    "    \n",
    "<span style=\"color:blue\">Далее посмотрим на распределение прибыли и насколько велик риск получить убытки в каждом из регионов<span>"
   ]
  },
  {
   "cell_type": "markdown",
   "metadata": {},
   "source": [
    "# 4. Расчёт прибыли и рисков <a class=\"anchor\" id=\"4-bullet\"></a>\n",
    "👈[назад к оглавлению](#0-bullet)"
   ]
  },
  {
   "cell_type": "markdown",
   "metadata": {},
   "source": [
    "#### <span style=\"color:green\">План расчета прибыли и рисков<span>\n",
    "\n",
    "1. Сформируем выборки для определения средней прибыли по каждому региону методом *bootstrap*.\n",
    "2. По этим выборкам определим:\n",
    "    - среднее значение прибыли для каждого региона;\n",
    "    - 95% доверительный интервал, показывающий вероятность того, что мы с этой вероятностью получим прибыль в каждом из регионов.\n",
    "3. Выберем наиболее качественный с точки зрения получения прибыли регион.\n",
    "    "
   ]
  },
  {
   "cell_type": "code",
   "execution_count": 38,
   "metadata": {},
   "outputs": [],
   "source": [
    "compare_profit = {'region' : [],\n",
    "                'indicator' : [],\n",
    "                'value' : []\n",
    "               }\n",
    "\n",
    "compare_profit_data = pd.DataFrame(compare_profit)"
   ]
  },
  {
   "cell_type": "code",
   "execution_count": 47,
   "metadata": {},
   "outputs": [],
   "source": [
    "import numpy as np\n",
    "\n",
    "state = np.random.RandomState(12345)\n",
    "\n",
    "def profit_sample(model_data,\n",
    "                  compare_profit_data,\n",
    "                  region_name):\n",
    "    \n",
    "    values = []\n",
    "\n",
    "    for i in range(1000):\n",
    "        predictions_subsample = model_data['predictions'].sample(n=plots_for_region, \n",
    "                                                                 replace=True, \n",
    "                                                                 random_state=state)\n",
    "        model_data_subsample = model_data.loc[predictions_subsample.index]\n",
    "        \n",
    "        current_profit = profit(model_data_subsample)\n",
    "        values.append(current_profit)\n",
    "\n",
    "    values = pd.Series(values)\n",
    "    lower = values.quantile(0.025)\n",
    "    higher = values.quantile(0.975)\n",
    "    mean = values.mean()\n",
    "    risk = (values < 0).mean()* 100, \"%\"\n",
    "    \n",
    "    compare_profit_data = compare_profit_data.append(pd.DataFrame([[region_name, 'Средняя прибыль', mean]], \n",
    "                                                     columns = ['region', 'indicator','value']),\n",
    "                                                      ignore_index=True)\n",
    "    compare_profit_data = compare_profit_data.append(pd.DataFrame([[region_name, 'Минимальная прибыль', lower]], \n",
    "                                                     columns = ['region', 'indicator','value']),\n",
    "                                                      ignore_index=True)\n",
    "    compare_profit_data = compare_profit_data.append(pd.DataFrame([[region_name, 'Максимальная прибыль', higher]], \n",
    "                                                     columns = ['region', 'indicator','value']),\n",
    "                                                      ignore_index=True)\n",
    "    \n",
    "    compare_profit_data = compare_profit_data.append(pd.DataFrame([[region_name, 'Риск', risk]], \n",
    "                                                     columns = ['region', 'indicator','value']),\n",
    "                                                      ignore_index=True)\n",
    "    \n",
    "    return values, compare_profit_data"
   ]
  },
  {
   "cell_type": "code",
   "execution_count": 40,
   "metadata": {},
   "outputs": [],
   "source": [
    "# Импортируем графическую библиотеку\n",
    "import matplotlib.pyplot as plt\n",
    "import scipy.stats as scs\n",
    "\n",
    "# Функция для формирования двух диаграм рядом\n",
    "def df_three_histograms(series1, \n",
    "                        series2, \n",
    "                        series3, \n",
    "                        series_name1, \n",
    "                        series_name2, \n",
    "                        series_name3, \n",
    "                        description_name, \n",
    "                        bins_number):\n",
    "\n",
    "    plt.figure(0)\n",
    "\n",
    "    n1, bins1, patches1 = plt.hist(series1, \n",
    "                                   bins_number, \n",
    "                                   density=True, \n",
    "                                   facecolor='g', \n",
    "                                   label = series_name1, \n",
    "                                   alpha=0.3)\n",
    "    \n",
    "    n2, bins2, patches2 = plt.hist(series2, \n",
    "                                   bins_number, \n",
    "                                   density=True, \n",
    "                                   facecolor='b', \n",
    "                                   label = series_name2, \n",
    "                                   alpha=0.3)\n",
    "    \n",
    "    n3, bins3, patches3 = plt.hist(series3, \n",
    "                                   bins_number, \n",
    "                                   density=True, \n",
    "                                   facecolor='r', \n",
    "                                   label = series_name3, \n",
    "                                   alpha=0.3)\n",
    "\n",
    "    series1_description = series1.describe()\n",
    "    series2_description = series2.describe()\n",
    "    series3_description = series3.describe()\n",
    "        \n",
    "    y1 = scs.norm.pdf(bins1, series1_description[1], series1_description[2])\n",
    "    y2 = scs.norm.pdf(bins2, series2_description[1], series2_description[2])\n",
    "    y3 = scs.norm.pdf(bins3, series3_description[1], series3_description[2])\n",
    "    \n",
    "    plt.plot(bins1, y1, 'g--')\n",
    "    plt.plot(bins2, y2, 'b--')\n",
    "    plt.plot(bins3, y3, 'r--')\n",
    "\n",
    "    plt.xlabel('Прибыль в регионе')\n",
    "    plt.ylabel('Частота в выборке')\n",
    "\n",
    "    plt.gca().set(title=description_name)\n",
    "\n",
    "    plt.legend()\n",
    "    plt.grid()\n",
    "    plt.plot()\n",
    "    \n",
    "    return series1_description, series2_description, series3_description"
   ]
  },
  {
   "cell_type": "code",
   "execution_count": 41,
   "metadata": {},
   "outputs": [],
   "source": [
    "profit_sample_0, compare_profit_data = profit_sample(model_data_0, compare_profit_data, '№ 1')\n",
    "profit_sample_1, compare_profit_data = profit_sample(model_data_1, compare_profit_data, '№ 2')\n",
    "profit_sample_2, compare_profit_data = profit_sample(model_data_2, compare_profit_data, '№ 3')"
   ]
  },
  {
   "cell_type": "code",
   "execution_count": 42,
   "metadata": {},
   "outputs": [
    {
     "data": {
      "image/png": "[encoded data removed]",
      "text/plain": [
       "<Figure size 432x288 with 1 Axes>"
      ]
     },
     "metadata": {
      "needs_background": "light"
     },
     "output_type": "display_data"
    }
   ],
   "source": [
    "reg_0_descr, reg_1_descr, reg_2_descr = df_three_histograms(\n",
    "                                        profit_sample_0, \n",
    "                                        profit_sample_1, \n",
    "                                        profit_sample_2, \n",
    "                                        'Регион 1', \n",
    "                                        'Регион 2', \n",
    "                                        'Регион 3', \n",
    "                                        'Сравнение распределения прибыли по регионам', \n",
    "                                        'auto')"
   ]
  },
  {
   "cell_type": "code",
   "execution_count": 43,
   "metadata": {},
   "outputs": [
    {
     "ename": "ValueError",
     "evalue": "Neither the `x` nor `y` variable appears to be numeric.",
     "output_type": "error",
     "traceback": [
      "\u001b[0;31m---------------------------------------------------------------------------\u001b[0m",
      "\u001b[0;31mValueError\u001b[0m                                Traceback (most recent call last)",
      "\u001b[0;32m<ipython-input-43-2013d81a7a96>\u001b[0m in \u001b[0;36m<module>\u001b[0;34m\u001b[0m\n\u001b[1;32m      6\u001b[0m                 \u001b[0mhue\u001b[0m\u001b[0;34m=\u001b[0m\u001b[0;34m\"indicator\"\u001b[0m\u001b[0;34m,\u001b[0m\u001b[0;34m\u001b[0m\u001b[0;34m\u001b[0m\u001b[0m\n\u001b[1;32m      7\u001b[0m                 \u001b[0mkind\u001b[0m\u001b[0;34m=\u001b[0m\u001b[0;34m\"bar\"\u001b[0m\u001b[0;34m,\u001b[0m\u001b[0;34m\u001b[0m\u001b[0;34m\u001b[0m\u001b[0m\n\u001b[0;32m----> 8\u001b[0;31m                 data=compare_profit_data)\n\u001b[0m\u001b[1;32m      9\u001b[0m \u001b[0;34m\u001b[0m\u001b[0m\n\u001b[1;32m     10\u001b[0m \u001b[0mg\u001b[0m\u001b[0;34m.\u001b[0m\u001b[0mset_axis_labels\u001b[0m\u001b[0;34m(\u001b[0m\u001b[0;34m\"Регион\"\u001b[0m\u001b[0;34m,\u001b[0m \u001b[0;34m\"Средняя и минимальная прибыль, млн.руб.\"\u001b[0m\u001b[0;34m)\u001b[0m\u001b[0;34m\u001b[0m\u001b[0;34m\u001b[0m\u001b[0m\n",
      "\u001b[0;32m/opt/conda/lib/python3.7/site-packages/seaborn/categorical.py\u001b[0m in \u001b[0;36mcatplot\u001b[0;34m(x, y, hue, data, row, col, col_wrap, estimator, ci, n_boot, units, order, hue_order, row_order, col_order, kind, height, aspect, orient, color, palette, legend, legend_out, sharex, sharey, margin_titles, facet_kws, **kwargs)\u001b[0m\n\u001b[1;32m   3714\u001b[0m     \u001b[0;31m# facets to ensure representation of all data in the final plot\u001b[0m\u001b[0;34m\u001b[0m\u001b[0;34m\u001b[0m\u001b[0;34m\u001b[0m\u001b[0m\n\u001b[1;32m   3715\u001b[0m     \u001b[0mp\u001b[0m \u001b[0;34m=\u001b[0m \u001b[0m_CategoricalPlotter\u001b[0m\u001b[0;34m(\u001b[0m\u001b[0;34m)\u001b[0m\u001b[0;34m\u001b[0m\u001b[0;34m\u001b[0m\u001b[0m\n\u001b[0;32m-> 3716\u001b[0;31m     \u001b[0mp\u001b[0m\u001b[0;34m.\u001b[0m\u001b[0mestablish_variables\u001b[0m\u001b[0;34m(\u001b[0m\u001b[0mx_\u001b[0m\u001b[0;34m,\u001b[0m \u001b[0my_\u001b[0m\u001b[0;34m,\u001b[0m \u001b[0mhue\u001b[0m\u001b[0;34m,\u001b[0m \u001b[0mdata\u001b[0m\u001b[0;34m,\u001b[0m \u001b[0morient\u001b[0m\u001b[0;34m,\u001b[0m \u001b[0morder\u001b[0m\u001b[0;34m,\u001b[0m \u001b[0mhue_order\u001b[0m\u001b[0;34m)\u001b[0m\u001b[0;34m\u001b[0m\u001b[0;34m\u001b[0m\u001b[0m\n\u001b[0m\u001b[1;32m   3717\u001b[0m     \u001b[0morder\u001b[0m \u001b[0;34m=\u001b[0m \u001b[0mp\u001b[0m\u001b[0;34m.\u001b[0m\u001b[0mgroup_names\u001b[0m\u001b[0;34m\u001b[0m\u001b[0;34m\u001b[0m\u001b[0m\n\u001b[1;32m   3718\u001b[0m     \u001b[0mhue_order\u001b[0m \u001b[0;34m=\u001b[0m \u001b[0mp\u001b[0m\u001b[0;34m.\u001b[0m\u001b[0mhue_names\u001b[0m\u001b[0;34m\u001b[0m\u001b[0;34m\u001b[0m\u001b[0m\n",
      "\u001b[0;32m/opt/conda/lib/python3.7/site-packages/seaborn/categorical.py\u001b[0m in \u001b[0;36mestablish_variables\u001b[0;34m(self, x, y, hue, data, orient, order, hue_order, units)\u001b[0m\n\u001b[1;32m    156\u001b[0m \u001b[0;34m\u001b[0m\u001b[0m\n\u001b[1;32m    157\u001b[0m             \u001b[0;31m# Figure out the plotting orientation\u001b[0m\u001b[0;34m\u001b[0m\u001b[0;34m\u001b[0m\u001b[0;34m\u001b[0m\u001b[0m\n\u001b[0;32m--> 158\u001b[0;31m             \u001b[0morient\u001b[0m \u001b[0;34m=\u001b[0m \u001b[0mself\u001b[0m\u001b[0;34m.\u001b[0m\u001b[0minfer_orient\u001b[0m\u001b[0;34m(\u001b[0m\u001b[0mx\u001b[0m\u001b[0;34m,\u001b[0m \u001b[0my\u001b[0m\u001b[0;34m,\u001b[0m \u001b[0morient\u001b[0m\u001b[0;34m)\u001b[0m\u001b[0;34m\u001b[0m\u001b[0;34m\u001b[0m\u001b[0m\n\u001b[0m\u001b[1;32m    159\u001b[0m \u001b[0;34m\u001b[0m\u001b[0m\n\u001b[1;32m    160\u001b[0m             \u001b[0;31m# Option 2a:\u001b[0m\u001b[0;34m\u001b[0m\u001b[0;34m\u001b[0m\u001b[0;34m\u001b[0m\u001b[0m\n",
      "\u001b[0;32m/opt/conda/lib/python3.7/site-packages/seaborn/categorical.py\u001b[0m in \u001b[0;36minfer_orient\u001b[0;34m(self, x, y, orient)\u001b[0m\n\u001b[1;32m    359\u001b[0m         \u001b[0;32melif\u001b[0m \u001b[0mis_not_numeric\u001b[0m\u001b[0;34m(\u001b[0m\u001b[0my\u001b[0m\u001b[0;34m)\u001b[0m\u001b[0;34m:\u001b[0m\u001b[0;34m\u001b[0m\u001b[0;34m\u001b[0m\u001b[0m\n\u001b[1;32m    360\u001b[0m             \u001b[0;32mif\u001b[0m \u001b[0mis_not_numeric\u001b[0m\u001b[0;34m(\u001b[0m\u001b[0mx\u001b[0m\u001b[0;34m)\u001b[0m\u001b[0;34m:\u001b[0m\u001b[0;34m\u001b[0m\u001b[0;34m\u001b[0m\u001b[0m\n\u001b[0;32m--> 361\u001b[0;31m                 \u001b[0;32mraise\u001b[0m \u001b[0mValueError\u001b[0m\u001b[0;34m(\u001b[0m\u001b[0mno_numeric\u001b[0m\u001b[0;34m)\u001b[0m\u001b[0;34m\u001b[0m\u001b[0;34m\u001b[0m\u001b[0m\n\u001b[0m\u001b[1;32m    362\u001b[0m             \u001b[0;32melse\u001b[0m\u001b[0;34m:\u001b[0m\u001b[0;34m\u001b[0m\u001b[0;34m\u001b[0m\u001b[0m\n\u001b[1;32m    363\u001b[0m                 \u001b[0;32mreturn\u001b[0m \u001b[0;34m\"h\"\u001b[0m\u001b[0;34m\u001b[0m\u001b[0;34m\u001b[0m\u001b[0m\n",
      "\u001b[0;31mValueError\u001b[0m: Neither the `x` nor `y` variable appears to be numeric."
     ]
    }
   ],
   "source": [
    "import seaborn as sns\n",
    "\n",
    "# Построим сравнительную диаграмму\n",
    "g = sns.catplot(x=\"region\", \n",
    "                y=\"value\", \n",
    "                hue=\"indicator\", \n",
    "                kind=\"bar\",\n",
    "                data=compare_profit_data)\n",
    "\n",
    "g.set_axis_labels(\"Регион\", \"Средняя и минимальная прибыль, млн.руб.\")\n",
    "g.ax.set_title(\"Сравнительная гистограмма средней и минимальной прибыли для трех регионов\")"
   ]
  },
  {
   "cell_type": "code",
   "execution_count": 48,
   "metadata": {},
   "outputs": [
    {
     "data": {
      "text/html": [
       "<div>\n",
       "<style scoped>\n",
       "    .dataframe tbody tr th:only-of-type {\n",
       "        vertical-align: middle;\n",
       "    }\n",
       "\n",
       "    .dataframe tbody tr th {\n",
       "        vertical-align: top;\n",
       "    }\n",
       "\n",
       "    .dataframe thead th {\n",
       "        text-align: right;\n",
       "    }\n",
       "</style>\n",
       "<table border=\"1\" class=\"dataframe\">\n",
       "  <thead>\n",
       "    <tr style=\"text-align: right;\">\n",
       "      <th></th>\n",
       "      <th>region</th>\n",
       "      <th>indicator</th>\n",
       "      <th>value</th>\n",
       "    </tr>\n",
       "  </thead>\n",
       "  <tbody>\n",
       "    <tr>\n",
       "      <td>0</td>\n",
       "      <td>№ 1</td>\n",
       "      <td>Средняя прибыль</td>\n",
       "      <td>425.939</td>\n",
       "    </tr>\n",
       "    <tr>\n",
       "      <td>1</td>\n",
       "      <td>№ 1</td>\n",
       "      <td>Минимальная прибыль</td>\n",
       "      <td>-102.09</td>\n",
       "    </tr>\n",
       "    <tr>\n",
       "      <td>2</td>\n",
       "      <td>№ 1</td>\n",
       "      <td>Максимальная прибыль</td>\n",
       "      <td>947.976</td>\n",
       "    </tr>\n",
       "    <tr>\n",
       "      <td>3</td>\n",
       "      <td>№ 1</td>\n",
       "      <td>Риск, %</td>\n",
       "      <td>(6.0, %)</td>\n",
       "    </tr>\n",
       "    <tr>\n",
       "      <td>4</td>\n",
       "      <td>№ 2</td>\n",
       "      <td>Средняя прибыль</td>\n",
       "      <td>518.259</td>\n",
       "    </tr>\n",
       "    <tr>\n",
       "      <td>5</td>\n",
       "      <td>№ 2</td>\n",
       "      <td>Минимальная прибыль</td>\n",
       "      <td>128.123</td>\n",
       "    </tr>\n",
       "    <tr>\n",
       "      <td>6</td>\n",
       "      <td>№ 2</td>\n",
       "      <td>Максимальная прибыль</td>\n",
       "      <td>953.613</td>\n",
       "    </tr>\n",
       "    <tr>\n",
       "      <td>7</td>\n",
       "      <td>№ 2</td>\n",
       "      <td>Риск, %</td>\n",
       "      <td>(0.3, %)</td>\n",
       "    </tr>\n",
       "    <tr>\n",
       "      <td>8</td>\n",
       "      <td>№ 3</td>\n",
       "      <td>Средняя прибыль</td>\n",
       "      <td>420.194</td>\n",
       "    </tr>\n",
       "    <tr>\n",
       "      <td>9</td>\n",
       "      <td>№ 3</td>\n",
       "      <td>Минимальная прибыль</td>\n",
       "      <td>-115.853</td>\n",
       "    </tr>\n",
       "    <tr>\n",
       "      <td>10</td>\n",
       "      <td>№ 3</td>\n",
       "      <td>Максимальная прибыль</td>\n",
       "      <td>989.63</td>\n",
       "    </tr>\n",
       "    <tr>\n",
       "      <td>11</td>\n",
       "      <td>№ 3</td>\n",
       "      <td>Риск, %</td>\n",
       "      <td>(6.2, %)</td>\n",
       "    </tr>\n",
       "  </tbody>\n",
       "</table>\n",
       "</div>"
      ],
      "text/plain": [
       "   region             indicator     value\n",
       "0     № 1       Средняя прибыль   425.939\n",
       "1     № 1   Минимальная прибыль   -102.09\n",
       "2     № 1  Максимальная прибыль   947.976\n",
       "3     № 1               Риск, %  (6.0, %)\n",
       "4     № 2       Средняя прибыль   518.259\n",
       "5     № 2   Минимальная прибыль   128.123\n",
       "6     № 2  Максимальная прибыль   953.613\n",
       "7     № 2               Риск, %  (0.3, %)\n",
       "8     № 3       Средняя прибыль   420.194\n",
       "9     № 3   Минимальная прибыль  -115.853\n",
       "10    № 3  Максимальная прибыль    989.63\n",
       "11    № 3               Риск, %  (6.2, %)"
      ]
     },
     "execution_count": 48,
     "metadata": {},
     "output_type": "execute_result"
    }
   ],
   "source": [
    "compare_profit_data"
   ]
  },
  {
   "cell_type": "markdown",
   "metadata": {},
   "source": [
    "### <span style=\"color:green\">Выводы по результатам анализа распределения прибыли<span>\n",
    "\n",
    "Для первого и третьего регионов характерен большой разброс данных. Средняя прибыль в них примерно одинаковая 425 и 420 млн. руб., соответственно.\n",
    "    \n",
    "Во втором регионе средняя прибыль выше (518 млн. руб.) и разброс данных существенно ниже.\n",
    "    \n",
    "<span style=\"color:red\">По параметру средней прибыли однозначно лучший второй регион.<span>"
   ]
  },
  {
   "cell_type": "markdown",
   "metadata": {},
   "source": [
    "# Общий вывод <a class=\"anchor\" id=\"5-bullet\"></a>\n",
    "👈[назад к оглавлению](#0-bullet)"
   ]
  },
  {
   "cell_type": "markdown",
   "metadata": {},
   "source": [
    "## <span style=\"color:green\">Рекомендации по выбору региона для добычи<span>\n",
    "\n",
    "### <span style=\"color:red\">Для дальнейшей разработки и добычи нефти рекомендуется выбрать второй регион.<span>\n",
    "    \n",
    "### Причины для такого решения следущие:\n",
    "    \n",
    "1. **Средняя прибыль**, рассчитанная по выборке - **518 млн. руб.** В остальных регионах - примерно на 100 млн. руб. меньше.\n",
    "2. Все значения прибыли, попадающие в 95% доверительный интервал - положительные. Следовательно **риск получить убытки при разработке региона составляет менее 5%**. В остальных регионах при расчете доверительного интервала мы получили вероятность убытка (около 100 млн. руб.)\n"
   ]
  },
  {
   "cell_type": "markdown",
   "metadata": {},
   "source": [
    "##### <span style=\"color:green\">Средняя стоимость разработки одной скважины составляет 50 млн. руб. Вычислим процент скважин, приносящих убытки по каждому региону. Для этого возьмем полную выборку для каждого региона и посчитаем для нее процент скважин, приносящих убыток.<span>"
   ]
  },
  {
   "cell_type": "code",
   "execution_count": 45,
   "metadata": {},
   "outputs": [],
   "source": [
    "def percentage_of_non_profit_units(geo_data):\n",
    "    \n",
    "    geo_data['profit'] = geo_data['product']*income_per_unit - cost_of_plot_gelology\n",
    "\n",
    "    count_of_non_profit = geo_data[geo_data['profit'] <= 0]['profit'].count()\n",
    "    all_count = geo_data['profit'].count()\n",
    "\n",
    "    percentage_of_non_profit = count_of_non_profit/all_count*100\n",
    "    return percentage_of_non_profit"
   ]
  },
  {
   "cell_type": "code",
   "execution_count": 46,
   "metadata": {},
   "outputs": [
    {
     "data": {
      "text/html": [
       "<div>\n",
       "<style scoped>\n",
       "    .dataframe tbody tr th:only-of-type {\n",
       "        vertical-align: middle;\n",
       "    }\n",
       "\n",
       "    .dataframe tbody tr th {\n",
       "        vertical-align: top;\n",
       "    }\n",
       "\n",
       "    .dataframe thead th {\n",
       "        text-align: right;\n",
       "    }\n",
       "</style>\n",
       "<table border=\"1\" class=\"dataframe\">\n",
       "  <thead>\n",
       "    <tr style=\"text-align: right;\">\n",
       "      <th></th>\n",
       "      <th>model</th>\n",
       "      <th>mean</th>\n",
       "      <th>rmse</th>\n",
       "      <th>sufficient_volume</th>\n",
       "      <th>difference_volume</th>\n",
       "      <th>profits</th>\n",
       "      <th>percentage_of_non_profit_units</th>\n",
       "    </tr>\n",
       "  </thead>\n",
       "  <tbody>\n",
       "    <tr>\n",
       "      <td>0</td>\n",
       "      <td>geo_data_0</td>\n",
       "      <td>92.592568</td>\n",
       "      <td>37.579422</td>\n",
       "      <td>111.111111</td>\n",
       "      <td>-18.518543</td>\n",
       "      <td>3320.826043</td>\n",
       "      <td>63.417</td>\n",
       "    </tr>\n",
       "    <tr>\n",
       "      <td>1</td>\n",
       "      <td>geo_data_1</td>\n",
       "      <td>68.728547</td>\n",
       "      <td>0.893099</td>\n",
       "      <td>111.111111</td>\n",
       "      <td>-42.382564</td>\n",
       "      <td>2415.086697</td>\n",
       "      <td>83.463</td>\n",
       "    </tr>\n",
       "    <tr>\n",
       "      <td>2</td>\n",
       "      <td>geo_data_2</td>\n",
       "      <td>94.965046</td>\n",
       "      <td>40.029709</td>\n",
       "      <td>111.111111</td>\n",
       "      <td>-16.146065</td>\n",
       "      <td>2710.349964</td>\n",
       "      <td>61.822</td>\n",
       "    </tr>\n",
       "  </tbody>\n",
       "</table>\n",
       "</div>"
      ],
      "text/plain": [
       "        model       mean       rmse  sufficient_volume  difference_volume  \\\n",
       "0  geo_data_0  92.592568  37.579422         111.111111         -18.518543   \n",
       "1  geo_data_1  68.728547   0.893099         111.111111         -42.382564   \n",
       "2  geo_data_2  94.965046  40.029709         111.111111         -16.146065   \n",
       "\n",
       "       profits  percentage_of_non_profit_units  \n",
       "0  3320.826043                          63.417  \n",
       "1  2415.086697                          83.463  \n",
       "2  2710.349964                          61.822  "
      ]
     },
     "execution_count": 46,
     "metadata": {},
     "output_type": "execute_result"
    }
   ],
   "source": [
    "percentages_of_non_profit_units = []\n",
    "percentages_of_non_profit_units.append(percentage_of_non_profit_units(geo_data_0))\n",
    "percentages_of_non_profit_units.append(percentage_of_non_profit_units(geo_data_1))\n",
    "percentages_of_non_profit_units.append(percentage_of_non_profit_units(geo_data_2))\n",
    "\n",
    "compare_data['percentage_of_non_profit_units'] = percentages_of_non_profit_units\n",
    "\n",
    "compare_data"
   ]
  },
  {
   "cell_type": "markdown",
   "metadata": {},
   "source": [
    "##### <span style=\"color:green\">Хотя доля скважин с убытком во втором регионе на 25% выше, чем в остальных, этот регион все равно лучше для разработки. Т.к. риск получения убытков при добыче в нем меньше 5%.<span>"
   ]
  },
  {
   "cell_type": "markdown",
   "metadata": {},
   "source": [
    "# Чек-лист готовности проекта"
   ]
  },
  {
   "cell_type": "markdown",
   "metadata": {},
   "source": [
    "Поставьте 'x' в выполненных пунктах. Далее нажмите Shift+Enter."
   ]
  },
  {
   "cell_type": "markdown",
   "metadata": {},
   "source": [
    "- [x]  Jupyter Notebook открыт\n",
    "- [x]  Весь код выполняется без ошибок\n",
    "- [x]  Ячейки с кодом расположены в порядке исполнения\n",
    "- [x]  Выполнен шаг 1: данные подготовлены\n",
    "- [x]  Выполнен шаг 2: модели обучены и проверены\n",
    "    - [x]  Данные корректно разбиты на обучающую и валидационную выборки\n",
    "    - [x]  Модели обучены, предсказания сделаны\n",
    "    - [x]  Предсказания и правильные ответы на валидационной выборке сохранены\n",
    "    - [x]  На экране напечатаны результаты\n",
    "    - [x]  Сделаны выводы\n",
    "- [x]  Выполнен шаг 3: проведена подготовка к расчёту прибыли\n",
    "    - [x]  Для всех ключевых значений созданы константы Python\n",
    "    - [x]  Посчитано минимальное среднее количество продукта в месторождениях региона, достаточное для разработки\n",
    "    - [x]  По предыдущему пункту сделаны выводы\n",
    "    - [x]  Написана функция расчёта прибыли\n",
    "- [x]  Выполнен шаг 4: посчитаны риски и прибыль\n",
    "    - [x]  Проведена процедура *Bootstrap*\n",
    "    - [x]  Все параметры бутстрепа соответствуют условию\n",
    "    - [x]  Найдены все нужные величины\n",
    "    - [x]  Предложен регион для разработки месторождения\n",
    "    - [x]  Выбор региона обоснован"
   ]
  },
  {
   "cell_type": "code",
   "execution_count": null,
   "metadata": {},
   "outputs": [],
   "source": []
  }
 ],
 "metadata": {
  "kernelspec": {
   "display_name": "Python 3",
   "language": "python",
   "name": "python3"
  },
  "language_info": {
   "codemirror_mode": {
    "name": "ipython",
    "version": 3
   },
   "file_extension": ".py",
   "mimetype": "text/x-python",
   "name": "python",
   "nbconvert_exporter": "python",
   "pygments_lexer": "ipython3",
   "version": "3.8.3"
  }
 },
 "nbformat": 4,
 "nbformat_minor": 2
}
