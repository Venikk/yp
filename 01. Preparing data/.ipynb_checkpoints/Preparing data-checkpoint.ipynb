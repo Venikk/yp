{
 "cells": [
  {
   "cell_type": "markdown",
   "metadata": {},
   "source": [
    "## Исследование надёжности заёмщиков\n",
    "\n",
    "Заказчик — кредитный отдел банка. Нужно разобраться, влияет ли семейное положение и количество детей клиента на факт погашения кредита в срок. Входные данные от банка — статистика о платёжеспособности клиентов.\n",
    "\n",
    "Результаты исследования будут учтены при построении модели **кредитного скоринга** — специальной системы, которая оценивает способность потенциального заёмщика вернуть кредит банку."
   ]
  },
  {
   "cell_type": "markdown",
   "metadata": {},
   "source": [
    "### Шаг 1. Откройте файл с данными и изучите общую информацию. "
   ]
  },
  {
   "cell_type": "code",
   "execution_count": 1,
   "metadata": {},
   "outputs": [
    {
     "name": "stdout",
     "output_type": "stream",
     "text": [
      "<class 'pandas.core.frame.DataFrame'>\n",
      "RangeIndex: 21525 entries, 0 to 21524\n",
      "Data columns (total 12 columns):\n",
      "children            21525 non-null int64\n",
      "days_employed       19351 non-null float64\n",
      "dob_years           21525 non-null int64\n",
      "education           21525 non-null object\n",
      "education_id        21525 non-null int64\n",
      "family_status       21525 non-null object\n",
      "family_status_id    21525 non-null int64\n",
      "gender              21525 non-null object\n",
      "income_type         21525 non-null object\n",
      "debt                21525 non-null int64\n",
      "total_income        19351 non-null float64\n",
      "purpose             21525 non-null object\n",
      "dtypes: float64(2), int64(5), object(5)\n",
      "memory usage: 2.0+ MB\n"
     ]
    }
   ],
   "source": [
    "import pandas as pd\n",
    "data = pd.read_csv('/datasets/data.csv')\n",
    "data.info()\n",
    "#data['debt'].value_counts()"
   ]
  },
  {
   "cell_type": "markdown",
   "metadata": {},
   "source": [
    "### Вывод"
   ]
  },
  {
   "cell_type": "markdown",
   "metadata": {},
   "source": [
    "Предварительно: пропуски в колонках 'days_employed' и 'total_income' - взаимосвязаны. Если человек не работает, у него нет и дохода. Но это не точно.\n",
    "Для решения дазачи - достаточно анализа количества детей и семейного положения. Однако, есть смысл сразу привести в порядок и категоризировать все данные."
   ]
  },
  {
   "cell_type": "markdown",
   "metadata": {},
   "source": [
    "<font color='green'>Данные загружены и предварительно изучены, отлично. Справочные методы и выводы лучше не комментировать, оставлять, как есть.</font>"
   ]
  },
  {
   "cell_type": "markdown",
   "metadata": {},
   "source": [
    "### Шаг 2. Предобработка данных"
   ]
  },
  {
   "cell_type": "markdown",
   "metadata": {},
   "source": [
    "### Обработка пропусков"
   ]
  },
  {
   "cell_type": "code",
   "execution_count": 2,
   "metadata": {
    "scrolled": false
   },
   "outputs": [
    {
     "data": {
      "text/plain": [
       "[128074.39889137895]    754\n",
       "[106080.38055066072]    309\n",
       "[149591.92013992445]    273\n",
       "[155586.80699394172]    210\n",
       "[190868.872424983]      178\n",
       "                       ... \n",
       "218463.20899321188        1\n",
       "120162.186005545          1\n",
       "111248.05145536334        1\n",
       "240532.4343958589         1\n",
       "81054.28860716878         1\n",
       "Name: total_income, Length: 19392, dtype: int64"
      ]
     },
     "execution_count": 2,
     "metadata": {},
     "output_type": "execute_result"
    }
   ],
   "source": [
    "# т.к. все колонки, в которых пропуски 'na' имеют вид float - можем заменить все предварительно на '0'\n",
    "# это колонки 'days_employed' и 'total_income' \n",
    "# в других колонках пропусков нет, ничего не потеряем\n",
    "data = data.fillna(0)\n",
    "\n",
    "# отрицательные числа в колонке 'children' заменим на такие же, но положительные \n",
    "# предположим, что ошибка ввода\n",
    "data['children'] = data['children'].replace(-1, 1)\n",
    "\n",
    "# заменим нулевые значения дохода средними по образованию и типу дохода\n",
    "data_by_education_and_income_type = data.pivot_table(index = ['education', 'income_type'],\n",
    "                                                     values = 'total_income', \n",
    "                                                     aggfunc = 'median').reset_index()\n",
    "\n",
    "# напишем функцию, которая заменит нулевое значение в колонке общего дохода \n",
    "# медианным значением, вычисленным по двум колонкам - образованию и типу дохода\n",
    "def replace_total_income(row):\n",
    "    \n",
    "    current_education = row['education']\n",
    "    current_income_type = row['income_type']\n",
    "    current_total_income = row['total_income']\n",
    "    \n",
    "    if current_total_income == 0:\n",
    "        return data_by_education_and_income_type[(data_by_education_and_income_type['education']==current_education)&\n",
    "                                                 (data_by_education_and_income_type['income_type']==current_income_type)]['total_income']\n",
    "    else:\n",
    "        return current_total_income\n",
    "    \n",
    "# применим функцию к таблице\n",
    "data['total_income'] = data.apply(replace_total_income, axis=1)        \n",
    "\n",
    "data['total_income'].value_counts()"
   ]
  },
  {
   "cell_type": "markdown",
   "metadata": {},
   "source": [
    "### Вывод"
   ]
  },
  {
   "cell_type": "markdown",
   "metadata": {},
   "source": [
    "Т.к. все колонки, в которых пропуски имеют вид float - можем заменить все предварительно на '0'. Это колонки 'days_employed' и 'total_income', в других колонках пропусков нет, ничего не потеряем.\n",
    "После замены, количество данных во всех колонках совпадает с длиной таблицы. Пропусков нет.\n",
    "\n",
    "Также считаю необходимым сразу заменить отрицательные значения в колонке 'children' на положительные."
   ]
  },
  {
   "cell_type": "markdown",
   "metadata": {},
   "source": [
    "<font color='grey'>Заменять возраст не стал, т.к. не нашел однозначных данных, чтобы его вычислить. Совокупный доход заменил на медианное значение по ключу категорий \"образование\" и \"вид дохода\". Что касается количества детей. Конечно, скорее всего, число **20** - это ошибка ввода и его можно заменить на **2**. Можно было провести также проверку по возрасту. Не заменил значение, потому что:\n",
    "    \n",
    "<font color='grey'>1. Такая ситуация возможна в жизни.\n",
    "        \n",
    "<font color='grey'>2. Нет необходимости проверять зависимость от количества детей, только от их наличия.\n",
    "        \n",
    "<font color='grey'>3. Понимаю, что влияет на написанную ниже функцию определения категории уровня дохода.\n",
    "        "
   ]
  },
  {
   "cell_type": "markdown",
   "metadata": {},
   "source": [
    "### Замена типа данных"
   ]
  },
  {
   "cell_type": "code",
   "execution_count": 3,
   "metadata": {},
   "outputs": [
    {
     "name": "stdout",
     "output_type": "stream",
     "text": [
      "<class 'pandas.core.frame.DataFrame'>\n",
      "RangeIndex: 21525 entries, 0 to 21524\n",
      "Data columns (total 12 columns):\n",
      "children            21525 non-null int64\n",
      "days_employed       21525 non-null int64\n",
      "dob_years           21525 non-null int64\n",
      "education           21525 non-null object\n",
      "education_id        21525 non-null int64\n",
      "family_status       21525 non-null object\n",
      "family_status_id    21525 non-null int64\n",
      "gender              21525 non-null object\n",
      "income_type         21525 non-null object\n",
      "debt                21525 non-null int64\n",
      "total_income        21525 non-null int64\n",
      "purpose             21525 non-null object\n",
      "dtypes: int64(7), object(5)\n",
      "memory usage: 2.0+ MB\n"
     ]
    }
   ],
   "source": [
    "data['days_employed'] = data['days_employed'].astype('int')\n",
    "data['total_income'] = data['total_income'].astype('int')\n",
    "data.info()"
   ]
  },
  {
   "cell_type": "markdown",
   "metadata": {},
   "source": [
    "### Вывод"
   ]
  },
  {
   "cell_type": "markdown",
   "metadata": {},
   "source": [
    "Заменили данные float на целочисленные. Во-первых, так сказано в задании, во-вторых, в тех колонках, где был тип с плавающей точкой, не теряем в точности, т.к. это дни занятости и доход. Копейки и минуты вряд-ли повлияют на результат."
   ]
  },
  {
   "cell_type": "markdown",
   "metadata": {},
   "source": [
    "### Обработка дубликатов"
   ]
  },
  {
   "cell_type": "code",
   "execution_count": 4,
   "metadata": {},
   "outputs": [
    {
     "data": {
      "text/plain": [
       "среднее                15233\n",
       "высшее                  5260\n",
       "неоконченное высшее      744\n",
       "начальное                282\n",
       "ученая степень             6\n",
       "Name: education, dtype: int64"
      ]
     },
     "execution_count": 4,
     "metadata": {},
     "output_type": "execute_result"
    }
   ],
   "source": [
    "# для образования - самый лучший способ - привести к нижнему регистру\n",
    "data['education'] = data['education'].str.lower()\n",
    "data['education'].value_counts()"
   ]
  },
  {
   "cell_type": "markdown",
   "metadata": {},
   "source": [
    "### Вывод"
   ]
  },
  {
   "cell_type": "markdown",
   "metadata": {},
   "source": [
    "Дубликаты в данных нашел только в образовании. Причина - скорее всего текстовое поле для заполнения или несколько источников."
   ]
  },
  {
   "cell_type": "markdown",
   "metadata": {},
   "source": [
    "### Лемматизация"
   ]
  },
  {
   "cell_type": "code",
   "execution_count": 5,
   "metadata": {},
   "outputs": [
    {
     "data": {
      "text/plain": [
       "Counter({'покупка': 5912,\n",
       "         ' ': 33677,\n",
       "         'жилье': 4473,\n",
       "         ',': 21524,\n",
       "         'приобретение': 462,\n",
       "         'автомобиль': 4315,\n",
       "         'дополнительный': 909,\n",
       "         'образование': 4022,\n",
       "         'сыграть': 774,\n",
       "         'свадьба': 2348,\n",
       "         'операция': 2610,\n",
       "         'с': 2924,\n",
       "         'на': 2233,\n",
       "         'проведение': 777,\n",
       "         'для': 1294,\n",
       "         'семья': 641,\n",
       "         'недвижимость': 6367,\n",
       "         'коммерческий': 1315,\n",
       "         'жилой': 1233,\n",
       "         'строительство': 1881,\n",
       "         'собственный': 635,\n",
       "         'подержать': 858,\n",
       "         'свой': 2235,\n",
       "         'со': 630,\n",
       "         'заниматься': 908,\n",
       "         'сделка': 944,\n",
       "         'получение': 1316,\n",
       "         'высокий': 1375,\n",
       "         'подержанный': 110,\n",
       "         'профильный': 436,\n",
       "         'сдача': 653,\n",
       "         'ремонт': 612,\n",
       "         '\\n': 1})"
      ]
     },
     "execution_count": 5,
     "metadata": {},
     "output_type": "execute_result"
    }
   ],
   "source": [
    "\n",
    "# импортируем библиотеку лемматизации\n",
    "from pymystem3 import Mystem\n",
    "m = Mystem()\n",
    "\n",
    "# для обработки таблицы создадим метод, лемматизирующий строку\n",
    "def lemmatize_row(row):\n",
    "    return m.lemmatize(row)\n",
    "\n",
    "# на всякий случай запишем данные в новую колонку\n",
    "data['purpose_lemmatized'] = data['purpose'].apply(lemmatize_row)\n",
    "\n",
    "# объединим все цели и лемматизируем строку\n",
    "full_string_lemmas = m.lemmatize(','.join(data['purpose']))\n",
    "\n",
    "# посчитаем количество уникальных\n",
    "from collections import Counter\n",
    "counter_lemmas = Counter(full_string_lemmas)\n",
    "\n",
    "counter_lemmas\n",
    "#data['purpose_lemmatized'].value_counts()"
   ]
  },
  {
   "cell_type": "markdown",
   "metadata": {},
   "source": [
    "### Вывод"
   ]
  },
  {
   "cell_type": "markdown",
   "metadata": {},
   "source": [
    "Основные цели (на первый взгляд) - недвижимость, автомобили и образование. Хотя встречаются уникумы, которые берут кредит на свадьбу)). Для остальных текстовых полей лемматизация не требуется, т.к. там более однозначные понятия, пригодные для категоризации без предварительной лемматизации."
   ]
  },
  {
   "cell_type": "markdown",
   "metadata": {},
   "source": [
    "<font color='grey'>В текущей задаче - не самый лучший способ для данной выборки. Т.к. достаточно часто встречается слово 'операция'. В моем случае, его видно, т.к. оно всегда стоит рядом с \"недвижимость\" или \"жилье\". А в общем списке - можно ошибиться."
   ]
  },
  {
   "cell_type": "markdown",
   "metadata": {},
   "source": [
    "### Категоризация данных"
   ]
  },
  {
   "cell_type": "code",
   "execution_count": 6,
   "metadata": {},
   "outputs": [
    {
     "data": {
      "text/plain": [
       "личная недвижимость          8872\n",
       "автомобиль                   4315\n",
       "образование                  4022\n",
       "свадьба                      2348\n",
       "коммерческая недвижимость    1968\n",
       "Name: purpose_category, dtype: int64"
      ]
     },
     "execution_count": 6,
     "metadata": {},
     "output_type": "execute_result"
    }
   ],
   "source": [
    "# категоризируем семейное положение\n",
    "# официальный брак от гражданского отличается только штампом в паспорте. \n",
    "# приравняем эти понятия\n",
    "# то же касается всех остальных понятий - приравняем их к \"незамужнести\"\n",
    "# и на всякий случай приведем к нижнему регистру\n",
    "\n",
    "# для обработки семейного положения создадим метод, возвращающий категорию\n",
    "def categorize_family_status(row):\n",
    "    if (row == 'гражданский брак'):\n",
    "        return 'женат / замужем'\n",
    "    elif (row == 'в разводе') or (row == 'вдовец / вдова'):\n",
    "        return 'не женат / не замужем'\n",
    "    else:    \n",
    "        return row.lower()\n",
    "\n",
    "data['family_category'] = data['family_status'].apply(categorize_family_status)\n",
    "#data['family_category'].value_counts()\n",
    "\n",
    "\n",
    "\n",
    "# категоризируем тип дохода\n",
    "# делим на три типа: доход от бизнеса, заработная плата, поступления из бюджета\n",
    "\n",
    "# для обработки типа дохода создадим метод, возвращающий категорию\n",
    "def categorize_income_type(row):\n",
    "    if (row == 'сотрудник'):\n",
    "        return 'заработная плата'\n",
    "    elif (row == 'компаньон') or (row == 'предприниматель'):\n",
    "        return 'доход от бизнеса'\n",
    "    else:    \n",
    "        return 'поступления из бюджета'\n",
    "\n",
    "data['income_category'] = data['income_type'].apply(categorize_income_type)\n",
    "#data['income_category'].value_counts()\n",
    "\n",
    "\n",
    "\n",
    "#data['income_category', 'family_category'].head(20)\n",
    "#data.head(20)\n",
    "\n",
    "# для уровня дохода необходимо вычислить доход на члена семьи и затем его привязать к официальному классификатору \n",
    "def categorize_total_income(row):\n",
    "    # получим общий доход один раз\n",
    "    total_income = row['total_income']\n",
    "    \n",
    "    # получим количество детей\n",
    "    children_count = row['children']\n",
    "    \n",
    "    # добавим количество взрослых\n",
    "    if (row['family_category'] == 'не женат / не замужем'):\n",
    "        adults_count = 1\n",
    "    else:\n",
    "        adults_count = 2\n",
    "    \n",
    "    #получим доход на члена семьи\n",
    "    income_per_member = (total_income - 1000 * children_count) / (children_count + adults_count)\n",
    "\n",
    "    # вернем категорию в зависмости от дохода\n",
    "    if income_per_member == 0:\n",
    "        return 'AXX'\n",
    "    elif income_per_member <= 10000:\n",
    "        return 'A01'\n",
    "    elif income_per_member <= 15000:\n",
    "        return 'A02'\n",
    "    elif income_per_member <= 18000:\n",
    "        return 'A03'\n",
    "    elif income_per_member <= 36000:\n",
    "        return 'A04'\n",
    "    elif income_per_member <= 100000:\n",
    "        return 'A05'\n",
    "    elif income_per_member <= 150000:\n",
    "        return 'A06'\n",
    "    elif income_per_member <= 250000:\n",
    "        return 'A07'\n",
    "    elif income_per_member <= 500000:\n",
    "        return 'A08'\n",
    "    elif income_per_member <= 1000000:\n",
    "        return 'A09'\n",
    "    else:\n",
    "        return 'A10'\n",
    "    \n",
    "data['income_level'] = data.apply(categorize_total_income, axis=1)        \n",
    "    \n",
    "#data.info()\n",
    "\n",
    "# выделим категорию бездетных\n",
    "def categorize_having_children(row):\n",
    "    if (row == 0):\n",
    "        return 0\n",
    "    else:    \n",
    "        return 1\n",
    "\n",
    "data['children_having'] = data['children'].apply(categorize_having_children)\n",
    "#data['children_having'].value_counts()\n",
    "\n",
    "# категоризируем цель кредита\n",
    "data['purpose_lemmatized'].value_counts()\n",
    "\n",
    "def categorize_purpose(row):\n",
    "    # проверим, на что кредит\n",
    "    category = 'автомобиль'\n",
    "\n",
    "    #if ('ремонт' in row):\n",
    "    #    return \"ремонт\"\n",
    "    #elif ('автомобиль' in row):\n",
    "    if ('автомобиль' in row):\n",
    "        return 'автомобиль'\n",
    "    elif ('недвижимость' in row):\n",
    "        if ('коммерческий' in row):\n",
    "            return 'коммерческая недвижимость'\n",
    "        else:    \n",
    "            return 'личная недвижимость'\n",
    "    elif ('жилье' in row):\n",
    "        if ('сдача' in row):\n",
    "            return 'коммерческая недвижимость'\n",
    "        else:    \n",
    "            return 'личная недвижимость'\n",
    "    elif ('образование' in row):\n",
    "        return \"образование\"\n",
    "    elif ('свадьба' in row):\n",
    "        return \"свадьба\"\n",
    "    else:    \n",
    "        return \"прочее\"\n",
    "\n",
    "data['purpose_category'] = data['purpose_lemmatized'].apply(categorize_purpose)\n",
    "\n",
    "#data[data['purpose_category']=='прочее']['purpose_lemmatized'].value_counts()\n",
    "data['purpose_category'].value_counts()\n",
    "\n",
    "#data"
   ]
  },
  {
   "cell_type": "markdown",
   "metadata": {},
   "source": [
    "### Вывод"
   ]
  },
  {
   "cell_type": "markdown",
   "metadata": {},
   "source": [
    "При категоризации семейного положения принял за основу следующие утверждения:\n",
    "\n",
    "1. Официальный брак от гражданского отличается только штампом в паспорте, соответственно это одна категория\n",
    "2. Все остальные категории считаем \"незамужними\"\n",
    "\n",
    "При категоризации типа дохода выделил три категории:\n",
    "\n",
    "1. доход от бизнеса - партнеры и предприниматели \n",
    "2. заработная плата - сотрудники\n",
    "3. поступления из бюджета - пенсионеры, госслужащие, студенты, декретники, безработные и пр.\n",
    "\n",
    "Для категоризации уровня дохода взял официальный классификатор категорий (от A1 до A10). Расчет выполняется исходя из уровня дохода на члена семьи. При этом на ребенка необходима +1 000 рублей. Расчет категории делается следующим образом. Вычисляется количество детей и от общего дохода отнимается по 1 000 рублей на каждого ребенка. После этого вычисляется общее количество членов семьи и оставшийся совокупный доход делится на их количество. Исходя из этой суммы и вычисляется категория. Отдельно выделил тех, кто не указал доход (категория AXX).\n",
    "\n",
    "По условию необходимо проверить гипотезу, влияет ли наличие детей на честность заемщика. Поэтому только две категории - есть дети или нет.\n",
    "\n",
    "Для категоризации цели кредитования выделил пять категорий, найденных в леммах:\n",
    "\n",
    "1. личная недвижимость\n",
    "2. автомобиль\n",
    "3. образование\n",
    "4. свадьба\n",
    "5. коммерческая недвижимость\n",
    "\n",
    "Принял решение разделить личную и коммерческую недвижимость, т.к. по сути это разные цели. Ремонт недвижимости отдельно не выделял."
   ]
  },
  {
   "cell_type": "markdown",
   "metadata": {},
   "source": [
    "### Шаг 3. Ответьте на вопросы"
   ]
  },
  {
   "cell_type": "markdown",
   "metadata": {},
   "source": [
    "- Есть ли зависимость между наличием детей и возвратом кредита в срок?"
   ]
  },
  {
   "cell_type": "code",
   "execution_count": 7,
   "metadata": {},
   "outputs": [
    {
     "data": {
      "text/html": [
       "<div>\n",
       "<style scoped>\n",
       "    .dataframe tbody tr th:only-of-type {\n",
       "        vertical-align: middle;\n",
       "    }\n",
       "\n",
       "    .dataframe tbody tr th {\n",
       "        vertical-align: top;\n",
       "    }\n",
       "\n",
       "    .dataframe thead tr th {\n",
       "        text-align: left;\n",
       "    }\n",
       "</style>\n",
       "<table border=\"1\" class=\"dataframe\">\n",
       "  <thead>\n",
       "    <tr>\n",
       "      <th></th>\n",
       "      <th>children_having</th>\n",
       "      <th>count</th>\n",
       "      <th>sum</th>\n",
       "      <th>debt_percentage</th>\n",
       "    </tr>\n",
       "    <tr>\n",
       "      <th></th>\n",
       "      <th></th>\n",
       "      <th>debt</th>\n",
       "      <th>debt</th>\n",
       "      <th></th>\n",
       "    </tr>\n",
       "  </thead>\n",
       "  <tbody>\n",
       "    <tr>\n",
       "      <td>0</td>\n",
       "      <td>0</td>\n",
       "      <td>14149</td>\n",
       "      <td>1063</td>\n",
       "      <td>0.075129</td>\n",
       "    </tr>\n",
       "    <tr>\n",
       "      <td>1</td>\n",
       "      <td>1</td>\n",
       "      <td>7376</td>\n",
       "      <td>678</td>\n",
       "      <td>0.091920</td>\n",
       "    </tr>\n",
       "  </tbody>\n",
       "</table>\n",
       "</div>"
      ],
      "text/plain": [
       "  children_having  count   sum debt_percentage\n",
       "                    debt  debt                \n",
       "0               0  14149  1063        0.075129\n",
       "1               1   7376   678        0.091920"
      ]
     },
     "execution_count": 7,
     "metadata": {},
     "output_type": "execute_result"
    }
   ],
   "source": [
    "# всего заемщиков с детьми\n",
    "#with_children = data[data['children_having']==1]['children_having'].count()\n",
    "\n",
    "# всего заемщиков без детей\n",
    "#without_children = data[data['children_having']==0]['children_having'].count()\n",
    "\n",
    "# количество должников с детьми\n",
    "#with_children_with_debt = data[(data['children_having']==1)&(data['debt']==1)]['children_having'].count()\n",
    "\n",
    "# количество должников без детей\n",
    "#without_children_with_debt = data[(data['children_having']==0)&(data['debt']==1)]['children_having'].count()\n",
    "\n",
    "# процент должников с детьми\n",
    "#percentage_debt_with_children = with_children_with_debt / with_children\n",
    "\n",
    "# процент должников без детей\n",
    "#percentage_debt_without_children = without_children_with_debt / without_children\n",
    "\n",
    "#percentage_debt_with_children\n",
    "#percentage_debt_without_children\n",
    "\n",
    "# соотношение должников\n",
    "#if percentage_debt_with_children > percentage_debt_without_children:\n",
    "#    dividing_of_percentage = (percentage_debt_with_children - percentage_debt_without_children) / percentage_debt_without_children\n",
    "#else:\n",
    "#    dividing_of_percentage = (percentage_debt_without_children - percentage_debt_with_children) / percentage_debt_with_children\n",
    "    \n",
    "#dividing_of_percentage\n",
    "\n",
    "data_children_levels = data.pivot_table(index = ['children_having'],\n",
    "                                                     values = 'debt', \n",
    "                                                     aggfunc = ['count', 'sum']).reset_index()\n",
    "\n",
    "data_children_levels['debt_percentage'] = data_children_levels['sum'] / data_children_levels['count']\n",
    "\n",
    "data_children_levels\n"
   ]
  },
  {
   "cell_type": "markdown",
   "metadata": {},
   "source": [
    "### Вывод"
   ]
  },
  {
   "cell_type": "markdown",
   "metadata": {},
   "source": [
    "<font color='grey'>Разница в ответственности между заемщиками, имеющими детей и не имеющими детей несущественна - 9,1% и 7,5% соответственно. Разница составляет 1,6 %. Возможно, это погрешность выборки, обусловленная тем, что заемщиков без детей в выборке почти в два раза больше, чем заемщиков с детьми. То есть из 1000 человек не отдадут кредит на 16 человек больше.\n",
    "\n",
    "Гипотеза подтверждается."
   ]
  },
  {
   "cell_type": "markdown",
   "metadata": {},
   "source": [
    "- Есть ли зависимость между семейным положением и возвратом кредита в срок?"
   ]
  },
  {
   "cell_type": "code",
   "execution_count": 8,
   "metadata": {},
   "outputs": [
    {
     "data": {
      "text/html": [
       "<div>\n",
       "<style scoped>\n",
       "    .dataframe tbody tr th:only-of-type {\n",
       "        vertical-align: middle;\n",
       "    }\n",
       "\n",
       "    .dataframe tbody tr th {\n",
       "        vertical-align: top;\n",
       "    }\n",
       "\n",
       "    .dataframe thead tr th {\n",
       "        text-align: left;\n",
       "    }\n",
       "</style>\n",
       "<table border=\"1\" class=\"dataframe\">\n",
       "  <thead>\n",
       "    <tr>\n",
       "      <th></th>\n",
       "      <th>family_category</th>\n",
       "      <th>count</th>\n",
       "      <th>sum</th>\n",
       "      <th>debt_percentage</th>\n",
       "    </tr>\n",
       "    <tr>\n",
       "      <th></th>\n",
       "      <th></th>\n",
       "      <th>debt</th>\n",
       "      <th>debt</th>\n",
       "      <th></th>\n",
       "    </tr>\n",
       "  </thead>\n",
       "  <tbody>\n",
       "    <tr>\n",
       "      <td>0</td>\n",
       "      <td>женат / замужем</td>\n",
       "      <td>16557</td>\n",
       "      <td>1319</td>\n",
       "      <td>0.079664</td>\n",
       "    </tr>\n",
       "    <tr>\n",
       "      <td>1</td>\n",
       "      <td>не женат / не замужем</td>\n",
       "      <td>4968</td>\n",
       "      <td>422</td>\n",
       "      <td>0.084944</td>\n",
       "    </tr>\n",
       "  </tbody>\n",
       "</table>\n",
       "</div>"
      ],
      "text/plain": [
       "         family_category  count   sum debt_percentage\n",
       "                           debt  debt                \n",
       "0        женат / замужем  16557  1319        0.079664\n",
       "1  не женат / не замужем   4968   422        0.084944"
      ]
     },
     "execution_count": 8,
     "metadata": {},
     "output_type": "execute_result"
    }
   ],
   "source": [
    "# всего заемщиков живущих в паре\n",
    "#pairs = data[data['family_category']=='женат / замужем']['children_having'].count()\n",
    "\n",
    "# всего заемщиков живущих отдельно\n",
    "#single = data[data['family_category']=='не женат / не замужем']['children_having'].count()\n",
    "\n",
    "# количество должников живущих в паре\n",
    "#pairs_with_debt = data[(data['family_category']=='женат / замужем')&(data['debt']==1)]['children_having'].count()\n",
    "\n",
    "# количество должников живущих отдельно\n",
    "#single_with_debt = data[(data['family_category']=='не женат / не замужем')&(data['debt']==1)]['children_having'].count()\n",
    "\n",
    "# процент должников живущих в паре\n",
    "#percentage_debt_pairs = pairs_with_debt / pairs\n",
    "\n",
    "# процент должников живущих отдельно\n",
    "#percentage_debt_single = single_with_debt / single\n",
    "\n",
    "#if percentage_debt_pairs > percentage_debt_single:\n",
    "#    dividing_of_percentage = (percentage_debt_pairs - percentage_debt_single) / percentage_debt_single\n",
    "#else:\n",
    "#    dividing_of_percentage = (percentage_debt_single - percentage_debt_pairs) / percentage_debt_pairs\n",
    "    \n",
    "#dividing_of_percentage\n",
    "#percentage_debt_pairs\n",
    "#percentage_debt_single\n",
    "\n",
    "data_family_levels = data.pivot_table(index = ['family_category'],\n",
    "                                                     values = 'debt', \n",
    "                                                     aggfunc = ['count', 'sum']).reset_index()\n",
    "\n",
    "data_family_levels['debt_percentage'] = data_family_levels['sum'] / data_family_levels['count']\n",
    "\n",
    "data_family_levels"
   ]
  },
  {
   "cell_type": "markdown",
   "metadata": {},
   "source": [
    "### Вывод"
   ]
  },
  {
   "cell_type": "markdown",
   "metadata": {},
   "source": [
    "Разница в ответственности между заемщиками, живущими в парах и живущими отдельно несущественна 7,9% и 8,4% соответственно. \n",
    "Отношение нечестных земщиков между этими категориями также несущественно. Разница составляет всего - 6,6%.\n",
    "\n",
    "Гипотеза не подтверждается."
   ]
  },
  {
   "cell_type": "markdown",
   "metadata": {},
   "source": [
    "- Есть ли зависимость между уровнем дохода и возвратом кредита в срок?"
   ]
  },
  {
   "cell_type": "code",
   "execution_count": 9,
   "metadata": {},
   "outputs": [
    {
     "data": {
      "text/html": [
       "<div>\n",
       "<style scoped>\n",
       "    .dataframe tbody tr th:only-of-type {\n",
       "        vertical-align: middle;\n",
       "    }\n",
       "\n",
       "    .dataframe tbody tr th {\n",
       "        vertical-align: top;\n",
       "    }\n",
       "\n",
       "    .dataframe thead tr th {\n",
       "        text-align: left;\n",
       "    }\n",
       "</style>\n",
       "<table border=\"1\" class=\"dataframe\">\n",
       "  <thead>\n",
       "    <tr>\n",
       "      <th></th>\n",
       "      <th>income_level</th>\n",
       "      <th>count</th>\n",
       "      <th>sum</th>\n",
       "      <th>debt_percentage</th>\n",
       "    </tr>\n",
       "    <tr>\n",
       "      <th></th>\n",
       "      <th></th>\n",
       "      <th>debt</th>\n",
       "      <th>debt</th>\n",
       "      <th></th>\n",
       "    </tr>\n",
       "  </thead>\n",
       "  <tbody>\n",
       "    <tr>\n",
       "      <td>0</td>\n",
       "      <td>A01</td>\n",
       "      <td>87</td>\n",
       "      <td>9</td>\n",
       "      <td>0.103448</td>\n",
       "    </tr>\n",
       "    <tr>\n",
       "      <td>1</td>\n",
       "      <td>A02</td>\n",
       "      <td>134</td>\n",
       "      <td>17</td>\n",
       "      <td>0.126866</td>\n",
       "    </tr>\n",
       "    <tr>\n",
       "      <td>2</td>\n",
       "      <td>A03</td>\n",
       "      <td>199</td>\n",
       "      <td>10</td>\n",
       "      <td>0.050251</td>\n",
       "    </tr>\n",
       "    <tr>\n",
       "      <td>3</td>\n",
       "      <td>A04</td>\n",
       "      <td>2790</td>\n",
       "      <td>247</td>\n",
       "      <td>0.088530</td>\n",
       "    </tr>\n",
       "    <tr>\n",
       "      <td>4</td>\n",
       "      <td>A05</td>\n",
       "      <td>12322</td>\n",
       "      <td>1005</td>\n",
       "      <td>0.081561</td>\n",
       "    </tr>\n",
       "    <tr>\n",
       "      <td>5</td>\n",
       "      <td>A06</td>\n",
       "      <td>3485</td>\n",
       "      <td>255</td>\n",
       "      <td>0.073171</td>\n",
       "    </tr>\n",
       "    <tr>\n",
       "      <td>6</td>\n",
       "      <td>A07</td>\n",
       "      <td>1896</td>\n",
       "      <td>152</td>\n",
       "      <td>0.080169</td>\n",
       "    </tr>\n",
       "    <tr>\n",
       "      <td>7</td>\n",
       "      <td>A08</td>\n",
       "      <td>563</td>\n",
       "      <td>42</td>\n",
       "      <td>0.074600</td>\n",
       "    </tr>\n",
       "    <tr>\n",
       "      <td>8</td>\n",
       "      <td>A09</td>\n",
       "      <td>46</td>\n",
       "      <td>4</td>\n",
       "      <td>0.086957</td>\n",
       "    </tr>\n",
       "    <tr>\n",
       "      <td>9</td>\n",
       "      <td>A10</td>\n",
       "      <td>3</td>\n",
       "      <td>0</td>\n",
       "      <td>0.000000</td>\n",
       "    </tr>\n",
       "  </tbody>\n",
       "</table>\n",
       "</div>"
      ],
      "text/plain": [
       "  income_level  count   sum debt_percentage\n",
       "                 debt  debt                \n",
       "0          A01     87     9        0.103448\n",
       "1          A02    134    17        0.126866\n",
       "2          A03    199    10        0.050251\n",
       "3          A04   2790   247        0.088530\n",
       "4          A05  12322  1005        0.081561\n",
       "5          A06   3485   255        0.073171\n",
       "6          A07   1896   152        0.080169\n",
       "7          A08    563    42        0.074600\n",
       "8          A09     46     4        0.086957\n",
       "9          A10      3     0        0.000000"
      ]
     },
     "execution_count": 9,
     "metadata": {},
     "output_type": "execute_result"
    }
   ],
   "source": [
    "# заменим нулевые значения дохода средними по образованию и типу дохода\n",
    "data_income_levels = data.pivot_table(index = ['income_level'],\n",
    "                                                     values = 'debt', \n",
    "                                                     aggfunc = ['count', 'sum']).reset_index()\n",
    "\n",
    "data_income_levels['debt_percentage'] = data_income_levels['sum'] / data_income_levels['count']\n",
    "\n",
    "#data_income_levels = data.groupby('income_level').agg({'debt': ['count', 'sum']})\n",
    "#data_income_levels['debt_percentage'] = data_income_levels['debt']['sum'] / data_income_levels['debt']['count']\n",
    "data_income_levels"
   ]
  },
  {
   "cell_type": "markdown",
   "metadata": {},
   "source": [
    "### Вывод"
   ]
  },
  {
   "cell_type": "markdown",
   "metadata": {},
   "source": [
    "На первый взгляд бросается в глаза большой процент в категории А2 (12,7%) и маленький в категории А3 (5%). Однако, если посмотреть на признаки категоризации, то это может быть погрешностью, т.к. уровень дохода на члена семьи в этих двух категориях 15 000 руб. и 18 000 руб., соответственно. Если же взять процент недобросовестных заемщиков по этим двум категориям, он будет 8,1%, что вполне соответствует общей выборке. Те, что не указали свой доход, также находятся в пределах того же процента, соответственно, гипотеза не подтвердилась.\n",
    "    \n",
    "<font color='grey'> Наибольший процент людей не отдающих кредиты - среди наиболее бедных слоев населения. Это категории А01 и А02. Это может быть вызвано погрешностью выборки, т.к. людей берущих кредиты в этой категории в выборке меньше всего. Если взять процент недобросовестных заемщиков по первым трем категориям, он будет составлять 8,5%, что вполне соответствует общей выборке, гипотеза не подтвердилась"
   ]
  },
  {
   "cell_type": "markdown",
   "metadata": {},
   "source": [
    "- Как разные цели кредита влияют на его возврат в срок?"
   ]
  },
  {
   "cell_type": "code",
   "execution_count": 10,
   "metadata": {},
   "outputs": [
    {
     "data": {
      "text/html": [
       "<div>\n",
       "<style scoped>\n",
       "    .dataframe tbody tr th:only-of-type {\n",
       "        vertical-align: middle;\n",
       "    }\n",
       "\n",
       "    .dataframe tbody tr th {\n",
       "        vertical-align: top;\n",
       "    }\n",
       "\n",
       "    .dataframe thead tr th {\n",
       "        text-align: left;\n",
       "    }\n",
       "</style>\n",
       "<table border=\"1\" class=\"dataframe\">\n",
       "  <thead>\n",
       "    <tr>\n",
       "      <th></th>\n",
       "      <th>purpose_category</th>\n",
       "      <th>count</th>\n",
       "      <th>sum</th>\n",
       "      <th>debt_percentage</th>\n",
       "    </tr>\n",
       "    <tr>\n",
       "      <th></th>\n",
       "      <th></th>\n",
       "      <th>debt</th>\n",
       "      <th>debt</th>\n",
       "      <th></th>\n",
       "    </tr>\n",
       "  </thead>\n",
       "  <tbody>\n",
       "    <tr>\n",
       "      <td>0</td>\n",
       "      <td>автомобиль</td>\n",
       "      <td>4315</td>\n",
       "      <td>403</td>\n",
       "      <td>0.093395</td>\n",
       "    </tr>\n",
       "    <tr>\n",
       "      <td>1</td>\n",
       "      <td>коммерческая недвижимость</td>\n",
       "      <td>1968</td>\n",
       "      <td>151</td>\n",
       "      <td>0.076728</td>\n",
       "    </tr>\n",
       "    <tr>\n",
       "      <td>2</td>\n",
       "      <td>личная недвижимость</td>\n",
       "      <td>8872</td>\n",
       "      <td>631</td>\n",
       "      <td>0.071123</td>\n",
       "    </tr>\n",
       "    <tr>\n",
       "      <td>3</td>\n",
       "      <td>образование</td>\n",
       "      <td>4022</td>\n",
       "      <td>370</td>\n",
       "      <td>0.091994</td>\n",
       "    </tr>\n",
       "    <tr>\n",
       "      <td>4</td>\n",
       "      <td>свадьба</td>\n",
       "      <td>2348</td>\n",
       "      <td>186</td>\n",
       "      <td>0.079216</td>\n",
       "    </tr>\n",
       "  </tbody>\n",
       "</table>\n",
       "</div>"
      ],
      "text/plain": [
       "            purpose_category count  sum debt_percentage\n",
       "                              debt debt                \n",
       "0                 автомобиль  4315  403        0.093395\n",
       "1  коммерческая недвижимость  1968  151        0.076728\n",
       "2        личная недвижимость  8872  631        0.071123\n",
       "3                образование  4022  370        0.091994\n",
       "4                    свадьба  2348  186        0.079216"
      ]
     },
     "execution_count": 10,
     "metadata": {},
     "output_type": "execute_result"
    }
   ],
   "source": [
    "data_goal_levels = data.pivot_table(index = ['purpose_category'],\n",
    "                                                     values = 'debt', \n",
    "                                                     aggfunc = ['count', 'sum']).reset_index()\n",
    "\n",
    "data_goal_levels['debt_percentage'] = data_goal_levels['sum'] / data_goal_levels['count']\n",
    "\n",
    "# data_goal_levels = data.groupby('purpose_category').agg({'debt': ['count', 'sum']})\n",
    "# data_goal_levels['debt_percentage'] = data_goal_levels['debt']['sum'] / data_goal_levels['debt']['count']\n",
    "\n",
    "data_goal_levels"
   ]
  },
  {
   "cell_type": "markdown",
   "metadata": {},
   "source": [
    "### Вывод"
   ]
  },
  {
   "cell_type": "markdown",
   "metadata": {},
   "source": [
    "Хуже всего с дисциплиной у тех, кто берет кредит на автомобиль и на образование. Однако разброс незначительный и я считаю что гипотеза не подтвердилась. "
   ]
  },
  {
   "cell_type": "markdown",
   "metadata": {},
   "source": [
    "### Шаг 4. Общий вывод"
   ]
  },
  {
   "cell_type": "markdown",
   "metadata": {},
   "source": [
    "<font color='grey'>**ВЫВОДЫ**\n",
    "    1. Наличие детей снижает вероятность возврата кредита в срок, поэтому более надежными будут заемщики не имеющие детей.\n",
    "    2. Малоимущие реже обращаются за кредитом и поэтому статистика по ним имеет достаточно большую погрешность. В целом, сказать, что они реже отдают кредиты, чем заемщики имеющие более высокий уровень дохода, нельзя. \n",
    "    3. Что касается целей кредита, самый высокий процент небодросовестных заемщиков - среди берущих кредит на покупку автомобиля (на 1,2% выше, чем в среднем по выборке). На втором месте - берущие кредит на образование (+1% к среднему по выборке). А самыми надежными заемщиками являются берущие кредит на недвижимость."
   ]
  },
  {
   "cell_type": "markdown",
   "metadata": {},
   "source": [
    "---"
   ]
  },
  {
   "cell_type": "markdown",
   "metadata": {},
   "source": [
    "### Чек-лист готовности проекта\n",
    "\n",
    "Поставьте 'x' в выполненных пунктах. Далее нажмите Shift+Enter."
   ]
  },
  {
   "cell_type": "markdown",
   "metadata": {},
   "source": [
    "- [x]  открыт файл;\n",
    "- [x]  файл изучен;\n",
    "- [x]  определены пропущенные значения;\n",
    "- [x]  заполнены пропущенные значения;\n",
    "- [x]  есть пояснение, какие пропущенные значения обнаружены;\n",
    "- [x]  описаны возможные причины появления пропусков в данных;\n",
    "- [x]  объяснено, по какому принципу заполнены пропуски;\n",
    "- [x]  заменен вещественный тип данных на целочисленный;\n",
    "- [x]  есть пояснение, какой метод используется для изменения типа данных и почему;\n",
    "- [x]  удалены дубликаты;\n",
    "- [x]  есть пояснение, какой метод используется для поиска и удаления дубликатов;\n",
    "- [x]  описаны возможные причины появления дубликатов в данных;\n",
    "- [x]  выделены леммы в значениях столбца с целями получения кредита;\n",
    "- [x]  описан процесс лемматизации;\n",
    "- [x]  данные категоризированы;\n",
    "- [x]  есть объяснение принципа категоризации данных;\n",
    "- [x]  есть ответ на вопрос: \"Есть ли зависимость между наличием детей и возвратом кредита в срок?\";\n",
    "- [x]  есть ответ на вопрос: \"Есть ли зависимость между семейным положением и возвратом кредита в срок?\";\n",
    "- [x]  есть ответ на вопрос: \"Есть ли зависимость между уровнем дохода и возвратом кредита в срок?\";\n",
    "- [x]  есть ответ на вопрос: \"Как разные цели кредита влияют на его возврат в срок?\";\n",
    "- [x]  в каждом этапе есть выводы;\n",
    "- [x]  есть общий вывод."
   ]
  },
  {
   "cell_type": "code",
   "execution_count": null,
   "metadata": {},
   "outputs": [],
   "source": []
  }
 ],
 "metadata": {
  "kernelspec": {
   "display_name": "Python 3",
   "language": "python",
   "name": "python3"
  },
  "language_info": {
   "codemirror_mode": {
    "name": "ipython",
    "version": 3
   },
   "file_extension": ".py",
   "mimetype": "text/x-python",
   "name": "python",
   "nbconvert_exporter": "python",
   "pygments_lexer": "ipython3",
   "version": "3.8.3"
  }
 },
 "nbformat": 4,
 "nbformat_minor": 2
}
